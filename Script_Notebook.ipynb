{
 "cells": [
  {
   "cell_type": "code",
   "execution_count": 1,
   "id": "59882720-17b6-4466-84a8-be4688c70633",
   "metadata": {},
   "outputs": [],
   "source": [
    "import pandas as pd\n",
    "# import numpy as np\n",
    "import re\n",
    "\n",
    "# from tabula import read_pdf\n",
    "# from tabulate import tabulate\n",
    "# import pdfplumber\n",
    "import openpyxl\n",
    "\n",
    "from Script import ExtractPDFTables, MapLinks2Excel"
   ]
  },
  {
   "cell_type": "markdown",
   "id": "20def67c-69c4-4e66-8379-e9b460d651ab",
   "metadata": {
    "jp-MarkdownHeadingCollapsed": true,
    "tags": []
   },
   "source": [
    "# 1 .Table Extraction and Mapping (SGD-GRI Link)"
   ]
  },
  {
   "cell_type": "code",
   "execution_count": 4,
   "id": "d47e7196-e6d5-4f4d-ba51-1b2f668211c7",
   "metadata": {},
   "outputs": [
    {
     "name": "stdin",
     "output_type": "stream",
     "text": [
      "Are you going to map GRI on SDG sheet? (yes or no):  no\n"
     ]
    }
   ],
   "source": [
    "pdf_path = 'ESG-Frameworks/Mapping-Standards/SDG-GRI/sdg-gri.pdf'\n",
    "page_range = [list(range(3, 73)), list(range(74, 99))]\n",
    "area = [80.51, 90.42, 561.96, 814.18]\n",
    "\n",
    "tableTCFD_GRI = ExtractPDFTables(pdf_path, page_range, area)\n",
    "df = tableTCFD_GRI.getTablesSDG_GRI('ESG-Frameworks/ESG Data/SDG_info.csv')"
   ]
  },
  {
   "cell_type": "markdown",
   "id": "078fde49-d6ba-4743-9ff5-1b4a42e69214",
   "metadata": {
    "tags": []
   },
   "source": [
    "## Mapping Collected Dataframe (SDG-GRI)"
   ]
  },
  {
   "cell_type": "code",
   "execution_count": 3,
   "id": "1c967a7e-e7c5-4884-ba83-abc09558ea11",
   "metadata": {},
   "outputs": [
    {
     "data": {
      "text/plain": [
       "\"SDG's sheet from Excel file have bee mapped\""
      ]
     },
     "execution_count": 3,
     "metadata": {},
     "output_type": "execute_result"
    }
   ],
   "source": [
    "excelFilePath = 'ESG-Frameworks/Outputs/testing.xlsx'\n",
    "sheet = \"SDG's\"\n",
    "\n",
    "mapp = MapLinks2Excel(df, sheet, excelFilePath)\n",
    "mapp.MapSDG_GRI()"
   ]
  },
  {
   "cell_type": "markdown",
   "id": "b80f2f59-c77b-43b9-b751-79939c674e27",
   "metadata": {
    "tags": []
   },
   "source": [
    "## Mapping Collected Dataframe (GRI-SDG)"
   ]
  },
  {
   "cell_type": "code",
   "execution_count": 5,
   "id": "f823e872-612b-4cd8-85c2-05006fba3b29",
   "metadata": {},
   "outputs": [
    {
     "data": {
      "text/plain": [
       "'GRI 2016 sheet from Excel file have bee mapped'"
      ]
     },
     "execution_count": 5,
     "metadata": {},
     "output_type": "execute_result"
    }
   ],
   "source": [
    "excelFilePath = 'ESG-Frameworks/Outputs/testing.xlsx'\n",
    "sheet = \"GRI 2016\"\n",
    "\n",
    "mapp = MapLinks2Excel(df, sheet, excelFilePath)\n",
    "mapp.MapGRI_SDG()"
   ]
  },
  {
   "cell_type": "markdown",
   "id": "ae114af1-8f87-497e-a767-ea0743a443bd",
   "metadata": {
    "jp-MarkdownHeadingCollapsed": true,
    "tags": []
   },
   "source": [
    "# 2. Table Extraction and Mapping (COH4B-GRI Link)"
   ]
  },
  {
   "cell_type": "code",
   "execution_count": 11,
   "id": "7f631077-11a1-49a1-ac29-8cec801fc1ed",
   "metadata": {},
   "outputs": [],
   "source": [
    "pdf_path = 'ESG-Frameworks/Mapping-Standards/GRI-COH4B/gri-coh4b.pdf'\n",
    "page_range = list(range(13, 22))\n",
    "\n",
    "\n",
    "tableGRI_COH4B = ExtractPDFTables(pdf_path, page_range)\n",
    "df = tableGRI_COH4B.getTablesGRI_COH4B()\n",
    "df = tableGRI_COH4B.setHeaders(df, 0)\n",
    "df = tableGRI_COH4B.headerSwap(df, 'A. COHBP & \\ndefinition', None, 'id')\n",
    "df = tableGRI_COH4B.addDot(df, 'id')\n",
    "\n",
    "\n",
    "\n",
    "df = tableGRI_COH4B.extractDisclosures_deprecated(df, 'D. GRI disclosures', 'GRI Standards', '[0-9]{3}-[0-9]{2}|[0-9]{3}-[0-9]{1}', re.search)\n",
    "\n"
   ]
  },
  {
   "cell_type": "code",
   "execution_count": null,
   "id": "a787443a-29cb-4ed9-9580-ba4e267ef7bf",
   "metadata": {},
   "outputs": [],
   "source": []
  },
  {
   "cell_type": "markdown",
   "id": "581c6779-e60c-4c9e-a9dc-ae2081afb4e8",
   "metadata": {
    "tags": []
   },
   "source": [
    "## Mapping Collected Dataframe (COH4B-GRI)"
   ]
  },
  {
   "cell_type": "code",
   "execution_count": 7,
   "id": "355c8504-d724-4705-b058-09f797f9db5f",
   "metadata": {},
   "outputs": [
    {
     "data": {
      "text/plain": [
       "'COH4B sheet from Excel file have bee mapped'"
      ]
     },
     "execution_count": 7,
     "metadata": {},
     "output_type": "execute_result"
    }
   ],
   "source": [
    "excelFilePath = 'ESG-Frameworks/Outputs/testing.xlsx'\n",
    "sheet = \"COH4B\"\n",
    "\n",
    "mapp = MapLinks2Excel(df, sheet, excelFilePath)\n",
    "mapp.MapCOH4B_GRI()"
   ]
  },
  {
   "cell_type": "markdown",
   "id": "b5822347-442f-4954-b4ed-8cb8c856fbc5",
   "metadata": {
    "tags": []
   },
   "source": [
    "## Mapping Collected Dataframe (GRI-COH4B)"
   ]
  },
  {
   "cell_type": "code",
   "execution_count": 13,
   "id": "94e95589-6170-4589-b428-6b56c9863d35",
   "metadata": {},
   "outputs": [
    {
     "data": {
      "text/plain": [
       "'GRI 2016 sheet from Excel file have bee mapped'"
      ]
     },
     "execution_count": 13,
     "metadata": {},
     "output_type": "execute_result"
    }
   ],
   "source": [
    "excelFilePath = 'ESG-Frameworks/Outputs/testing.xlsx'\n",
    "sheet = \"GRI 2016\"\n",
    "\n",
    "mapp = MapLinks2Excel(df, sheet, excelFilePath)\n",
    "mapp.MapGRI_COH4B()"
   ]
  },
  {
   "cell_type": "markdown",
   "id": "fd8b964f-8ed9-4f84-8b60-4b3c5b87d0c8",
   "metadata": {
    "jp-MarkdownHeadingCollapsed": true,
    "tags": []
   },
   "source": [
    "# 3. Table Extraction and Mapping (TCFD-GRI Link)"
   ]
  },
  {
   "cell_type": "code",
   "execution_count": 14,
   "id": "7e0c505a-746e-475e-bd43-03a6d61f0b1c",
   "metadata": {},
   "outputs": [],
   "source": [
    "pdf_path = 'ESG-Frameworks/Mapping-Standards/TCFD-GRI/TCFD to GRI.pdf'\n",
    "page_range = list(range(49, 59))\n",
    "\n",
    "\n",
    "tableTCFD_GRI = ExtractPDFTables(pdf_path, page_range)\n",
    "df = tableTCFD_GRI.getTablesTCFD_GRI()\n",
    "df = tableTCFD_GRI.extractDisclosures(df, 'Related \\ncode/\\nparagraph', 'GRI Standards', r'[0-9]{3}-[0-9]{2}|[0-9]{3}-[0-9]{1}', re.findall)\n",
    "df = tableTCFD_GRI.extractDisclosures(df, 'Recommended \\nDisclosures \\n(TCFD Framework)', 'id', r'\\w+\\s[abc]\\.', re.findall)\n",
    "\n",
    "\n",
    "\n",
    "\n",
    "# [a-zA-Z]\\."
   ]
  },
  {
   "cell_type": "code",
   "execution_count": null,
   "id": "40635d78-c62b-483f-8fe6-31987fd4bab7",
   "metadata": {},
   "outputs": [],
   "source": []
  },
  {
   "cell_type": "markdown",
   "id": "98bb74a1-3e4f-4871-a6da-3020a87583ea",
   "metadata": {},
   "source": [
    "## Mapping Collected Dataframe (TCDF-GRI)"
   ]
  },
  {
   "cell_type": "code",
   "execution_count": 15,
   "id": "80e8963f-4dc9-40a7-8f12-1759ff250255",
   "metadata": {},
   "outputs": [],
   "source": [
    "excelFilePath = 'ESG-Frameworks/Outputs/testing.xlsx'\n",
    "sheet = \"TCFD\"\n",
    "\n",
    "\n",
    "mapp = MapLinks2Excel(df, sheet, excelFilePath)\n",
    "mapp.mapTCFD_GRI()\n"
   ]
  },
  {
   "cell_type": "markdown",
   "id": "e776e65c-623d-434d-b4e2-3031e73a4f4e",
   "metadata": {},
   "source": [
    "## Mapping Collected Dataframe (GRI-TCDF)"
   ]
  },
  {
   "cell_type": "code",
   "execution_count": 16,
   "id": "a98d3107-bfc9-4324-96a8-7631386af478",
   "metadata": {},
   "outputs": [
    {
     "name": "stderr",
     "output_type": "stream",
     "text": [
      "/Library/Frameworks/Python.framework/Versions/3.9/lib/python3.9/site-packages/pandas/core/frame.py:5034: SettingWithCopyWarning: \n",
      "A value is trying to be set on a copy of a slice from a DataFrame\n",
      "\n",
      "See the caveats in the documentation: https://pandas.pydata.org/pandas-docs/stable/user_guide/indexing.html#returning-a-view-versus-a-copy\n",
      "  return super().rename(\n"
     ]
    }
   ],
   "source": [
    "df = tableTCFD_GRI.df_gri_tcdf(df)"
   ]
  },
  {
   "cell_type": "code",
   "execution_count": 17,
   "id": "3c9cf03b-8278-4310-8759-d2fbeecfd931",
   "metadata": {},
   "outputs": [],
   "source": [
    "excelFilePath = 'ESG-Frameworks/Outputs/testing.xlsx'\n",
    "sheet = \"GRI 2016\"\n",
    "\n",
    "\n",
    "mapp = MapLinks2Excel(df, sheet, excelFilePath)\n",
    "mapp.mapGRI_TCFD()"
   ]
  },
  {
   "cell_type": "markdown",
   "id": "27e7f443-cf6f-4c95-bb39-60a61e384561",
   "metadata": {
    "tags": []
   },
   "source": [
    "# 4. Table Extraction and Mapping (GRI 2016- GRI 2021)"
   ]
  },
  {
   "cell_type": "markdown",
   "id": "7ae3cf86-ab62-4d5a-84d7-01c1ea5d3273",
   "metadata": {
    "jp-MarkdownHeadingCollapsed": true,
    "tags": []
   },
   "source": [
    "### Reading extracted csv from excel and fixinf the columns names, this new csv file will be use for future mapping"
   ]
  },
  {
   "cell_type": "code",
   "execution_count": null,
   "id": "884cb8a0-cf1d-45d0-85a4-cb0f92d1000e",
   "metadata": {},
   "outputs": [],
   "source": [
    "# df = pd.read_csv('ESG-Frameworks/Mapping-Standards/GRI 2016-2021//GRI2016-2021.csv', sep=';')\n",
    "# df = df.iloc[0:67]\n",
    "# df.rename(columns = {\"GRI Standard Title\": \"GRI Standard Title 2016\",\n",
    "#                      \"Disclosure Number\": \"Disclosure Number 2016\",\n",
    "#                      \"Disclosure Name\\nIndividual requirements ('a', 'b', 'c', etc.) are not listed here\": 'GRI 2016 Description',\n",
    "#                      \"Section\": \"Section 2016\",\n",
    "#                      \"Page Number\": \"Page Number 2016\",\n",
    "#                      \"GRI Standard Title.1\": \"GRI 2021 Standard Title\",\n",
    "#                      \"Disclosure Number.1\": \"Disclosure Number 2021\",\n",
    "#                      \"Disclosure Name\\nIndividual requirements ('a', 'b', 'c', etc.) are not listed here.1\": 'GRI 2021 Description',\n",
    "#                      \"Section.1\": \"Section 2021\",\n",
    "#                      \"Page Number.1\": 'Page Number 2021'},\n",
    "#                       inplace = True)\n"
   ]
  },
  {
   "cell_type": "code",
   "execution_count": null,
   "id": "b1f3a68f-46d2-447a-8345-31bdb71ac29a",
   "metadata": {},
   "outputs": [],
   "source": [
    "df.to_csv('GRI2016-2021.csv')"
   ]
  },
  {
   "cell_type": "code",
   "execution_count": null,
   "id": "781b30e3-6fae-426d-8028-fe430659cb35",
   "metadata": {},
   "outputs": [],
   "source": []
  },
  {
   "cell_type": "markdown",
   "id": "7af327a8-9c32-4dfe-b4b1-236279eb4a78",
   "metadata": {
    "tags": []
   },
   "source": [
    "## Mapping GRI 2021 ON GRI 2016 sheet"
   ]
  },
  {
   "cell_type": "code",
   "execution_count": 18,
   "id": "cbc69e1c-f9ec-4ca5-ba8a-a29fa4ad053f",
   "metadata": {},
   "outputs": [],
   "source": [
    "df = pd.read_csv('ESG-Frameworks/Mapping-Standards/GRI 2016-2021//GRI2016-2021.csv')\n",
    "df = df.drop('Unnamed: 0', axis=1)"
   ]
  },
  {
   "cell_type": "code",
   "execution_count": null,
   "id": "e513a7fd-e8fb-4753-ae40-4ac0a02eeb5d",
   "metadata": {},
   "outputs": [],
   "source": []
  },
  {
   "cell_type": "markdown",
   "id": "159e5a9f-6b8f-4871-803a-4819a7c0343f",
   "metadata": {
    "jp-MarkdownHeadingCollapsed": true,
    "tags": []
   },
   "source": [
    "### Source code for method"
   ]
  },
  {
   "cell_type": "code",
   "execution_count": null,
   "id": "e1e39a59-19ee-4dc8-966e-46f3392471cf",
   "metadata": {},
   "outputs": [],
   "source": [
    "path_file = 'ESG-Frameworks/Outputs/testing.xlsx'\n",
    "sheet = 'GRI 2016'\n",
    "\n",
    "wb = openpyxl.load_workbook(path_file)\n",
    "ws = wb[sheet]\n",
    "\n",
    "rows = ws.max_row\n",
    "\n",
    "print(rows)\n",
    "# print(rows)\n",
    "for i in range(3, rows):\n",
    "    if ws.cell(row=i, column=2).value != None:\n",
    "        target_cell = ws.cell(row=i, column=2).value\n",
    "        # print(target_cell)\n",
    "        \n",
    "        if target_cell != None:\n",
    "            try:\n",
    "                disclosure_to_add = df.loc[df['Disclosure Number 2016'] == target_cell]['Disclosure Number 2021'].item()\n",
    "                ws.cell(row=i, column=4, value=str(disclosure_to_add))\n",
    "                \n",
    "                section_to_add = df.loc[df['Disclosure Number 2016'] == target_cell]['Section 2021'].item()\n",
    "                \t\n",
    "                ws.cell(row=i, column=5, value=str(section_to_add))\t\n",
    "\n",
    "            except:\n",
    "                pass\n",
    "        \n",
    "        \n",
    "       \n",
    "\n",
    "wb.save(path_file)\n",
    "\n",
    "print(f'{sheet} sheet from Excel file have bee mapped')"
   ]
  },
  {
   "cell_type": "markdown",
   "id": "4b9e04f0-f814-46d7-9fb4-217a15b41021",
   "metadata": {
    "tags": []
   },
   "source": [
    "## Mapping GRI 2021 to 2016 using class method"
   ]
  },
  {
   "cell_type": "code",
   "execution_count": 19,
   "id": "f37d6528-e44c-4de4-b61b-97e5b1a3a3ea",
   "metadata": {},
   "outputs": [
    {
     "name": "stdout",
     "output_type": "stream",
     "text": [
      "GRI 2016 sheet from Excel file have bee mapped with it's GRI 2021 equivalent\n"
     ]
    }
   ],
   "source": [
    "excelFilePath = 'ESG-Frameworks/Outputs/testing.xlsx'\n",
    "sheet = \"GRI 2016\"\n",
    "\n",
    "\n",
    "mapp = MapLinks2Excel(df, sheet, excelFilePath)\n",
    "mapp.mapGRI2016_2021()"
   ]
  },
  {
   "cell_type": "markdown",
   "id": "922407bb-6179-44d6-8819-fb4d184d7ee9",
   "metadata": {},
   "source": [
    "# Table Extraction and Mapping (GRI2021 - GRI 2016)"
   ]
  },
  {
   "cell_type": "code",
   "execution_count": null,
   "id": "7b7440f1-1738-4aba-8ca3-14f3bb396460",
   "metadata": {},
   "outputs": [],
   "source": [
    "excelFilePath = 'ESG-Frameworks/Outputs/testing.xlsx'\n",
    "sheet = \"GRI 2021\"\n",
    "\n",
    "\n",
    "mapp = MapLinks2Excel(df, sheet, excelFilePath)\n",
    "mapp.mapGRI2021_2016()"
   ]
  }
 ],
 "metadata": {
  "kernelspec": {
   "display_name": "ESG-Mapping",
   "language": "python",
   "name": "esg-mapping"
  },
  "language_info": {
   "codemirror_mode": {
    "name": "ipython",
    "version": 3
   },
   "file_extension": ".py",
   "mimetype": "text/x-python",
   "name": "python",
   "nbconvert_exporter": "python",
   "pygments_lexer": "ipython3",
   "version": "3.9.6"
  }
 },
 "nbformat": 4,
 "nbformat_minor": 5
}
