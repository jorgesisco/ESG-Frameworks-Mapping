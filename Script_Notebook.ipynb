{
 "cells": [
  {
   "cell_type": "code",
   "execution_count": 1,
   "id": "59882720-17b6-4466-84a8-be4688c70633",
   "metadata": {},
   "outputs": [],
   "source": [
    "import pandas as pd\n",
    "import numpy as np\n",
    "import re\n",
    "\n",
    "from tabula import read_pdf\n",
    "from tabulate import tabulate\n",
    "import pdfplumber\n",
    "import openpyxl\n",
    "\n",
    "from Script import ExtractPDFTables, MapLinks2Excel"
   ]
  },
  {
   "cell_type": "markdown",
   "id": "20def67c-69c4-4e66-8379-e9b460d651ab",
   "metadata": {
    "jp-MarkdownHeadingCollapsed": true,
    "tags": []
   },
   "source": [
    "# Table Extraction and Mapping (SGD-GRI Link)"
   ]
  },
  {
   "cell_type": "code",
   "execution_count": null,
   "id": "d47e7196-e6d5-4f4d-ba51-1b2f668211c7",
   "metadata": {},
   "outputs": [],
   "source": [
    "pdf_path = 'ESG-Frameworks/Mapping-Standards/SDG-GRI/sdg-gri.pdf'\n",
    "page_range = [list(range(3, 73)), list(range(74, 99))]\n",
    "area = [80.51, 90.42, 561.96, 814.18]\n",
    "\n",
    "tableTCFD_GRI = ExtractPDFTables(pdf_path, page_range, area)\n",
    "df = tableTCFD_GRI.getTablesSDG_GRI()"
   ]
  },
  {
   "cell_type": "markdown",
   "id": "078fde49-d6ba-4743-9ff5-1b4a42e69214",
   "metadata": {
    "tags": []
   },
   "source": [
    "## Mapping Collected Dataframe (SDG-GRI)"
   ]
  },
  {
   "cell_type": "code",
   "execution_count": null,
   "id": "1c967a7e-e7c5-4884-ba83-abc09558ea11",
   "metadata": {},
   "outputs": [],
   "source": [
    "excelFilePath = 'ESG-Frameworks/Outputs/testing.xlsx'\n",
    "sheet = \"SDG's\"\n",
    "\n",
    "mapp = MapLinks2Excel(df, sheet, excelFilePath)\n",
    "mapp.MapSDG_GRI()"
   ]
  },
  {
   "cell_type": "markdown",
   "id": "b80f2f59-c77b-43b9-b751-79939c674e27",
   "metadata": {
    "tags": []
   },
   "source": [
    "## Mapping Collected Dataframe (GRI-SDG)"
   ]
  },
  {
   "cell_type": "code",
   "execution_count": null,
   "id": "f823e872-612b-4cd8-85c2-05006fba3b29",
   "metadata": {},
   "outputs": [],
   "source": [
    "excelFilePath = 'ESG-Frameworks/Outputs/testing.xlsx'\n",
    "sheet = \"GRI 2016\"\n",
    "\n",
    "mapp = MapLinks2Excel(df, sheet, excelFilePath)\n",
    "mapp.MapGRI_SDG()"
   ]
  },
  {
   "cell_type": "markdown",
   "id": "ae114af1-8f87-497e-a767-ea0743a443bd",
   "metadata": {
    "jp-MarkdownHeadingCollapsed": true,
    "tags": []
   },
   "source": [
    "# Table Extraction and Mapping (COH4B-GRI Link)"
   ]
  },
  {
   "cell_type": "code",
   "execution_count": 9,
   "id": "7f631077-11a1-49a1-ac29-8cec801fc1ed",
   "metadata": {},
   "outputs": [],
   "source": [
    "pdf_path = 'ESG-Frameworks/Mapping-Standards/GRI-COH4B/gri-coh4b.pdf'\n",
    "page_range = list(range(13, 22))\n",
    "\n",
    "\n",
    "tableGRI_COH4B = ExtractPDFTables(pdf_path, page_range)\n",
    "df = tableGRI_COH4B.getTablesGRI_COH4B()\n",
    "df = tableGRI_COH4B.setHeaders(df, 0)\n",
    "df = tableGRI_COH4B.headerSwap(df, 'A. COHBP & \\ndefinition', None, 'id')\n",
    "df = tableGRI_COH4B.addDot(df, 'id')\n",
    "\n",
    "df = tableGRI_COH4B.extractDisclosures(df, 'D. GRI disclosures', 'GRI Standards')\n",
    "\n"
   ]
  },
  {
   "cell_type": "code",
   "execution_count": 10,
   "id": "4fe17894-2bd3-444e-9443-50fceb91880f",
   "metadata": {},
   "outputs": [
    {
     "data": {
      "text/html": [
       "<div>\n",
       "<style scoped>\n",
       "    .dataframe tbody tr th:only-of-type {\n",
       "        vertical-align: middle;\n",
       "    }\n",
       "\n",
       "    .dataframe tbody tr th {\n",
       "        vertical-align: top;\n",
       "    }\n",
       "\n",
       "    .dataframe thead th {\n",
       "        text-align: right;\n",
       "    }\n",
       "</style>\n",
       "<table border=\"1\" class=\"dataframe\">\n",
       "  <thead>\n",
       "    <tr style=\"text-align: right;\">\n",
       "      <th></th>\n",
       "      <th>id</th>\n",
       "      <th>A. COHBP &amp; \\ndefinition</th>\n",
       "      <th>B. Example metrics \\nper COH4B</th>\n",
       "      <th>C. GRI \\nStandards</th>\n",
       "      <th>D. GRI disclosures</th>\n",
       "      <th>E. Comments on GRI \\ndisclosures</th>\n",
       "      <th>GRI Standards</th>\n",
       "    </tr>\n",
       "  </thead>\n",
       "  <tbody>\n",
       "    <tr>\n",
       "      <th>0</th>\n",
       "      <td>1.</td>\n",
       "      <td>Health culture: \\nPromoting an \\norganizationa...</td>\n",
       "      <td>Inclusion of health \\nin company’s value \\nsta...</td>\n",
       "      <td>GRI 102: General \\nDisclosures (2016)\\nGRI 103...</td>\n",
       "      <td>Disclosure 102-16 Values, \\nPrinciples, Standa...</td>\n",
       "      <td>102 and 103 can be used to \\nreport on a broad...</td>\n",
       "      <td>102-16</td>\n",
       "    </tr>\n",
       "    <tr>\n",
       "      <th>1</th>\n",
       "      <td>2.</td>\n",
       "      <td>Responsible \\ncorporate political \\nactivity: ...</td>\n",
       "      <td>Disclosure of \\ncontributions to political \\nc...</td>\n",
       "      <td>GRI 415: Public Policy \\n(2016)</td>\n",
       "      <td>Disclosure 415-1 Political \\nContributions: 41...</td>\n",
       "      <td>Although the example metrics \\nfor this COHBP ...</td>\n",
       "      <td>415-1</td>\n",
       "    </tr>\n",
       "    <tr>\n",
       "      <th>2</th>\n",
       "      <td>3.</td>\n",
       "      <td>Responsible \\nmarketing practices: \\nCommitmen...</td>\n",
       "      <td>% promoting products \\nmeeting the Children’s ...</td>\n",
       "      <td>GRI 417: Marketing \\nand Labeling (2016)</td>\n",
       "      <td>Disclosure 417-1 \\nRequirements for product \\n...</td>\n",
       "      <td>Although the example metrics \\nfor this COHBP ...</td>\n",
       "      <td>417-1</td>\n",
       "    </tr>\n",
       "    <tr>\n",
       "      <th>3</th>\n",
       "      <td>4.</td>\n",
       "      <td>Health promotion \\n&amp; wellness: Health \\ninitia...</td>\n",
       "      <td>Employees entitled to \\nhealth and well-being ...</td>\n",
       "      <td>GRI 403: \\nOccupational Health \\nand Safety (2...</td>\n",
       "      <td>Disclosure  403-6 \\nPromotion of worker \\nheal...</td>\n",
       "      <td>Although not included in \\nCOH4B, protecting t...</td>\n",
       "      <td>403-6</td>\n",
       "    </tr>\n",
       "    <tr>\n",
       "      <th>4</th>\n",
       "      <td>5.</td>\n",
       "      <td>Paid family and \\nmedical leave: \\nAllowing em...</td>\n",
       "      <td>Total # of employees that \\nwere entitled by p...</td>\n",
       "      <td>GRI 401: \\nEmployment (2016)</td>\n",
       "      <td>Disclosure 401-2 Benefits \\nprovided to full-t...</td>\n",
       "      <td>Paid sick leave can be reported \\nunder 401-2-...</td>\n",
       "      <td>401-2</td>\n",
       "    </tr>\n",
       "    <tr>\n",
       "      <th>5</th>\n",
       "      <td>6.</td>\n",
       "      <td>Health insurance: \\nProviding employer-\\nbased...</td>\n",
       "      <td>% of employees entitled to \\nhealth insurance ...</td>\n",
       "      <td>GRI 401: \\nEmployment (2016)\\nGRI 403: \\nOccup...</td>\n",
       "      <td>Disclosure 401-2 Benefits \\nprovided to full-t...</td>\n",
       "      <td>Responsibility and expectations \\nfor companie...</td>\n",
       "      <td>401-2</td>\n",
       "    </tr>\n",
       "    <tr>\n",
       "      <th>6</th>\n",
       "      <td>7.</td>\n",
       "      <td>Equality, diversity \\n&amp; impartiality: \\nManagi...</td>\n",
       "      <td>% of employees per \\nemployee category \\nby ge...</td>\n",
       "      <td>GRI 405: Diversity \\nand Equal \\nOpportunity (...</td>\n",
       "      <td>Disclosure 405-1 Diversity \\nof governance bod...</td>\n",
       "      <td>Interpretation of the term \\ndiversity and ind...</td>\n",
       "      <td>405-1</td>\n",
       "    </tr>\n",
       "    <tr>\n",
       "      <th>7</th>\n",
       "      <td>8.</td>\n",
       "      <td>Financial literacy: \\nProviding financial  \\nl...</td>\n",
       "      <td>Employees entitled to \\nfinancial literacy tra...</td>\n",
       "      <td>G4 Sector \\nDisclosures: Financial \\nServices ...</td>\n",
       "      <td>Initiatives to enhance \\nfinancial literacy by...</td>\n",
       "      <td>G4 Sector Disclosures precede \\nthe GRI Standa...</td>\n",
       "      <td>No value :(</td>\n",
       "    </tr>\n",
       "    <tr>\n",
       "      <th>8</th>\n",
       "      <td>9.</td>\n",
       "      <td>Work time: \\nManaging working  \\nhours, schedu...</td>\n",
       "      <td>Notice given to employees \\nfor schedule chang...</td>\n",
       "      <td>GRI 402: Labor/\\nManagement \\nRelations (2016)...</td>\n",
       "      <td>Disclosure 402-1 \\nMinimum notice period \\nreg...</td>\n",
       "      <td>Disclosure 102-8 can be \\nused to share data o...</td>\n",
       "      <td>402-1</td>\n",
       "    </tr>\n",
       "    <tr>\n",
       "      <th>9</th>\n",
       "      <td>10.</td>\n",
       "      <td>Job security: \\nManaging job \\ninsecurity as \\...</td>\n",
       "      <td># of employees laid off \\nin the past year; No...</td>\n",
       "      <td>GRI 401: \\nEmployment (2016)\\nGRI 402: Labor/\\...</td>\n",
       "      <td>Disclosure 401-1 New \\nemployee hires and \\nem...</td>\n",
       "      <td>Disclosure 402-1 can be used \\nto share inform...</td>\n",
       "      <td>401-1</td>\n",
       "    </tr>\n",
       "    <tr>\n",
       "      <th>10</th>\n",
       "      <td>11.</td>\n",
       "      <td>Pay practices: \\nManaging wage  \\npolicies, mi...</td>\n",
       "      <td>Ratio of the entry level \\nwage to minimum wag...</td>\n",
       "      <td>GRI 102: General \\nDisclosures (2016)\\nGRI 202...</td>\n",
       "      <td>Disclosure 102-38 Annual \\ntotal compensation ...</td>\n",
       "      <td>For the COHBP example \\nmetric, median annual ...</td>\n",
       "      <td>102-38</td>\n",
       "    </tr>\n",
       "    <tr>\n",
       "      <th>11</th>\n",
       "      <td>12.</td>\n",
       "      <td>Occupational \\nhealth &amp; safety: \\nMandatory \\n...</td>\n",
       "      <td>Injury rate; Days away \\nfrom work</td>\n",
       "      <td>GRI 403: \\nOccupational Health \\nand Safety (2...</td>\n",
       "      <td>Disclosure 403-1 \\nOccupational health \\nand s...</td>\n",
       "      <td>Although not included in COH4B, \\nthe followin...</td>\n",
       "      <td>403-1</td>\n",
       "    </tr>\n",
       "    <tr>\n",
       "      <th>12</th>\n",
       "      <td>13.</td>\n",
       "      <td>Physical \\nenvironment: \\nManaging air quality...</td>\n",
       "      <td>Availability of support for \\nphysical activit...</td>\n",
       "      <td>G4 Sector \\nDisclosures: \\nEnvironmental \\nDis...</td>\n",
       "      <td>Products and Services: \\nOrganization-wide \\ne...</td>\n",
       "      <td>G4 Sector Disclosures precede \\nthe GRI Standa...</td>\n",
       "      <td>No value :(</td>\n",
       "    </tr>\n",
       "    <tr>\n",
       "      <th>13</th>\n",
       "      <td>14.</td>\n",
       "      <td>Community \\nenvironmental \\nimpacts: Managing ...</td>\n",
       "      <td>Scope 1,2, and 3 GHG \\nemissions; Environmenta...</td>\n",
       "      <td>GRI 303: Water and \\nEffluents (2018)\\nGRI 304...</td>\n",
       "      <td>Disclosure 303-1 \\nInteractions with water as ...</td>\n",
       "      <td></td>\n",
       "      <td>303-1</td>\n",
       "    </tr>\n",
       "    <tr>\n",
       "      <th>14</th>\n",
       "      <td>14.</td>\n",
       "      <td>Community \\nenvironmental \\nimpacts: Managing ...</td>\n",
       "      <td>Scope 1,2, and 3 GHG \\nemissions; Environmenta...</td>\n",
       "      <td>GRI 306: Waste \\n(2020)\\nGRI 307: \\nEnvironmen...</td>\n",
       "      <td>Disclosure 305-7 NOx, \\nSOx, other emissions: ...</td>\n",
       "      <td></td>\n",
       "      <td>305-7</td>\n",
       "    </tr>\n",
       "    <tr>\n",
       "      <th>15</th>\n",
       "      <td>15.</td>\n",
       "      <td>Social capital \\n&amp; cohesion: \\nEncouraging lin...</td>\n",
       "      <td>Levels of employee \\nengagement; Level of \\ntr...</td>\n",
       "      <td>GRI 102: General \\nDisclosures \\nGRI 402: Labo...</td>\n",
       "      <td>Disclosure 102-41 \\nCollective bargaining \\nag...</td>\n",
       "      <td>Depending on the definition of \\nemployee enga...</td>\n",
       "      <td>102-41</td>\n",
       "    </tr>\n",
       "    <tr>\n",
       "      <th>16</th>\n",
       "      <td>16.</td>\n",
       "      <td>Community \\ninvolvement: \\nInvestments in \\npr...</td>\n",
       "      <td>Partnerships with \\ncommunity organizations; \\...</td>\n",
       "      <td>GRI 201: Economic \\nPerformance (2016)\\nGRI 20...</td>\n",
       "      <td>Disclosure 201-1 \\nDirect economic value \\ngen...</td>\n",
       "      <td>Disclosure 201-1-a-ii is most \\ndirectly linke...</td>\n",
       "      <td>201-1</td>\n",
       "    </tr>\n",
       "  </tbody>\n",
       "</table>\n",
       "</div>"
      ],
      "text/plain": [
       "0    id                            A. COHBP & \\ndefinition  \\\n",
       "0    1.  Health culture: \\nPromoting an \\norganizationa...   \n",
       "1    2.  Responsible \\ncorporate political \\nactivity: ...   \n",
       "2    3.  Responsible \\nmarketing practices: \\nCommitmen...   \n",
       "3    4.  Health promotion \\n& wellness: Health \\ninitia...   \n",
       "4    5.  Paid family and \\nmedical leave: \\nAllowing em...   \n",
       "5    6.  Health insurance: \\nProviding employer-\\nbased...   \n",
       "6    7.  Equality, diversity \\n& impartiality: \\nManagi...   \n",
       "7    8.  Financial literacy: \\nProviding financial  \\nl...   \n",
       "8    9.  Work time: \\nManaging working  \\nhours, schedu...   \n",
       "9   10.  Job security: \\nManaging job \\ninsecurity as \\...   \n",
       "10  11.  Pay practices: \\nManaging wage  \\npolicies, mi...   \n",
       "11  12.  Occupational \\nhealth & safety: \\nMandatory \\n...   \n",
       "12  13.  Physical \\nenvironment: \\nManaging air quality...   \n",
       "13  14.  Community \\nenvironmental \\nimpacts: Managing ...   \n",
       "14  14.  Community \\nenvironmental \\nimpacts: Managing ...   \n",
       "15  15.  Social capital \\n& cohesion: \\nEncouraging lin...   \n",
       "16  16.  Community \\ninvolvement: \\nInvestments in \\npr...   \n",
       "\n",
       "0                      B. Example metrics \\nper COH4B  \\\n",
       "0   Inclusion of health \\nin company’s value \\nsta...   \n",
       "1   Disclosure of \\ncontributions to political \\nc...   \n",
       "2   % promoting products \\nmeeting the Children’s ...   \n",
       "3   Employees entitled to \\nhealth and well-being ...   \n",
       "4   Total # of employees that \\nwere entitled by p...   \n",
       "5   % of employees entitled to \\nhealth insurance ...   \n",
       "6   % of employees per \\nemployee category \\nby ge...   \n",
       "7   Employees entitled to \\nfinancial literacy tra...   \n",
       "8   Notice given to employees \\nfor schedule chang...   \n",
       "9   # of employees laid off \\nin the past year; No...   \n",
       "10  Ratio of the entry level \\nwage to minimum wag...   \n",
       "11                 Injury rate; Days away \\nfrom work   \n",
       "12  Availability of support for \\nphysical activit...   \n",
       "13  Scope 1,2, and 3 GHG \\nemissions; Environmenta...   \n",
       "14  Scope 1,2, and 3 GHG \\nemissions; Environmenta...   \n",
       "15  Levels of employee \\nengagement; Level of \\ntr...   \n",
       "16  Partnerships with \\ncommunity organizations; \\...   \n",
       "\n",
       "0                                  C. GRI \\nStandards  \\\n",
       "0   GRI 102: General \\nDisclosures (2016)\\nGRI 103...   \n",
       "1                     GRI 415: Public Policy \\n(2016)   \n",
       "2            GRI 417: Marketing \\nand Labeling (2016)   \n",
       "3   GRI 403: \\nOccupational Health \\nand Safety (2...   \n",
       "4                        GRI 401: \\nEmployment (2016)   \n",
       "5   GRI 401: \\nEmployment (2016)\\nGRI 403: \\nOccup...   \n",
       "6   GRI 405: Diversity \\nand Equal \\nOpportunity (...   \n",
       "7   G4 Sector \\nDisclosures: Financial \\nServices ...   \n",
       "8   GRI 402: Labor/\\nManagement \\nRelations (2016)...   \n",
       "9   GRI 401: \\nEmployment (2016)\\nGRI 402: Labor/\\...   \n",
       "10  GRI 102: General \\nDisclosures (2016)\\nGRI 202...   \n",
       "11  GRI 403: \\nOccupational Health \\nand Safety (2...   \n",
       "12  G4 Sector \\nDisclosures: \\nEnvironmental \\nDis...   \n",
       "13  GRI 303: Water and \\nEffluents (2018)\\nGRI 304...   \n",
       "14  GRI 306: Waste \\n(2020)\\nGRI 307: \\nEnvironmen...   \n",
       "15  GRI 102: General \\nDisclosures \\nGRI 402: Labo...   \n",
       "16  GRI 201: Economic \\nPerformance (2016)\\nGRI 20...   \n",
       "\n",
       "0                                  D. GRI disclosures  \\\n",
       "0   Disclosure 102-16 Values, \\nPrinciples, Standa...   \n",
       "1   Disclosure 415-1 Political \\nContributions: 41...   \n",
       "2   Disclosure 417-1 \\nRequirements for product \\n...   \n",
       "3   Disclosure  403-6 \\nPromotion of worker \\nheal...   \n",
       "4   Disclosure 401-2 Benefits \\nprovided to full-t...   \n",
       "5   Disclosure 401-2 Benefits \\nprovided to full-t...   \n",
       "6   Disclosure 405-1 Diversity \\nof governance bod...   \n",
       "7   Initiatives to enhance \\nfinancial literacy by...   \n",
       "8   Disclosure 402-1 \\nMinimum notice period \\nreg...   \n",
       "9   Disclosure 401-1 New \\nemployee hires and \\nem...   \n",
       "10  Disclosure 102-38 Annual \\ntotal compensation ...   \n",
       "11  Disclosure 403-1 \\nOccupational health \\nand s...   \n",
       "12  Products and Services: \\nOrganization-wide \\ne...   \n",
       "13  Disclosure 303-1 \\nInteractions with water as ...   \n",
       "14  Disclosure 305-7 NOx, \\nSOx, other emissions: ...   \n",
       "15  Disclosure 102-41 \\nCollective bargaining \\nag...   \n",
       "16  Disclosure 201-1 \\nDirect economic value \\ngen...   \n",
       "\n",
       "0                    E. Comments on GRI \\ndisclosures GRI Standards  \n",
       "0   102 and 103 can be used to \\nreport on a broad...        102-16  \n",
       "1   Although the example metrics \\nfor this COHBP ...         415-1  \n",
       "2   Although the example metrics \\nfor this COHBP ...         417-1  \n",
       "3   Although not included in \\nCOH4B, protecting t...         403-6  \n",
       "4   Paid sick leave can be reported \\nunder 401-2-...         401-2  \n",
       "5   Responsibility and expectations \\nfor companie...         401-2  \n",
       "6   Interpretation of the term \\ndiversity and ind...         405-1  \n",
       "7   G4 Sector Disclosures precede \\nthe GRI Standa...   No value :(  \n",
       "8   Disclosure 102-8 can be \\nused to share data o...         402-1  \n",
       "9   Disclosure 402-1 can be used \\nto share inform...         401-1  \n",
       "10  For the COHBP example \\nmetric, median annual ...        102-38  \n",
       "11  Although not included in COH4B, \\nthe followin...         403-1  \n",
       "12  G4 Sector Disclosures precede \\nthe GRI Standa...   No value :(  \n",
       "13                                                            303-1  \n",
       "14                                                            305-7  \n",
       "15  Depending on the definition of \\nemployee enga...        102-41  \n",
       "16  Disclosure 201-1-a-ii is most \\ndirectly linke...         201-1  "
      ]
     },
     "execution_count": 10,
     "metadata": {},
     "output_type": "execute_result"
    }
   ],
   "source": [
    "df"
   ]
  },
  {
   "cell_type": "code",
   "execution_count": null,
   "id": "74eba526-223e-4863-be75-69e0cedb0710",
   "metadata": {},
   "outputs": [],
   "source": [
    "df.to_csv('ESG-Frameworks/Mapping-Standards/GRI-COH4B/GRI-COH4B-2.csv')"
   ]
  },
  {
   "cell_type": "markdown",
   "id": "581c6779-e60c-4c9e-a9dc-ae2081afb4e8",
   "metadata": {
    "tags": []
   },
   "source": [
    "## Mapping Collected Dataframe (COH4B-GRI)"
   ]
  },
  {
   "cell_type": "code",
   "execution_count": null,
   "id": "355c8504-d724-4705-b058-09f797f9db5f",
   "metadata": {},
   "outputs": [],
   "source": [
    "excelFilePath = 'ESG-Frameworks/Outputs/testing.xlsx'\n",
    "sheet = \"COH4B\"\n",
    "\n",
    "mapp = MapLinks2Excel(df, sheet, excelFilePath)\n",
    "mapp.MapCOH4B_GRI()"
   ]
  },
  {
   "cell_type": "markdown",
   "id": "b5822347-442f-4954-b4ed-8cb8c856fbc5",
   "metadata": {
    "tags": []
   },
   "source": [
    "## Mapping Collected Dataframe (GRI-COHB4)"
   ]
  },
  {
   "cell_type": "code",
   "execution_count": null,
   "id": "94e95589-6170-4589-b428-6b56c9863d35",
   "metadata": {},
   "outputs": [],
   "source": [
    "excelFilePath = 'ESG-Frameworks/Outputs/testing.xlsx'\n",
    "sheet = \"GRI 2016\"\n",
    "\n",
    "mapp = MapLinks2Excel(df, sheet, excelFilePath)\n",
    "mapp.MapGRI_COH4B()"
   ]
  },
  {
   "cell_type": "markdown",
   "id": "fd8b964f-8ed9-4f84-8b60-4b3c5b87d0c8",
   "metadata": {
    "tags": []
   },
   "source": [
    "# Table Extraction and Mapping (TCFD-GRI Link)"
   ]
  },
  {
   "cell_type": "code",
   "execution_count": 7,
   "id": "7e0c505a-746e-475e-bd43-03a6d61f0b1c",
   "metadata": {},
   "outputs": [],
   "source": [
    "pdf_path = 'ESG-Frameworks/Mapping-Standards/TCFD-GRI/TCFD to GRI-2.pdf'\n",
    "page_range = list(range(49, 59))\n",
    "\n",
    "\n",
    "tableTCFD_GRI = ExtractPDFTables(pdf_path, page_range)\n",
    "df = tableTCFD_GRI.getTablesTCFD_GRI()"
   ]
  },
  {
   "cell_type": "code",
   "execution_count": null,
   "id": "54967ce8-f1cc-47af-808e-62536bafd5ee",
   "metadata": {},
   "outputs": [],
   "source": [
    "# df.to_csv('ESG-Frameworks/Mapping-Standards/TCFD-GRI/TCFD-GRI-2.csv')"
   ]
  },
  {
   "cell_type": "code",
   "execution_count": null,
   "id": "c5366c0a-0c9b-4ade-ae7a-b685e2830d66",
   "metadata": {},
   "outputs": [],
   "source": []
  },
  {
   "cell_type": "code",
   "execution_count": 4,
   "id": "0f697fef-a583-41fe-b3a3-07d8f9578618",
   "metadata": {},
   "outputs": [
    {
     "data": {
      "text/plain": [
       "Index(['Recommended \\nDisclosures \\n(TCFD Framework)',\n",
       "       'Related \\ncode/\\nparagraph', 'Description',\n",
       "       'Omissions and/or content difference(s)', 'Level of \\nalignment'],\n",
       "      dtype='object')"
      ]
     },
     "execution_count": 4,
     "metadata": {},
     "output_type": "execute_result"
    }
   ],
   "source": [
    "df.columns"
   ]
  },
  {
   "cell_type": "code",
   "execution_count": 5,
   "id": "d8d56d6f-5a28-408c-8770-d53136ddeb1c",
   "metadata": {},
   "outputs": [],
   "source": [
    "df_ = tableTCFD_GRI.extractDisclosures2(df, 'Description', 'GRI Standards')"
   ]
  },
  {
   "cell_type": "code",
   "execution_count": null,
   "id": "e14ad9c4-852e-40c3-a11a-47e097af29f0",
   "metadata": {},
   "outputs": [],
   "source": []
  },
  {
   "cell_type": "code",
   "execution_count": 11,
   "id": "f98dff8b-0e29-47db-ba7a-5b0ff91fcc97",
   "metadata": {},
   "outputs": [
    {
     "ename": "KeyError",
     "evalue": "'Description'",
     "output_type": "error",
     "traceback": [
      "\u001b[0;31m---------------------------------------------------------------------------\u001b[0m",
      "\u001b[0;31mKeyError\u001b[0m                                  Traceback (most recent call last)",
      "\u001b[0;32m/Library/Frameworks/Python.framework/Versions/3.9/lib/python3.9/site-packages/pandas/core/indexes/base.py\u001b[0m in \u001b[0;36mget_loc\u001b[0;34m(self, key, method, tolerance)\u001b[0m\n\u001b[1;32m   3360\u001b[0m             \u001b[0;32mtry\u001b[0m\u001b[0;34m:\u001b[0m\u001b[0;34m\u001b[0m\u001b[0;34m\u001b[0m\u001b[0m\n\u001b[0;32m-> 3361\u001b[0;31m                 \u001b[0;32mreturn\u001b[0m \u001b[0mself\u001b[0m\u001b[0;34m.\u001b[0m\u001b[0m_engine\u001b[0m\u001b[0;34m.\u001b[0m\u001b[0mget_loc\u001b[0m\u001b[0;34m(\u001b[0m\u001b[0mcasted_key\u001b[0m\u001b[0;34m)\u001b[0m\u001b[0;34m\u001b[0m\u001b[0;34m\u001b[0m\u001b[0m\n\u001b[0m\u001b[1;32m   3362\u001b[0m             \u001b[0;32mexcept\u001b[0m \u001b[0mKeyError\u001b[0m \u001b[0;32mas\u001b[0m \u001b[0merr\u001b[0m\u001b[0;34m:\u001b[0m\u001b[0;34m\u001b[0m\u001b[0;34m\u001b[0m\u001b[0m\n",
      "\u001b[0;32m/Library/Frameworks/Python.framework/Versions/3.9/lib/python3.9/site-packages/pandas/_libs/index.pyx\u001b[0m in \u001b[0;36mpandas._libs.index.IndexEngine.get_loc\u001b[0;34m()\u001b[0m\n",
      "\u001b[0;32m/Library/Frameworks/Python.framework/Versions/3.9/lib/python3.9/site-packages/pandas/_libs/index.pyx\u001b[0m in \u001b[0;36mpandas._libs.index.IndexEngine.get_loc\u001b[0;34m()\u001b[0m\n",
      "\u001b[0;32mpandas/_libs/hashtable_class_helper.pxi\u001b[0m in \u001b[0;36mpandas._libs.hashtable.PyObjectHashTable.get_item\u001b[0;34m()\u001b[0m\n",
      "\u001b[0;32mpandas/_libs/hashtable_class_helper.pxi\u001b[0m in \u001b[0;36mpandas._libs.hashtable.PyObjectHashTable.get_item\u001b[0;34m()\u001b[0m\n",
      "\u001b[0;31mKeyError\u001b[0m: 'Description'",
      "\nThe above exception was the direct cause of the following exception:\n",
      "\u001b[0;31mKeyError\u001b[0m                                  Traceback (most recent call last)",
      "\u001b[0;32m/var/folders/j2/64m37fcx0fx_w8wpmhz91lmh0000gn/T/ipykernel_3286/569883995.py\u001b[0m in \u001b[0;36m<module>\u001b[0;34m\u001b[0m\n\u001b[1;32m     15\u001b[0m \u001b[0;34m\u001b[0m\u001b[0m\n\u001b[1;32m     16\u001b[0m \u001b[0;34m\u001b[0m\u001b[0m\n\u001b[0;32m---> 17\u001b[0;31m \u001b[0;32mfor\u001b[0m \u001b[0mi\u001b[0m \u001b[0;32min\u001b[0m \u001b[0mrange\u001b[0m\u001b[0;34m(\u001b[0m\u001b[0;36m0\u001b[0m\u001b[0;34m,\u001b[0m \u001b[0mlen\u001b[0m\u001b[0;34m(\u001b[0m\u001b[0mdf\u001b[0m\u001b[0;34m[\u001b[0m\u001b[0;34m'Description'\u001b[0m\u001b[0;34m]\u001b[0m\u001b[0;34m)\u001b[0m\u001b[0;34m)\u001b[0m\u001b[0;34m:\u001b[0m\u001b[0;34m\u001b[0m\u001b[0;34m\u001b[0m\u001b[0m\n\u001b[0m\u001b[1;32m     18\u001b[0m                         \u001b[0mmatch\u001b[0m \u001b[0;34m=\u001b[0m \u001b[0mre\u001b[0m\u001b[0;34m.\u001b[0m\u001b[0msearch\u001b[0m\u001b[0;34m(\u001b[0m\u001b[0;34mr'[0-9]{3}-[0-9]{2}|[0-9]{3}-[0-9]{1}'\u001b[0m\u001b[0;34m,\u001b[0m \u001b[0mdf\u001b[0m\u001b[0;34m[\u001b[0m\u001b[0;34m'Description'\u001b[0m\u001b[0;34m]\u001b[0m\u001b[0;34m[\u001b[0m\u001b[0mi\u001b[0m\u001b[0;34m]\u001b[0m\u001b[0;34m)\u001b[0m\u001b[0;34m\u001b[0m\u001b[0;34m\u001b[0m\u001b[0m\n\u001b[1;32m     19\u001b[0m \u001b[0;34m\u001b[0m\u001b[0m\n",
      "\u001b[0;32m/Library/Frameworks/Python.framework/Versions/3.9/lib/python3.9/site-packages/pandas/core/frame.py\u001b[0m in \u001b[0;36m__getitem__\u001b[0;34m(self, key)\u001b[0m\n\u001b[1;32m   3453\u001b[0m             \u001b[0;32mif\u001b[0m \u001b[0mself\u001b[0m\u001b[0;34m.\u001b[0m\u001b[0mcolumns\u001b[0m\u001b[0;34m.\u001b[0m\u001b[0mnlevels\u001b[0m \u001b[0;34m>\u001b[0m \u001b[0;36m1\u001b[0m\u001b[0;34m:\u001b[0m\u001b[0;34m\u001b[0m\u001b[0;34m\u001b[0m\u001b[0m\n\u001b[1;32m   3454\u001b[0m                 \u001b[0;32mreturn\u001b[0m \u001b[0mself\u001b[0m\u001b[0;34m.\u001b[0m\u001b[0m_getitem_multilevel\u001b[0m\u001b[0;34m(\u001b[0m\u001b[0mkey\u001b[0m\u001b[0;34m)\u001b[0m\u001b[0;34m\u001b[0m\u001b[0;34m\u001b[0m\u001b[0m\n\u001b[0;32m-> 3455\u001b[0;31m             \u001b[0mindexer\u001b[0m \u001b[0;34m=\u001b[0m \u001b[0mself\u001b[0m\u001b[0;34m.\u001b[0m\u001b[0mcolumns\u001b[0m\u001b[0;34m.\u001b[0m\u001b[0mget_loc\u001b[0m\u001b[0;34m(\u001b[0m\u001b[0mkey\u001b[0m\u001b[0;34m)\u001b[0m\u001b[0;34m\u001b[0m\u001b[0;34m\u001b[0m\u001b[0m\n\u001b[0m\u001b[1;32m   3456\u001b[0m             \u001b[0;32mif\u001b[0m \u001b[0mis_integer\u001b[0m\u001b[0;34m(\u001b[0m\u001b[0mindexer\u001b[0m\u001b[0;34m)\u001b[0m\u001b[0;34m:\u001b[0m\u001b[0;34m\u001b[0m\u001b[0;34m\u001b[0m\u001b[0m\n\u001b[1;32m   3457\u001b[0m                 \u001b[0mindexer\u001b[0m \u001b[0;34m=\u001b[0m \u001b[0;34m[\u001b[0m\u001b[0mindexer\u001b[0m\u001b[0;34m]\u001b[0m\u001b[0;34m\u001b[0m\u001b[0;34m\u001b[0m\u001b[0m\n",
      "\u001b[0;32m/Library/Frameworks/Python.framework/Versions/3.9/lib/python3.9/site-packages/pandas/core/indexes/base.py\u001b[0m in \u001b[0;36mget_loc\u001b[0;34m(self, key, method, tolerance)\u001b[0m\n\u001b[1;32m   3361\u001b[0m                 \u001b[0;32mreturn\u001b[0m \u001b[0mself\u001b[0m\u001b[0;34m.\u001b[0m\u001b[0m_engine\u001b[0m\u001b[0;34m.\u001b[0m\u001b[0mget_loc\u001b[0m\u001b[0;34m(\u001b[0m\u001b[0mcasted_key\u001b[0m\u001b[0;34m)\u001b[0m\u001b[0;34m\u001b[0m\u001b[0;34m\u001b[0m\u001b[0m\n\u001b[1;32m   3362\u001b[0m             \u001b[0;32mexcept\u001b[0m \u001b[0mKeyError\u001b[0m \u001b[0;32mas\u001b[0m \u001b[0merr\u001b[0m\u001b[0;34m:\u001b[0m\u001b[0;34m\u001b[0m\u001b[0;34m\u001b[0m\u001b[0m\n\u001b[0;32m-> 3363\u001b[0;31m                 \u001b[0;32mraise\u001b[0m \u001b[0mKeyError\u001b[0m\u001b[0;34m(\u001b[0m\u001b[0mkey\u001b[0m\u001b[0;34m)\u001b[0m \u001b[0;32mfrom\u001b[0m \u001b[0merr\u001b[0m\u001b[0;34m\u001b[0m\u001b[0;34m\u001b[0m\u001b[0m\n\u001b[0m\u001b[1;32m   3364\u001b[0m \u001b[0;34m\u001b[0m\u001b[0m\n\u001b[1;32m   3365\u001b[0m         \u001b[0;32mif\u001b[0m \u001b[0mis_scalar\u001b[0m\u001b[0;34m(\u001b[0m\u001b[0mkey\u001b[0m\u001b[0;34m)\u001b[0m \u001b[0;32mand\u001b[0m \u001b[0misna\u001b[0m\u001b[0;34m(\u001b[0m\u001b[0mkey\u001b[0m\u001b[0;34m)\u001b[0m \u001b[0;32mand\u001b[0m \u001b[0;32mnot\u001b[0m \u001b[0mself\u001b[0m\u001b[0;34m.\u001b[0m\u001b[0mhasnans\u001b[0m\u001b[0;34m:\u001b[0m\u001b[0;34m\u001b[0m\u001b[0;34m\u001b[0m\u001b[0m\n",
      "\u001b[0;31mKeyError\u001b[0m: 'Description'"
     ]
    }
   ],
   "source": [
    "values = []\n",
    "\n",
    "# for i in range(0, len(df['Related \\ncode/\\nparagraph'])):\n",
    "\n",
    "#     match = re.search(r'[0-9]{3}-[0-9]{2}|[0-9]{3}-[0-9]{1}', df['Related \\ncode/\\nparagraph'][i])\n",
    "\n",
    "    \n",
    "#     try:\n",
    "#         values.append(df['Related \\ncode/\\nparagraph'][i][match.start():match.end()])\n",
    "#     except:\n",
    "#         values.append('No values :(')\n",
    "#         pass\n",
    "    \n",
    "\n",
    "    \n",
    "    \n",
    "for i in range(0, len(df['Description'])):\n",
    "\t\t\tmatch = re.search(r'[0-9]{3}-[0-9]{2}|[0-9]{3}-[0-9]{1}', df['Description'][i])\n",
    "\n",
    "\n",
    "\t\t\ttry:\n",
    "\t\t\t\tvalues.append(df['RelDescription'][i][match.start():match.end()])\n",
    "\n",
    "\t\t\texcept:\n",
    "\t\t\t\t# values.append('No value :(')\n",
    "\t\t\t\tpass\n",
    "df['GRI Standards'] = values\n"
   ]
  },
  {
   "cell_type": "code",
   "execution_count": null,
   "id": "6ba56358-b1ad-4fa9-bad3-9d3b909e16f6",
   "metadata": {},
   "outputs": [],
   "source": [
    "values"
   ]
  },
  {
   "cell_type": "code",
   "execution_count": null,
   "id": "c2b008b6-b0ab-4ac8-96e5-2dc88dbcc3c9",
   "metadata": {},
   "outputs": [],
   "source": [
    "df.columns"
   ]
  },
  {
   "cell_type": "code",
   "execution_count": null,
   "id": "b8c20d57-0bcb-487a-af7f-45357087bde4",
   "metadata": {},
   "outputs": [],
   "source": [
    "df"
   ]
  },
  {
   "cell_type": "code",
   "execution_count": null,
   "id": "f0abc641-7370-4edb-a28f-d7e76819271a",
   "metadata": {},
   "outputs": [],
   "source": []
  }
 ],
 "metadata": {
  "kernelspec": {
   "display_name": "ESG-Mapping",
   "language": "python",
   "name": "esg-mapping"
  },
  "language_info": {
   "codemirror_mode": {
    "name": "ipython",
    "version": 3
   },
   "file_extension": ".py",
   "mimetype": "text/x-python",
   "name": "python",
   "nbconvert_exporter": "python",
   "pygments_lexer": "ipython3",
   "version": "3.9.6"
  }
 },
 "nbformat": 4,
 "nbformat_minor": 5
}
