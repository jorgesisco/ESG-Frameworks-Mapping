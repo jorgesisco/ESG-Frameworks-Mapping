{
 "cells": [
  {
   "cell_type": "code",
   "execution_count": 9,
   "id": "59882720-17b6-4466-84a8-be4688c70633",
   "metadata": {},
   "outputs": [],
   "source": [
    "import pandas as pd\n",
    "# import numpy as np\n",
    "import re\n",
    "\n",
    "# from tabula import read_pdf\n",
    "# from tabulate import tabulate\n",
    "# import pdfplumber\n",
    "# import openpyxl\n",
    "\n",
    "from Script import ExtractPDFTables, MapLinks2Excel"
   ]
  },
  {
   "cell_type": "markdown",
   "id": "20def67c-69c4-4e66-8379-e9b460d651ab",
   "metadata": {
    "tags": []
   },
   "source": [
    "# Table Extraction and Mapping (SGD-GRI Link)"
   ]
  },
  {
   "cell_type": "code",
   "execution_count": 4,
   "id": "d47e7196-e6d5-4f4d-ba51-1b2f668211c7",
   "metadata": {},
   "outputs": [
    {
     "name": "stdin",
     "output_type": "stream",
     "text": [
      "Are you going to map GRI on SDG sheet? (yes or no):  no\n"
     ]
    }
   ],
   "source": [
    "pdf_path = 'ESG-Frameworks/Mapping-Standards/SDG-GRI/sdg-gri.pdf'\n",
    "page_range = [list(range(3, 73)), list(range(74, 99))]\n",
    "area = [80.51, 90.42, 561.96, 814.18]\n",
    "\n",
    "tableTCFD_GRI = ExtractPDFTables(pdf_path, page_range, area)\n",
    "df = tableTCFD_GRI.getTablesSDG_GRI_2('ESG-Frameworks/ESG Data/SDG_info.csv')"
   ]
  },
  {
   "cell_type": "code",
   "execution_count": null,
   "id": "ff7c480a-2f81-4cec-a408-c4b27213a860",
   "metadata": {},
   "outputs": [],
   "source": []
  },
  {
   "cell_type": "markdown",
   "id": "078fde49-d6ba-4743-9ff5-1b4a42e69214",
   "metadata": {
    "jp-MarkdownHeadingCollapsed": true,
    "tags": []
   },
   "source": [
    "## Mapping Collected Dataframe (SDG-GRI)"
   ]
  },
  {
   "cell_type": "code",
   "execution_count": 3,
   "id": "1c967a7e-e7c5-4884-ba83-abc09558ea11",
   "metadata": {},
   "outputs": [
    {
     "data": {
      "text/plain": [
       "\"SDG's sheet from Excel file have bee mapped\""
      ]
     },
     "execution_count": 3,
     "metadata": {},
     "output_type": "execute_result"
    }
   ],
   "source": [
    "excelFilePath = 'ESG-Frameworks/Outputs/testing.xlsx'\n",
    "sheet = \"SDG's\"\n",
    "\n",
    "mapp = MapLinks2Excel(df, sheet, excelFilePath)\n",
    "mapp.MapSDG_GRI()"
   ]
  },
  {
   "cell_type": "markdown",
   "id": "b80f2f59-c77b-43b9-b751-79939c674e27",
   "metadata": {
    "jp-MarkdownHeadingCollapsed": true,
    "tags": []
   },
   "source": [
    "## Mapping Collected Dataframe (GRI-SDG)"
   ]
  },
  {
   "cell_type": "code",
   "execution_count": 5,
   "id": "f823e872-612b-4cd8-85c2-05006fba3b29",
   "metadata": {},
   "outputs": [
    {
     "data": {
      "text/plain": [
       "'GRI 2016 sheet from Excel file have bee mapped'"
      ]
     },
     "execution_count": 5,
     "metadata": {},
     "output_type": "execute_result"
    }
   ],
   "source": [
    "excelFilePath = 'ESG-Frameworks/Outputs/testing.xlsx'\n",
    "sheet = \"GRI 2016\"\n",
    "\n",
    "mapp = MapLinks2Excel(df, sheet, excelFilePath)\n",
    "mapp.MapGRI_SDG()"
   ]
  },
  {
   "cell_type": "code",
   "execution_count": null,
   "id": "eb0c4b87-2953-4af2-a753-3c521208fe5c",
   "metadata": {},
   "outputs": [],
   "source": [
    "sdg_df = pd.read_csv('ESG-Frameworks/ESG Data/SDG_info.csv')"
   ]
  },
  {
   "cell_type": "code",
   "execution_count": null,
   "id": "15ff0fc6-a594-41e3-bda1-8987b9ebd554",
   "metadata": {},
   "outputs": [],
   "source": []
  },
  {
   "cell_type": "code",
   "execution_count": null,
   "id": "a01d98e1-929c-44dc-b4cb-e50568e3b3b8",
   "metadata": {},
   "outputs": [],
   "source": [
    "df"
   ]
  },
  {
   "cell_type": "code",
   "execution_count": null,
   "id": "ecec36e7-b46d-4342-825f-4ce3d813db42",
   "metadata": {},
   "outputs": [],
   "source": [
    "df3 = pd.merge(df, sdg_df, on=['SDG Target'], how='right')"
   ]
  },
  {
   "cell_type": "code",
   "execution_count": null,
   "id": "9b70f2ad-e4f7-4946-9a9d-334d67a50e8d",
   "metadata": {},
   "outputs": [],
   "source": [
    "df3[['SDG Target','GRI Available Business Disclosures', 'GRI Disclosure', 'SDG Description']]"
   ]
  },
  {
   "cell_type": "code",
   "execution_count": null,
   "id": "846182e2-31ee-49b1-8a15-b33edc816eac",
   "metadata": {},
   "outputs": [],
   "source": [
    "df"
   ]
  },
  {
   "cell_type": "markdown",
   "id": "ae114af1-8f87-497e-a767-ea0743a443bd",
   "metadata": {
    "tags": []
   },
   "source": [
    "# Table Extraction and Mapping (COH4B-GRI Link)"
   ]
  },
  {
   "cell_type": "code",
   "execution_count": 10,
   "id": "7f631077-11a1-49a1-ac29-8cec801fc1ed",
   "metadata": {},
   "outputs": [],
   "source": [
    "pdf_path = 'ESG-Frameworks/Mapping-Standards/GRI-COH4B/gri-coh4b.pdf'\n",
    "page_range = list(range(13, 22))\n",
    "\n",
    "\n",
    "tableGRI_COH4B = ExtractPDFTables(pdf_path, page_range)\n",
    "df = tableGRI_COH4B.getTablesGRI_COH4B()\n",
    "df = tableGRI_COH4B.setHeaders(df, 0)\n",
    "df = tableGRI_COH4B.headerSwap(df, 'A. COHBP & \\ndefinition', None, 'id')\n",
    "df = tableGRI_COH4B.addDot(df, 'id')\n",
    "\n",
    "\n",
    "\n",
    "df = tableGRI_COH4B.extractDisclosures(df, 'D. GRI disclosures', 'GRI Standards', '[0-9]{3}-[0-9]{2}|[0-9]{3}-[0-9]{1}', re.search)\n",
    "\n"
   ]
  },
  {
   "cell_type": "code",
   "execution_count": null,
   "id": "a787443a-29cb-4ed9-9580-ba4e267ef7bf",
   "metadata": {},
   "outputs": [],
   "source": []
  },
  {
   "cell_type": "markdown",
   "id": "581c6779-e60c-4c9e-a9dc-ae2081afb4e8",
   "metadata": {
    "tags": []
   },
   "source": [
    "## Mapping Collected Dataframe (COH4B-GRI)"
   ]
  },
  {
   "cell_type": "code",
   "execution_count": 12,
   "id": "355c8504-d724-4705-b058-09f797f9db5f",
   "metadata": {},
   "outputs": [
    {
     "data": {
      "text/plain": [
       "'COH4B sheet from Excel file have bee mapped'"
      ]
     },
     "execution_count": 12,
     "metadata": {},
     "output_type": "execute_result"
    }
   ],
   "source": [
    "excelFilePath = 'ESG-Frameworks/Outputs/testing.xlsx'\n",
    "sheet = \"COH4B\"\n",
    "\n",
    "mapp = MapLinks2Excel(df, sheet, excelFilePath)\n",
    "mapp.MapCOH4B_GRI()"
   ]
  },
  {
   "cell_type": "markdown",
   "id": "b5822347-442f-4954-b4ed-8cb8c856fbc5",
   "metadata": {
    "tags": []
   },
   "source": [
    "## Mapping Collected Dataframe (GRI-COH4B)"
   ]
  },
  {
   "cell_type": "code",
   "execution_count": 13,
   "id": "94e95589-6170-4589-b428-6b56c9863d35",
   "metadata": {},
   "outputs": [
    {
     "data": {
      "text/plain": [
       "'GRI 2016 sheet from Excel file have bee mapped'"
      ]
     },
     "execution_count": 13,
     "metadata": {},
     "output_type": "execute_result"
    }
   ],
   "source": [
    "excelFilePath = 'ESG-Frameworks/Outputs/testing.xlsx'\n",
    "sheet = \"GRI 2016\"\n",
    "\n",
    "mapp = MapLinks2Excel(df, sheet, excelFilePath)\n",
    "mapp.MapGRI_COH4B()"
   ]
  },
  {
   "cell_type": "markdown",
   "id": "fd8b964f-8ed9-4f84-8b60-4b3c5b87d0c8",
   "metadata": {
    "jp-MarkdownHeadingCollapsed": true,
    "tags": []
   },
   "source": [
    "# Table Extraction and Mapping (TCFD-GRI Link)"
   ]
  },
  {
   "cell_type": "code",
   "execution_count": null,
   "id": "7e0c505a-746e-475e-bd43-03a6d61f0b1c",
   "metadata": {},
   "outputs": [],
   "source": [
    "pdf_path = 'ESG-Frameworks/Mapping-Standards/TCFD-GRI/TCFD to GRI-2.pdf'\n",
    "page_range = list(range(49, 59))\n",
    "\n",
    "\n",
    "tableTCFD_GRI = ExtractPDFTables(pdf_path, page_range)\n",
    "df = tableTCFD_GRI.getTablesTCFD_GRI()\n",
    "df = tableTCFD_GRI.extractDisclosures2(df, 'Related \\ncode/\\nparagraph', 'GRI Standards', r'[0-9]{3}-[0-9]{2}|[0-9]{3}-[0-9]{1}', re.findall)\n",
    "df = tableTCFD_GRI.extractDisclosures2(df, 'Recommended \\nDisclosures \\n(TCFD Framework)', 'id', r'\\w+\\s[abc]\\.', re.findall)\n",
    "\n",
    "\n",
    "\n",
    "\n",
    "# [a-zA-Z]\\."
   ]
  },
  {
   "cell_type": "markdown",
   "id": "98bb74a1-3e4f-4871-a6da-3020a87583ea",
   "metadata": {},
   "source": [
    "## Mapping Collected Dataframe (TCDF-GRI)"
   ]
  },
  {
   "cell_type": "code",
   "execution_count": null,
   "id": "80e8963f-4dc9-40a7-8f12-1759ff250255",
   "metadata": {},
   "outputs": [],
   "source": [
    "excelFilePath = 'ESG-Frameworks/Outputs/testing.xlsx'\n",
    "sheet = \"TCFD\"\n",
    "\n",
    "\n",
    "mapp = MapLinks2Excel(df, sheet, excelFilePath)\n",
    "mapp.mapTCFD_GRI()\n"
   ]
  },
  {
   "cell_type": "markdown",
   "id": "e776e65c-623d-434d-b4e2-3031e73a4f4e",
   "metadata": {},
   "source": [
    "## Mapping Collected Dataframe (GRI-TCDF)"
   ]
  },
  {
   "cell_type": "code",
   "execution_count": null,
   "id": "3c9cf03b-8278-4310-8759-d2fbeecfd931",
   "metadata": {},
   "outputs": [],
   "source": [
    "df = tableTCFD_GRI.df_gri_tcdf(df)\n",
    "\n",
    "excelFilePath = 'ESG-Frameworks/Outputs/testing.xlsx'\n",
    "sheet = \"GRI 2016\"\n",
    "\n",
    "\n",
    "mapp = MapLinks2Excel(df, sheet, excelFilePath)\n",
    "mapp.mapGRI_TCFD()"
   ]
  },
  {
   "cell_type": "code",
   "execution_count": null,
   "id": "489396ee-db07-478e-a647-a5d04085a1d9",
   "metadata": {},
   "outputs": [],
   "source": [
    "df"
   ]
  },
  {
   "cell_type": "code",
   "execution_count": null,
   "id": "884cb8a0-cf1d-45d0-85a4-cb0f92d1000e",
   "metadata": {},
   "outputs": [],
   "source": []
  }
 ],
 "metadata": {
  "kernelspec": {
   "display_name": "ESG-Mapping",
   "language": "python",
   "name": "esg-mapping"
  },
  "language_info": {
   "codemirror_mode": {
    "name": "ipython",
    "version": 3
   },
   "file_extension": ".py",
   "mimetype": "text/x-python",
   "name": "python",
   "nbconvert_exporter": "python",
   "pygments_lexer": "ipython3",
   "version": "3.9.6"
  }
 },
 "nbformat": 4,
 "nbformat_minor": 5
}
