{
 "cells": [
  {
   "cell_type": "code",
   "execution_count": 20,
   "id": "59882720-17b6-4466-84a8-be4688c70633",
   "metadata": {},
   "outputs": [],
   "source": [
    "import pandas as pd\n",
    "import numpy as np\n",
    "import re\n",
    "\n",
    "from tabula import read_pdf\n",
    "from tabulate import tabulate\n",
    "import pdfplumber\n",
    "import openpyxl\n",
    "\n",
    "from Script import ExtractPDFTables, MapLinks2Excel\n",
    "import camelot.io as camelot\n",
    "\n",
    "\n"
   ]
  },
  {
   "cell_type": "code",
   "execution_count": 46,
   "id": "6e140109-0c80-49ec-9729-7d13acf9f307",
   "metadata": {},
   "outputs": [],
   "source": [
    "from ghostscript import Ghostscript\n",
    "\n"
   ]
  },
  {
   "cell_type": "code",
   "execution_count": 47,
   "id": "57f493bf-651d-4fd5-89a8-a9823a9b580e",
   "metadata": {},
   "outputs": [
    {
     "ename": "SyntaxError",
     "evalue": "invalid syntax (1767815816.py, line 1)",
     "output_type": "error",
     "traceback": [
      "\u001b[0;36m  File \u001b[0;32m\"/var/folders/j2/64m37fcx0fx_w8wpmhz91lmh0000gn/T/ipykernel_86067/1767815816.py\"\u001b[0;36m, line \u001b[0;32m1\u001b[0m\n\u001b[0;31m    excalibur initdb\u001b[0m\n\u001b[0m              ^\u001b[0m\n\u001b[0;31mSyntaxError\u001b[0m\u001b[0;31m:\u001b[0m invalid syntax\n"
     ]
    }
   ],
   "source": []
  },
  {
   "cell_type": "markdown",
   "id": "20def67c-69c4-4e66-8379-e9b460d651ab",
   "metadata": {
    "jp-MarkdownHeadingCollapsed": true,
    "tags": []
   },
   "source": [
    "# 1 .Table Extraction and Mapping (SGD-GRI Link)"
   ]
  },
  {
   "cell_type": "code",
   "execution_count": null,
   "id": "d47e7196-e6d5-4f4d-ba51-1b2f668211c7",
   "metadata": {},
   "outputs": [],
   "source": [
    "pdf_path = 'ESG-Frameworks/Mapping-Standards/SDG-GRI/sdg-gri.pdf'\n",
    "page_range = [list(range(3, 73)), list(range(74, 99))]\n",
    "area = [80.51, 90.42, 561.96, 814.18]\n",
    "\n",
    "tableTCFD_GRI = ExtractPDFTables(pdf_path, page_range, area)\n",
    "df = tableTCFD_GRI.getTablesSDG_GRI('ESG-Frameworks/ESG Data/SDG_info.csv')"
   ]
  },
  {
   "cell_type": "code",
   "execution_count": null,
   "id": "ac177e76-6239-4138-b0db-4dc8cb5e144f",
   "metadata": {},
   "outputs": [],
   "source": []
  },
  {
   "cell_type": "markdown",
   "id": "078fde49-d6ba-4743-9ff5-1b4a42e69214",
   "metadata": {
    "tags": []
   },
   "source": [
    "## Mapping Collected Dataframe (SDG-GRI)"
   ]
  },
  {
   "cell_type": "code",
   "execution_count": null,
   "id": "1c967a7e-e7c5-4884-ba83-abc09558ea11",
   "metadata": {},
   "outputs": [],
   "source": [
    "excelFilePath = 'ESG-Frameworks/Outputs/testing.xlsx'\n",
    "sheet = \"SDG's\"\n",
    "\n",
    "mapp = MapLinks2Excel(df, sheet, excelFilePath)\n",
    "mapp.MapSDG_GRI()"
   ]
  },
  {
   "cell_type": "markdown",
   "id": "b80f2f59-c77b-43b9-b751-79939c674e27",
   "metadata": {
    "tags": []
   },
   "source": [
    "## Mapping Collected Dataframe (GRI-SDG)"
   ]
  },
  {
   "cell_type": "code",
   "execution_count": null,
   "id": "f823e872-612b-4cd8-85c2-05006fba3b29",
   "metadata": {},
   "outputs": [],
   "source": [
    "excelFilePath = 'ESG-Frameworks/Outputs/testing.xlsx'\n",
    "sheet = \"GRI 2016\"\n",
    "\n",
    "mapp = MapLinks2Excel(df, sheet, excelFilePath)\n",
    "mapp.MapGRI_SDG()"
   ]
  },
  {
   "cell_type": "markdown",
   "id": "ae114af1-8f87-497e-a767-ea0743a443bd",
   "metadata": {
    "jp-MarkdownHeadingCollapsed": true,
    "tags": []
   },
   "source": [
    "# 2. Table Extraction and Mapping (COH4B-GRI Link)"
   ]
  },
  {
   "cell_type": "code",
   "execution_count": null,
   "id": "7f631077-11a1-49a1-ac29-8cec801fc1ed",
   "metadata": {},
   "outputs": [],
   "source": [
    "pdf_path = 'ESG-Frameworks/Mapping-Standards/GRI-COH4B/gri-coh4b.pdf'\n",
    "page_range = list(range(13, 22))\n",
    "\n",
    "\n",
    "tableGRI_COH4B = ExtractPDFTables(pdf_path, page_range)\n",
    "df = tableGRI_COH4B.getTablesGRI_COH4B()\n",
    "df = tableGRI_COH4B.setHeaders(df, 0)\n",
    "df = tableGRI_COH4B.headerSwap(df, 'A. COHBP & \\ndefinition', None, 'id')\n",
    "df = tableGRI_COH4B.addDot(df, 'id')\n",
    "\n",
    "\n",
    "\n",
    "df = tableGRI_COH4B.extractDisclosures1(df, 'D. GRI disclosures', 'GRI Standards', '[0-9]{3}-[0-9]{2}|[0-9]{3}-[0-9]{1}', re.search)\n",
    "\n"
   ]
  },
  {
   "cell_type": "code",
   "execution_count": null,
   "id": "a787443a-29cb-4ed9-9580-ba4e267ef7bf",
   "metadata": {},
   "outputs": [],
   "source": [
    "# df"
   ]
  },
  {
   "cell_type": "markdown",
   "id": "581c6779-e60c-4c9e-a9dc-ae2081afb4e8",
   "metadata": {
    "tags": []
   },
   "source": [
    "## Mapping Collected Dataframe (COH4B-GRI)"
   ]
  },
  {
   "cell_type": "code",
   "execution_count": null,
   "id": "355c8504-d724-4705-b058-09f797f9db5f",
   "metadata": {},
   "outputs": [],
   "source": [
    "excelFilePath = 'ESG-Frameworks/Outputs/testing.xlsx'\n",
    "sheet = \"COH4B\"\n",
    "\n",
    "mapp = MapLinks2Excel(df, sheet, excelFilePath)\n",
    "mapp.MapCOH4B_GRI()"
   ]
  },
  {
   "cell_type": "markdown",
   "id": "b5822347-442f-4954-b4ed-8cb8c856fbc5",
   "metadata": {
    "tags": []
   },
   "source": [
    "## Mapping Collected Dataframe (GRI-COH4B)"
   ]
  },
  {
   "cell_type": "code",
   "execution_count": null,
   "id": "94e95589-6170-4589-b428-6b56c9863d35",
   "metadata": {},
   "outputs": [],
   "source": [
    "excelFilePath = 'ESG-Frameworks/Outputs/testing.xlsx'\n",
    "sheet = \"GRI 2016\"\n",
    "\n",
    "mapp = MapLinks2Excel(df, sheet, excelFilePath)\n",
    "mapp.MapGRI_COH4B()"
   ]
  },
  {
   "cell_type": "markdown",
   "id": "fd8b964f-8ed9-4f84-8b60-4b3c5b87d0c8",
   "metadata": {
    "jp-MarkdownHeadingCollapsed": true,
    "tags": []
   },
   "source": [
    "# 3. Table Extraction and Mapping (TCFD-GRI Link)"
   ]
  },
  {
   "cell_type": "code",
   "execution_count": null,
   "id": "7e0c505a-746e-475e-bd43-03a6d61f0b1c",
   "metadata": {},
   "outputs": [],
   "source": [
    "pdf_path = 'ESG-Frameworks/Mapping-Standards/TCFD-GRI/TCFD to GRI.pdf'\n",
    "page_range = list(range(49, 59))\n",
    "\n",
    "\n",
    "tableTCFD_GRI = ExtractPDFTables(pdf_path, page_range)\n",
    "df = tableTCFD_GRI.getTablesTCFD_GRI()\n",
    "df = tableTCFD_GRI.extractDisclosures2(df, 'Related \\ncode/\\nparagraph', 'GRI Standards', r'[0-9]{3}-[0-9]{2}|[0-9]{3}-[0-9]{1}', re.findall)\n",
    "df = tableTCFD_GRI.extractDisclosures2(df, 'Recommended \\nDisclosures \\n(TCFD Framework)', 'id', r'\\w+\\s[abc]\\.', re.findall)\n",
    "\n",
    "\n",
    "\n",
    "\n",
    "# [a-zA-Z]\\."
   ]
  },
  {
   "cell_type": "code",
   "execution_count": null,
   "id": "40635d78-c62b-483f-8fe6-31987fd4bab7",
   "metadata": {},
   "outputs": [],
   "source": []
  },
  {
   "cell_type": "markdown",
   "id": "98bb74a1-3e4f-4871-a6da-3020a87583ea",
   "metadata": {},
   "source": [
    "## Mapping Collected Dataframe (TCDF-GRI)"
   ]
  },
  {
   "cell_type": "code",
   "execution_count": null,
   "id": "80e8963f-4dc9-40a7-8f12-1759ff250255",
   "metadata": {},
   "outputs": [],
   "source": [
    "excelFilePath = 'ESG-Frameworks/Outputs/testing.xlsx'\n",
    "sheet = \"TCFD\"\n",
    "\n",
    "\n",
    "mapp = MapLinks2Excel(df, sheet, excelFilePath)\n",
    "mapp.mapTCFD_GRI()\n"
   ]
  },
  {
   "cell_type": "markdown",
   "id": "e776e65c-623d-434d-b4e2-3031e73a4f4e",
   "metadata": {},
   "source": [
    "## Mapping Collected Dataframe (GRI-TCDF)"
   ]
  },
  {
   "cell_type": "code",
   "execution_count": null,
   "id": "a98d3107-bfc9-4324-96a8-7631386af478",
   "metadata": {},
   "outputs": [],
   "source": [
    "df = tableTCFD_GRI.df_gri_tcdf(df)"
   ]
  },
  {
   "cell_type": "code",
   "execution_count": null,
   "id": "3c9cf03b-8278-4310-8759-d2fbeecfd931",
   "metadata": {},
   "outputs": [],
   "source": [
    "excelFilePath = 'ESG-Frameworks/Outputs/testing.xlsx'\n",
    "sheet = \"GRI 2016\"\n",
    "\n",
    "\n",
    "mapp = MapLinks2Excel(df, sheet, excelFilePath)\n",
    "mapp.mapGRI_TCFD()"
   ]
  },
  {
   "cell_type": "markdown",
   "id": "27e7f443-cf6f-4c95-bb39-60a61e384561",
   "metadata": {
    "jp-MarkdownHeadingCollapsed": true,
    "tags": []
   },
   "source": [
    "# 4. Table Extraction and Mapping (GRI 2016- GRI 2021)"
   ]
  },
  {
   "cell_type": "markdown",
   "id": "7ae3cf86-ab62-4d5a-84d7-01c1ea5d3273",
   "metadata": {
    "jp-MarkdownHeadingCollapsed": true,
    "tags": []
   },
   "source": [
    "### Reading extracted csv from excel and fixing the columns names, this new csv file will be use for future mapping"
   ]
  },
  {
   "cell_type": "code",
   "execution_count": null,
   "id": "884cb8a0-cf1d-45d0-85a4-cb0f92d1000e",
   "metadata": {},
   "outputs": [],
   "source": [
    "# df = pd.read_csv('ESG-Frameworks/Mapping-Standards/GRI 2016-2021//GRI2016-2021.csv', sep=';')\n",
    "# df = df.iloc[0:67]\n",
    "# df.rename(columns = {\"GRI Standard Title\": \"GRI Standard Title 2016\",\n",
    "#                      \"Disclosure Number\": \"Disclosure Number 2016\",\n",
    "#                      \"Disclosure Name\\nIndividual requirements ('a', 'b', 'c', etc.) are not listed here\": 'GRI 2016 Description',\n",
    "#                      \"Section\": \"Section 2016\",\n",
    "#                      \"Page Number\": \"Page Number 2016\",\n",
    "#                      \"GRI Standard Title.1\": \"GRI 2021 Standard Title\",\n",
    "#                      \"Disclosure Number.1\": \"Disclosure Number 2021\",\n",
    "#                      \"Disclosure Name\\nIndividual requirements ('a', 'b', 'c', etc.) are not listed here.1\": 'GRI 2021 Description',\n",
    "#                      \"Section.1\": \"Section 2021\",\n",
    "#                      \"Page Number.1\": 'Page Number 2021'},\n",
    "#                       inplace = True)\n"
   ]
  },
  {
   "cell_type": "code",
   "execution_count": null,
   "id": "b1f3a68f-46d2-447a-8345-31bdb71ac29a",
   "metadata": {},
   "outputs": [],
   "source": [
    "# df.to_csv('GRI2016-2021.csv')"
   ]
  },
  {
   "cell_type": "code",
   "execution_count": null,
   "id": "781b30e3-6fae-426d-8028-fe430659cb35",
   "metadata": {},
   "outputs": [],
   "source": []
  },
  {
   "cell_type": "markdown",
   "id": "7af327a8-9c32-4dfe-b4b1-236279eb4a78",
   "metadata": {
    "tags": []
   },
   "source": [
    "## Mapping GRI 2021 ON GRI 2016 sheet"
   ]
  },
  {
   "cell_type": "markdown",
   "id": "159e5a9f-6b8f-4871-803a-4819a7c0343f",
   "metadata": {
    "jp-MarkdownHeadingCollapsed": true,
    "tags": []
   },
   "source": [
    "#### Source code for method"
   ]
  },
  {
   "cell_type": "code",
   "execution_count": null,
   "id": "e1e39a59-19ee-4dc8-966e-46f3392471cf",
   "metadata": {},
   "outputs": [],
   "source": [
    "path_file = 'ESG-Frameworks/Outputs/testing.xlsx'\n",
    "sheet = 'GRI 2016'\n",
    "\n",
    "wb = openpyxl.load_workbook(path_file)\n",
    "ws = wb[sheet]\n",
    "\n",
    "rows = ws.max_row\n",
    "\n",
    "print(rows)\n",
    "# print(rows)\n",
    "for i in range(3, rows):\n",
    "    if ws.cell(row=i, column=2).value != None:\n",
    "        target_cell = ws.cell(row=i, column=2).value\n",
    "        # print(target_cell)\n",
    "        \n",
    "        if target_cell != None:\n",
    "            try:\n",
    "                disclosure_to_add = df.loc[df['Disclosure Number 2016'] == target_cell]['Disclosure Number 2021'].item()\n",
    "                ws.cell(row=i, column=4, value=str(disclosure_to_add))\n",
    "                \n",
    "                section_to_add = df.loc[df['Disclosure Number 2016'] == target_cell]['Section 2021'].item()\n",
    "                \t\n",
    "                ws.cell(row=i, column=5, value=str(section_to_add))\t\n",
    "\n",
    "            except:\n",
    "                pass\n",
    "        \n",
    "        \n",
    "       \n",
    "\n",
    "wb.save(path_file)\n",
    "\n",
    "print(f'{sheet} sheet from Excel file have bee mapped')"
   ]
  },
  {
   "cell_type": "code",
   "execution_count": null,
   "id": "cbc69e1c-f9ec-4ca5-ba8a-a29fa4ad053f",
   "metadata": {},
   "outputs": [],
   "source": [
    "df = pd.read_csv('ESG-Frameworks/Mapping-Standards/GRI 2016-2021//GRI2016-2021.csv')\n",
    "df = df.drop('Unnamed: 0', axis=1)"
   ]
  },
  {
   "cell_type": "markdown",
   "id": "4b9e04f0-f814-46d7-9fb4-217a15b41021",
   "metadata": {
    "tags": []
   },
   "source": [
    "### Mapping GRI 2021 to 2016 sheet using class method"
   ]
  },
  {
   "cell_type": "code",
   "execution_count": null,
   "id": "4b96ad41-0a7f-43b1-8cd4-5fff3c6a4489",
   "metadata": {},
   "outputs": [],
   "source": [
    "df = pd.read_csv('ESG-Frameworks/Mapping-Standards/GRI 2016-2021//GRI2016-2021.csv')\n",
    "df = df.drop('Unnamed: 0', axis=1)"
   ]
  },
  {
   "cell_type": "code",
   "execution_count": null,
   "id": "f37d6528-e44c-4de4-b61b-97e5b1a3a3ea",
   "metadata": {},
   "outputs": [],
   "source": [
    "excelFilePath = 'ESG-Frameworks/Outputs/testing.xlsx'\n",
    "sheet = \"GRI 2016\"\n",
    "\n",
    "\n",
    "mapp = MapLinks2Excel(df, sheet, excelFilePath)\n",
    "mapp.mapGRI2016_2021()"
   ]
  },
  {
   "cell_type": "markdown",
   "id": "1844ae5c-066e-4ea1-a175-e96d53a9e7c7",
   "metadata": {
    "jp-MarkdownHeadingCollapsed": true,
    "tags": []
   },
   "source": [
    "## Mapping GRI 2016 ON GRI 2021sheet"
   ]
  },
  {
   "cell_type": "code",
   "execution_count": null,
   "id": "e3ea84bc-416f-4565-a1a7-d9c737b7c5ea",
   "metadata": {},
   "outputs": [],
   "source": [
    "df = pd.read_csv('ESG-Frameworks/Mapping-Standards/GRI 2016-2021//GRI2016-2021.csv')\n",
    "df = df.drop('Unnamed: 0', axis=1)"
   ]
  },
  {
   "cell_type": "code",
   "execution_count": null,
   "id": "4ca34b05-445a-4166-b71b-45e723b31000",
   "metadata": {},
   "outputs": [],
   "source": [
    "# excelFilePath = 'ESG-Frameworks/Outputs/testing.xlsx'\n",
    "# sheet = \"GRI 2021\"\n",
    "\n",
    "# a = []\n",
    "# wb = openpyxl.load_workbook(excelFilePath)\n",
    "# ws = wb[sheet]\n",
    "# rows = ws.max_row\n",
    "\n",
    "# regex = '[1-9]+-[1-9]+'\n",
    "\n",
    "# for i in range(3, rows):\n",
    "# \tif ws.cell(row=i, column=2).value == None:\n",
    "# \t\tpass\n",
    "    \n",
    "# \telse:\n",
    "# \t\ttarget_cell = ws.cell(row=i, column=2).value\n",
    "\n",
    "# \t\tif target_cell != None:\n",
    "# \t\t\ttry:\n",
    "# \t\t\t\tdisclosure_to_add = df.loc[df['Disclosure Number 2021'] == target_cell]['Disclosure Number 2016'].values\n",
    "# \t\t\t\t# print(disclosure_to_add)\n",
    "# \t\t\t\tws.cell(row=i, column=4, value='\\n'.join(disclosure_to_add))\n",
    "\n",
    "                \n",
    "# \t\t\t\tsection_to_add = df.loc[df['Disclosure Number 2021'] == target_cell]['Section 2016'].values\n",
    "\n",
    "                \n",
    "# \t\t\t\tws.cell(row=i, column=5, value=section_to_add[0])\n",
    "\n",
    "# \t\t\texcept:\n",
    "# \t\t\t\t\tpass\n",
    "\n",
    "# wb.save(excelFilePath)\n",
    "\n",
    "# # print(f\"{sheet} sheet from Excel file have bee mapped with it's GRI 2021 equivalent\")\n",
    "\n"
   ]
  },
  {
   "cell_type": "code",
   "execution_count": null,
   "id": "7b7440f1-1738-4aba-8ca3-14f3bb396460",
   "metadata": {},
   "outputs": [],
   "source": [
    "excelFilePath = 'ESG-Frameworks/Outputs/testing.xlsx'\n",
    "sheet = \"GRI 2021\"\n",
    "\n",
    "\n",
    "mapp = MapLinks2Excel(df, sheet, excelFilePath)\n",
    "mapp.mapGRI2021_2016()"
   ]
  },
  {
   "cell_type": "code",
   "execution_count": null,
   "id": "78ce55fb-4456-41dd-96fc-c7552b92e560",
   "metadata": {},
   "outputs": [],
   "source": []
  },
  {
   "cell_type": "markdown",
   "id": "2538966e-ea0e-47bd-a87d-f6382551f708",
   "metadata": {
    "jp-MarkdownHeadingCollapsed": true,
    "tags": []
   },
   "source": [
    "# 5 Table Extraction and Mapping(CASS CSR 4.0 - GRI 2016)"
   ]
  },
  {
   "cell_type": "markdown",
   "id": "68e1b749-4c3d-4cd0-b81d-ae7102d7504c",
   "metadata": {
    "tags": []
   },
   "source": [
    "## Source code to extract pdf"
   ]
  },
  {
   "cell_type": "code",
   "execution_count": null,
   "id": "0e79ac47-df79-410b-8deb-6c80fef3727b",
   "metadata": {
    "tags": []
   },
   "outputs": [],
   "source": [
    "file_path = 'ESG-Frameworks/Mapping-Standards/CASSCSR-GRI/CASS_CSR-GRI.pdf'\n",
    "page_range = list(range(7, 30))\n",
    "\n",
    "pdf = pdfplumber.open(file_path, pages=page_range)\n",
    "frames = []\n",
    "\n",
    "for i in range(0, len(page_range)):\n",
    "\ttry:\n",
    "\t\tpage = pdf.pages[i]\n",
    "\t\ttable = page.extract_table()\n",
    "\t\tframes.append(pd.DataFrame(table))\n",
    "\t\t\t\n",
    "\texcept:\n",
    "\t\tpass\n",
    "\n",
    "df =  pd.concat(frames)\n",
    "df.columns = df.iloc[0]\n",
    "df = df[1:]\n",
    "find_duplicate = df['KPI \\n(CASSCSR-4.0)'].isin(['KPI \\n(CASSCSR-4.0)'])\n",
    "\n",
    "df = df[~find_duplicate]"
   ]
  },
  {
   "cell_type": "markdown",
   "id": "8c717da7-7661-4f27-bec2-ec304b925314",
   "metadata": {
    "jp-MarkdownHeadingCollapsed": true,
    "tags": []
   },
   "source": [
    "## Getting data from pdf CASS_GRI 2016"
   ]
  },
  {
   "cell_type": "code",
   "execution_count": null,
   "id": "f7031ad1-edbb-4b0d-a880-7c0ffffd14a1",
   "metadata": {},
   "outputs": [],
   "source": [
    "pdf_path = 'ESG-Frameworks/Mapping-Standards/CASSCSR-GRI/CASS_CSR-GRI.pdf'\n",
    "page_range = list(range(7, 30))\n",
    "\n",
    "\n",
    "tableCASS_G0RI = ExtractPDFTables(pdf_path, page_range)\n",
    "df = tableCASS_GRI.getTablesCASS_GRI()"
   ]
  },
  {
   "cell_type": "code",
   "execution_count": null,
   "id": "d700568a-7f42-45c1-a20d-c00183801330",
   "metadata": {},
   "outputs": [],
   "source": [
    "df"
   ]
  },
  {
   "cell_type": "markdown",
   "id": "ed5f3223-f7a0-480e-a91c-206f80b0c966",
   "metadata": {
    "jp-MarkdownHeadingCollapsed": true,
    "tags": []
   },
   "source": [
    "## Mapping to excel! source code  CASS ON GRI2016 SHEET"
   ]
  },
  {
   "cell_type": "code",
   "execution_count": null,
   "id": "17b40e4e-889a-4acf-a48e-f47d1833e542",
   "metadata": {},
   "outputs": [],
   "source": [
    "path_file = 'ESG-Frameworks/Outputs/testing.xlsx'\n",
    "\n",
    "sheet = 'GRI 2016'\n",
    "\n",
    "regex = '\\w[+-]?[0-9]+\\.+\\d+'\n",
    "\n",
    "wb = openpyxl.load_workbook(path_file)\n",
    "ws = wb[sheet]\n",
    "rows = ws.max_row\n",
    "\n",
    "\n",
    "for i in range(3, rows):\n",
    "\tif ws.cell(row=i, column=2).value == None:\n",
    "\t\tpass\n",
    "\n",
    "\telse:\n",
    "\t\ttarget_cell = ws.cell(row=i, column=2).value\n",
    "\t\t# print(target_cell)\n",
    "\n",
    "        \n",
    "\t\tif target_cell != None:\n",
    "            \n",
    "\t\t\ttry:\n",
    "\t\t\t\tdisclosure_to_add = df.loc[df['ID_GRI'] == target_cell]['ID_CASS_CSR'].values\n",
    "\t\t\t\t\n",
    "                \n",
    "\t\t\t\tif len(disclosure_to_add) > 0:\n",
    "\t\t\t\t\tdisclosure_to_add_ = [i[re.search(regex, i).start():re.search(regex, i).end()] for i in disclosure_to_add]\n",
    "\t\t\t\t\t# print(disclosure_to_add_)\n",
    "\t\t\t\t\tws.cell(row=i, column=12, value='\\n'.join(disclosure_to_add_))\n",
    "                    \n",
    "\t\t\t\tsection_to_add = df.loc[df['ID_GRI'] == target_cell]['KPI \\n(CASSCSR-4.0)'].values\n",
    "                \n",
    "                \n",
    "\t\t\t\tif len(section_to_add)>0:\n",
    "                    \n",
    "\t\t\t\t\t# print(section_to_add)\n",
    "\t\t\t\t\tws.cell(row=i, column=13, value='\\n'.join(section_to_add))\t\n",
    "\n",
    "\t\t\texcept:\n",
    "\t\t\t\tpass\n",
    "wb.save(path_file)"
   ]
  },
  {
   "cell_type": "markdown",
   "id": "7338c5dd-e8cf-47c7-b676-0ce46c7f9178",
   "metadata": {
    "jp-MarkdownHeadingCollapsed": true,
    "tags": []
   },
   "source": [
    "## Mapping to Excel Class method CASS on GRI 20016"
   ]
  },
  {
   "cell_type": "code",
   "execution_count": null,
   "id": "7be67fec-1065-47a8-9155-076aa563cbba",
   "metadata": {},
   "outputs": [],
   "source": [
    "path_file = 'ESG-Frameworks/Outputs/testing.xlsx'\n",
    "\n",
    "sheet = 'GRI 2016'\n",
    "\n",
    "mapp = MapLinks2Excel(df, sheet, path_file)\n",
    "mapp.mapCASS_GRI1016()"
   ]
  },
  {
   "cell_type": "markdown",
   "id": "b90da869-276b-4198-9e38-53596676122c",
   "metadata": {
    "tags": []
   },
   "source": [
    "## Mapping to Excel GRI2016 ON CASS "
   ]
  },
  {
   "cell_type": "markdown",
   "id": "97ef7533-53a4-4ed3-99f7-b3365bec25b7",
   "metadata": {
    "tags": []
   },
   "source": [
    "### Source Code"
   ]
  },
  {
   "cell_type": "code",
   "execution_count": null,
   "id": "81eba20c-1b0a-4f55-93a0-e05df79760ff",
   "metadata": {},
   "outputs": [],
   "source": [
    "path_file = 'ESG-Frameworks/Outputs/testing.xlsx'\n",
    "\n",
    "sheet = 'CASS CSR 4.0'\n",
    "\n",
    "\n",
    "wb = openpyxl.load_workbook(path_file)\n",
    "ws = wb[sheet]\n",
    "rows = ws.max_row\n",
    "\n",
    "\n",
    "\n",
    "    \n",
    "    \n",
    "for i in range(3, len(df['ID_CASS_CSR'])):\n",
    "\n",
    "    ws.cell(row=i, column=1, value=df['ID_CASS_CSR'][i])\n",
    "    ws.cell(row=i, column=2, value=df['KPI \\n(CASSCSR-4.0)'][i])\n",
    "    ws.cell(row=i, column=3, value=df['ID_GRI'][i])\n",
    "    ws.cell(row=i, column=4, value=df['Disclosure title (GRI)'][i])\n",
    "    \n",
    "\n",
    "wb.save(path_file)\n"
   ]
  },
  {
   "cell_type": "markdown",
   "id": "e275a1e1-914f-4a05-8d1b-9df2d61faf19",
   "metadata": {
    "jp-MarkdownHeadingCollapsed": true,
    "tags": []
   },
   "source": [
    "### Mapping GRI TO CASS WITH CLASS METHOD"
   ]
  },
  {
   "cell_type": "code",
   "execution_count": null,
   "id": "185f83f2-161d-4ca3-a04e-1c7b085d951a",
   "metadata": {},
   "outputs": [],
   "source": [
    "path_file = 'ESG-Frameworks/Outputs/testing.xlsx'\n",
    "\n",
    "sheet = 'CASS CSR 4.0'\n",
    "\n",
    "mapp = MapLinks2Excel(df, sheet, path_file)\n",
    "mapp.mapGRI2016_CASS()"
   ]
  },
  {
   "cell_type": "code",
   "execution_count": null,
   "id": "fb48cf9e-6541-4150-b04b-85bbe82651ab",
   "metadata": {},
   "outputs": [],
   "source": [
    "df"
   ]
  },
  {
   "cell_type": "markdown",
   "id": "8b198583-f022-400e-8e1a-bcb8fb612d7f",
   "metadata": {
    "jp-MarkdownHeadingCollapsed": true,
    "tags": []
   },
   "source": [
    "# 6. Table Extraction and Mapping(CDP 2017 - GRI 2016)"
   ]
  },
  {
   "cell_type": "markdown",
   "id": "ea0aabcc-aa28-4f8e-b418-b414f248e3ce",
   "metadata": {
    "tags": []
   },
   "source": [
    "## Getting Tables from doc"
   ]
  },
  {
   "cell_type": "code",
   "execution_count": null,
   "id": "d1d76e2f-9d52-472e-8c62-3658d8e87fc6",
   "metadata": {},
   "outputs": [],
   "source": [
    "pdf_path = 'ESG-Frameworks/Mapping-Standards/CDP17-GRI/Cdp 2017 to GRI.pdf'\n",
    "page_range = list(range(2, 32))\n",
    "\n",
    "\n",
    "tableCDP_GRI = ExtractPDFTables(pdf_path, page_range)\n",
    "df = tableCDP_GRI.getTablesCDP_GRI()"
   ]
  },
  {
   "cell_type": "code",
   "execution_count": null,
   "id": "ab6e2a94-d1b0-4644-835f-50b786512779",
   "metadata": {},
   "outputs": [],
   "source": [
    "df.head(3)"
   ]
  },
  {
   "cell_type": "markdown",
   "id": "dff93951-24a0-43e4-8a24-7236a7d17561",
   "metadata": {
    "tags": []
   },
   "source": [
    "## Mapping CDP 2017 to GRI"
   ]
  },
  {
   "cell_type": "code",
   "execution_count": null,
   "id": "015cfb85-f235-47de-8c66-c1a6e90f6820",
   "metadata": {},
   "outputs": [],
   "source": [
    "path_file = 'ESG-Frameworks/Outputs/testing.xlsx'\n",
    "sheet = 'GRI 2016'\n",
    "\n",
    "mapp = MapLinks2Excel(df, sheet, path_file)\n",
    "mapp.mapCDPCC17_GRI()\n"
   ]
  },
  {
   "cell_type": "code",
   "execution_count": null,
   "id": "7452e3d8-e493-4dfa-b187-7b4d645fb021",
   "metadata": {},
   "outputs": [],
   "source": []
  },
  {
   "cell_type": "markdown",
   "id": "2a0ee683-5b0d-45a8-8201-9c792b743c0b",
   "metadata": {
    "tags": []
   },
   "source": [
    "## Mapping GRI to CDP 2017"
   ]
  },
  {
   "cell_type": "code",
   "execution_count": null,
   "id": "f3758ee7-32a4-4514-bad0-8e2d1aefe576",
   "metadata": {},
   "outputs": [],
   "source": []
  },
  {
   "cell_type": "code",
   "execution_count": null,
   "id": "ab792087-aed2-4463-88a3-8d920c43ed81",
   "metadata": {},
   "outputs": [],
   "source": [
    "path_file = 'ESG-Frameworks/Outputs/testing.xlsx'\n",
    "\n",
    "sheet = 'CDP 2017'\n",
    "\n",
    "wb = openpyxl.load_workbook(path_file)\n",
    "ws = wb[sheet]\n",
    "\n",
    "# print(df['CDP'])\n",
    "regex = '[a-zA-Z]+.+\\d'\n",
    "\n",
    "r = 3\n",
    "for i in df['CDP']:\n",
    "    if re.search(regex, i):\n",
    "#         print('--------------------------------------')\n",
    "        ws.cell(row=r, column=1, value=i)\n",
    "#         print(i)\n",
    "        r+=1\n",
    "\n",
    "\n",
    "regex_2 = 'GRI \\w+\\d:'\n",
    "    \n",
    "r = 3\n",
    "for i in df['GRI']:\n",
    "    if i != None and re.search(regex_2, i):\n",
    "        ws.cell(row=r, column=2, value=i)\n",
    "        r+=1\n",
    "\n",
    "        \n",
    "\n",
    "wb.save(path_file)\n",
    "\n",
    "\n",
    "\t"
   ]
  },
  {
   "cell_type": "code",
   "execution_count": null,
   "id": "fd6828f8-a26a-4d88-8b41-1fab66ff8414",
   "metadata": {},
   "outputs": [],
   "source": [
    "path_file = 'ESG-Frameworks/Outputs/testing.xlsx'\n",
    "sheet = 'CDP CC 2017'\n",
    "\n",
    "mapp = MapLinks2Excel(df, sheet, path_file)\n",
    "mapp.mapGRI_CDPCC17()\n"
   ]
  },
  {
   "cell_type": "markdown",
   "id": "070722eb-6f72-434b-8ed5-914391d41084",
   "metadata": {
    "jp-MarkdownHeadingCollapsed": true,
    "tags": []
   },
   "source": [
    "# 7. Table Extraction and Mapping (CDP Water 2018 - GRI)"
   ]
  },
  {
   "cell_type": "code",
   "execution_count": null,
   "id": "de322395-5084-487f-a0e6-6933306c4481",
   "metadata": {},
   "outputs": [],
   "source": [
    "pdf_path = 'ESG-Frameworks/Mapping-Standards/CDP Water 2018 - GRI/CDP 2018 Water to GRI.pdf'\n",
    "page_range = list(range(6, 29))\n",
    "\n",
    "\n",
    "tableCDP_GRI = ExtractPDFTables(pdf_path, page_range)\n",
    "df = tableCDP_GRI.getTablesCDP_GRI()\n",
    "\n",
    "\n"
   ]
  },
  {
   "cell_type": "markdown",
   "id": "c0e4b1d6-290f-489c-a2c7-582b5c57e18b",
   "metadata": {},
   "source": [
    "## Mapping CDP Water 2018 on GRI 2016 sheet"
   ]
  },
  {
   "cell_type": "code",
   "execution_count": null,
   "id": "ee713ca6-17b9-4c0e-b0d7-31c9d037efae",
   "metadata": {},
   "outputs": [],
   "source": [
    "path_file = 'ESG-Frameworks/Outputs/testing.xlsx'\n",
    "sheet = 'GRI 2016'\n",
    "\n",
    "mapp = MapLinks2Excel(df, sheet, path_file)\n",
    "mapp.mapCDP18_GRI()\n"
   ]
  },
  {
   "cell_type": "markdown",
   "id": "2ce9d9c7-58e3-4972-817d-cb33d60b1701",
   "metadata": {},
   "source": [
    "## Mapping GRI 2016 ON CDP Water 2018 sheet"
   ]
  },
  {
   "cell_type": "code",
   "execution_count": null,
   "id": "21f06096-b22e-4e81-a066-505fb2d1aa78",
   "metadata": {},
   "outputs": [],
   "source": [
    "path_file = 'ESG-Frameworks/Outputs/testing.xlsx'\n",
    "sheet = 'CDP WATER 2018'\n",
    "\n",
    "mapp = MapLinks2Excel(df, sheet, path_file)\n",
    "mapp.mapGRI_CEP18()\n"
   ]
  },
  {
   "cell_type": "code",
   "execution_count": null,
   "id": "0d5245e4-1c76-45da-aa65-b30ff34d878e",
   "metadata": {},
   "outputs": [],
   "source": [
    "df['GRI Disclosures'].str.extract(r'(?m)(?:\\r\\n?|^)\\d\\d\\d-\\d\\d:\\s*(.*\\S)\\s*$')"
   ]
  },
  {
   "cell_type": "markdown",
   "id": "991b3503-9792-4ed4-bcdc-128c624f49b0",
   "metadata": {
    "tags": []
   },
   "source": [
    "# **8. Table Extraction and Mapping (Financial Reporting Framework)"
   ]
  },
  {
   "cell_type": "code",
   "execution_count": 71,
   "id": "e9b02f59-9287-47c6-8eda-6ddc44d20105",
   "metadata": {},
   "outputs": [],
   "source": [
    "pdf_path = 'ESG-Frameworks/Mapping-Standards/Financial Reporting Framework/ev22.pdf'\n",
    "# page_range = [39, 53]\n",
    "page_range = list(range(39, 53))\n",
    "# tables = camelot.read_pdf(pdf_path, \n",
    "# \t\t\t\t\t\t\t\t  pages=f'{page_range[0]}-{page_range[1]}',\n",
    "#                                   flavor = 'lattice',\n",
    "#                                   table_areas=['316,499,566,337'])\n",
    "\n"
   ]
  },
  {
   "cell_type": "code",
   "execution_count": 99,
   "id": "bfc603db-5386-4c6a-81be-d0758f411a65",
   "metadata": {},
   "outputs": [],
   "source": [
    "pdf = pdfplumber.open(pdf_path, page_range)"
   ]
  },
  {
   "cell_type": "code",
   "execution_count": 101,
   "id": "4a2128c5-4a30-4a11-8187-e5bce3ff9b46",
   "metadata": {},
   "outputs": [],
   "source": [
    "p0 = pdf.pages[0]"
   ]
  },
  {
   "cell_type": "code",
   "execution_count": 126,
   "id": "4abc33b3-7432-4458-aae1-2a8ecec1f61f",
   "metadata": {},
   "outputs": [],
   "source": [
    "im = p0.to_image()\n"
   ]
  },
  {
   "cell_type": "code",
   "execution_count": 128,
   "id": "b43de975-cbcf-4043-acba-eaa9cb0d3c46",
   "metadata": {},
   "outputs": [
    {
     "data": {
      "image/png": "[encoded data removed]",
      "text/plain": [
       "<pdfplumber.display.PageImage at 0x7f9fc98813a0>"
      ]
     },
     "execution_count": 128,
     "metadata": {},
     "output_type": "execute_result"
    }
   ],
   "source": [
    "im"
   ]
  },
  {
   "cell_type": "code",
   "execution_count": 137,
   "id": "2f8951cf-1694-4e7b-8dd3-46c86d7de464",
   "metadata": {},
   "outputs": [
    {
     "data": {
      "text/plain": [
       "<pdfplumber.table.TableFinder at 0x7f9fc9884190>"
      ]
     },
     "execution_count": 137,
     "metadata": {},
     "output_type": "execute_result"
    }
   ],
   "source": [
    "p0.debug_tablefinder()"
   ]
  },
  {
   "cell_type": "code",
   "execution_count": 117,
   "id": "241ca7ab-451c-4515-b8aa-1900e98abe37",
   "metadata": {},
   "outputs": [
    {
     "ename": "NameError",
     "evalue": "name 'tf' is not defined",
     "output_type": "error",
     "traceback": [
      "\u001b[0;31m---------------------------------------------------------------------------\u001b[0m",
      "\u001b[0;31mNameError\u001b[0m                                 Traceback (most recent call last)",
      "\u001b[0;32m/var/folders/j2/64m37fcx0fx_w8wpmhz91lmh0000gn/T/ipykernel_86067/588509887.py\u001b[0m in \u001b[0;36m<module>\u001b[0;34m\u001b[0m\n\u001b[0;32m----> 1\u001b[0;31m \u001b[0mtable\u001b[0m \u001b[0;34m=\u001b[0m \u001b[0mp0\u001b[0m\u001b[0;34m.\u001b[0m\u001b[0mextract_table\u001b[0m\u001b[0;34m(\u001b[0m\u001b[0mtf\u001b[0m\u001b[0;34m)\u001b[0m\u001b[0;34m\u001b[0m\u001b[0;34m\u001b[0m\u001b[0m\n\u001b[0m",
      "\u001b[0;31mNameError\u001b[0m: name 'tf' is not defined"
     ]
    }
   ],
   "source": [
    "table = p0.extract_table(table_settings={})\n"
   ]
  },
  {
   "cell_type": "code",
   "execution_count": 118,
   "id": "cd6cab2f-0023-41c6-b928-a4160001c35c",
   "metadata": {},
   "outputs": [],
   "source": [
    "df = pd.DataFrame(table[1:], columns=table[0])"
   ]
  },
  {
   "cell_type": "code",
   "execution_count": 119,
   "id": "93c9bee8-74fc-4c47-b3bb-fe9c95dbc365",
   "metadata": {},
   "outputs": [
    {
     "data": {
      "text/html": [
       "<div>\n",
       "<style scoped>\n",
       "    .dataframe tbody tr th:only-of-type {\n",
       "        vertical-align: middle;\n",
       "    }\n",
       "\n",
       "    .dataframe tbody tr th {\n",
       "        vertical-align: top;\n",
       "    }\n",
       "\n",
       "    .dataframe thead th {\n",
       "        text-align: right;\n",
       "    }\n",
       "</style>\n",
       "<table border=\"1\" class=\"dataframe\">\n",
       "  <thead>\n",
       "    <tr style=\"text-align: right;\">\n",
       "      <th></th>\n",
       "      <th></th>\n",
       "      <th>IFRS</th>\n",
       "      <th>NaN</th>\n",
       "      <th></th>\n",
       "      <th>NaN</th>\n",
       "      <th>NaN</th>\n",
       "      <th>NaN</th>\n",
       "      <th>NaN</th>\n",
       "    </tr>\n",
       "  </thead>\n",
       "  <tbody>\n",
       "    <tr>\n",
       "      <th>0</th>\n",
       "      <td>None</td>\n",
       "      <td>Conceptual Framework for \\nFinancial Reporting</td>\n",
       "      <td>Practice Statement on Mgmt. \\nCommentary\\n(Thi...</td>\n",
       "      <td>CDSB</td>\n",
       "      <td>GRI - Exposure draft</td>\n",
       "      <td>IIRC</td>\n",
       "      <td>SASB - Exposure draft</td>\n",
       "      <td>TCFD</td>\n",
       "    </tr>\n",
       "    <tr>\n",
       "      <th>1</th>\n",
       "      <td>The purpose of the \\nconceptual framework</td>\n",
       "      <td>SP1.1: The Conceptual \\nFramework for Financia...</td>\n",
       "      <td>IN1: The IFRS Practice Statement \\nManagement ...</td>\n",
       "      <td>1. Purpose:\\nThe CDSB Framework sets \\nout an ...</td>\n",
       "      <td>A. Background on \\nsustainability reporting - ...</td>\n",
       "      <td>1.3: The purpose of this \\nFramework is to est...</td>\n",
       "      <td>6: This Conceptual Framework \\narticulates the...</td>\n",
       "      <td></td>\n",
       "    </tr>\n",
       "  </tbody>\n",
       "</table>\n",
       "</div>"
      ],
      "text/plain": [
       "                                              \\\n",
       "0                                       None   \n",
       "1  The purpose of the \\nconceptual framework   \n",
       "\n",
       "                                                IFRS  \\\n",
       "0     Conceptual Framework for \\nFinancial Reporting   \n",
       "1  SP1.1: The Conceptual \\nFramework for Financia...   \n",
       "\n",
       "                                                 NaN  \\\n",
       "0  Practice Statement on Mgmt. \\nCommentary\\n(Thi...   \n",
       "1  IN1: The IFRS Practice Statement \\nManagement ...   \n",
       "\n",
       "                                                      \\\n",
       "0                                               CDSB   \n",
       "1  1. Purpose:\\nThe CDSB Framework sets \\nout an ...   \n",
       "\n",
       "                                                 NaN  \\\n",
       "0                               GRI - Exposure draft   \n",
       "1  A. Background on \\nsustainability reporting - ...   \n",
       "\n",
       "                                                 NaN  \\\n",
       "0                                               IIRC   \n",
       "1  1.3: The purpose of this \\nFramework is to est...   \n",
       "\n",
       "                                                 NaN   NaN  \n",
       "0                              SASB - Exposure draft  TCFD  \n",
       "1  6: This Conceptual Framework \\narticulates the...        "
      ]
     },
     "execution_count": 119,
     "metadata": {},
     "output_type": "execute_result"
    }
   ],
   "source": [
    "df"
   ]
  },
  {
   "cell_type": "code",
   "execution_count": null,
   "id": "88c6977a-ad46-4c20-a482-3fd578485490",
   "metadata": {},
   "outputs": [],
   "source": []
  },
  {
   "cell_type": "code",
   "execution_count": null,
   "id": "192b608d-c029-4820-9682-9e60caacbe3a",
   "metadata": {},
   "outputs": [],
   "source": []
  },
  {
   "cell_type": "code",
   "execution_count": null,
   "id": "a9319093-109f-48a1-9fe9-20aaa8cab38b",
   "metadata": {},
   "outputs": [],
   "source": []
  },
  {
   "cell_type": "code",
   "execution_count": null,
   "id": "8da12114-3cc1-4066-a635-ae5041a488fc",
   "metadata": {},
   "outputs": [],
   "source": [
    "pdf_path = 'ESG-Frameworks/Mapping-Standards/Financial Reporting Framework/Reporting-on-enterprise-value_climate-prototype_Dec20.pdf'\n",
    "# page_range = list(range(39, 53))\n",
    "page_range = [39, 53]\n",
    "\n",
    "\n",
    "tableFinancialReports = ExtractPDFTables(pdf_path, page_range)\n",
    "df = tableFinancialReports.getTablesEV22()\n",
    "\n",
    "\n",
    "\n"
   ]
  },
  {
   "cell_type": "code",
   "execution_count": null,
   "id": "53cd7f2c-fc95-4cae-9b46-55f8b2a00f45",
   "metadata": {},
   "outputs": [],
   "source": [
    "df.to_csv('ss.csv')"
   ]
  },
  {
   "cell_type": "code",
   "execution_count": null,
   "id": "ae4881f3-3583-4fe4-90ed-e72e7ebac924",
   "metadata": {},
   "outputs": [],
   "source": []
  },
  {
   "cell_type": "code",
   "execution_count": null,
   "id": "680cddfb-058b-4671-868f-4174675b10df",
   "metadata": {},
   "outputs": [],
   "source": []
  },
  {
   "cell_type": "markdown",
   "id": "d06de4b6-a101-4e48-bf77-397f40b6206b",
   "metadata": {
    "tags": []
   },
   "source": [
    "# **9. Table Extraction and Mapping CDP CC - TCFD\n",
    "\n",
    "Note: CC means climate change"
   ]
  },
  {
   "cell_type": "code",
   "execution_count": null,
   "id": "f55f1675-e871-46c4-bbed-df1c2bead7eb",
   "metadata": {},
   "outputs": [],
   "source": [
    "pdf_path = 'ESG-Frameworks/Mapping-Standards/CDP - TCFD/CDP-TCFD-technical-note.pdf'\n",
    "page_range = [17, 22]\n",
    "\n",
    "\n",
    "tableFinancialReports = ExtractPDFTables(pdf_path, page_range)\n",
    "df = tableFinancialReports.getTablesGRIGoal20()\n",
    "\n",
    "\n"
   ]
  },
  {
   "cell_type": "markdown",
   "id": "189e9668-a013-4ef4-abfe-86beac69ca16",
   "metadata": {},
   "source": [
    "# 10."
   ]
  },
  {
   "cell_type": "code",
   "execution_count": null,
   "id": "8044407f-f0c2-49e4-ada4-eadb58db8a43",
   "metadata": {},
   "outputs": [],
   "source": []
  },
  {
   "cell_type": "code",
   "execution_count": null,
   "id": "22f52a09-a624-4890-85b6-2fa7700dc46a",
   "metadata": {},
   "outputs": [],
   "source": []
  },
  {
   "cell_type": "code",
   "execution_count": null,
   "id": "53afd413-4148-4b31-aa75-bc1bda5bb543",
   "metadata": {},
   "outputs": [],
   "source": []
  },
  {
   "cell_type": "code",
   "execution_count": null,
   "id": "3084c7ab-fa27-498d-9f01-4c3e176b4d38",
   "metadata": {},
   "outputs": [],
   "source": []
  }
 ],
 "metadata": {
  "kernelspec": {
   "display_name": "ESG-Mapping",
   "language": "python",
   "name": "esg-mapping"
  },
  "language_info": {
   "codemirror_mode": {
    "name": "ipython",
    "version": 3
   },
   "file_extension": ".py",
   "mimetype": "text/x-python",
   "name": "python",
   "nbconvert_exporter": "python",
   "pygments_lexer": "ipython3",
   "version": "3.9.6"
  }
 },
 "nbformat": 4,
 "nbformat_minor": 5
}
