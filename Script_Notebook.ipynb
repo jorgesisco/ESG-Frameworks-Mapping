{
 "cells": [
  {
   "cell_type": "code",
   "execution_count": 37,
   "id": "59882720-17b6-4466-84a8-be4688c70633",
   "metadata": {},
   "outputs": [],
   "source": [
    "from tabula import read_pdf\n",
    "from tabulate import tabulate\n",
    "import pandas as pd\n",
    "import numpy as np\n",
    "\n",
    "import openpyxl\n"
   ]
  },
  {
   "cell_type": "markdown",
   "id": "20def67c-69c4-4e66-8379-e9b460d651ab",
   "metadata": {},
   "source": [
    "# Using Tabula for Table Extraction"
   ]
  },
  {
   "cell_type": "code",
   "execution_count": null,
   "id": "6424c7d1-63d2-4b62-9b54-578fe77615da",
   "metadata": {},
   "outputs": [],
   "source": [
    "df = read_pdf('ESG-Frameworks/Mapping-Standards/sdg-gri.pdf', stream=True, pages = 3, area = [80.51, 90.42, 561.96, 814.18], multiple_tables=False )\n"
   ]
  },
  {
   "cell_type": "code",
   "execution_count": null,
   "id": "a655f4ad-898a-4ce1-b84f-cb7680882210",
   "metadata": {},
   "outputs": [],
   "source": [
    "for i in range(4, 73):\n",
    "    df[0] = df[0].append(read_pdf('ESG-Frameworks/Mapping-Standards/sdg-gri.pdf', stream=True, pages = i, area = [80.51, 90.42, 561.96, 814.18], multiple_tables=False )[0], ignore_index=True)\n",
    "    "
   ]
  },
  {
   "cell_type": "code",
   "execution_count": null,
   "id": "60d9b646-0d38-49ec-ac33-aa37cbf69185",
   "metadata": {},
   "outputs": [],
   "source": [
    "df[0].rename(columns = {'Sources':'Source'}, inplace = True)"
   ]
  },
  {
   "cell_type": "code",
   "execution_count": null,
   "id": "c74c2984-f02a-4b9c-a1e0-8dccbbae3a09",
   "metadata": {},
   "outputs": [],
   "source": [
    "for i in range(74, 99):\n",
    "    df[0] = df[0].append(read_pdf('ESG-Frameworks/Mapping-Standards/sdg-gri.pdf', stream=True, pages = i, area = [80.51, 90.42, 561.96, 814.18], multiple_tables=False )[0], ignore_index=True)\n",
    "    "
   ]
  },
  {
   "cell_type": "code",
   "execution_count": null,
   "id": "fb94f3ed-a760-4d46-a9db-9d7c220ae832",
   "metadata": {},
   "outputs": [],
   "source": [
    "df[0].to_csv('ESG-Frameworks/Mapping-Standards/SDG-GRI-DF.csv')"
   ]
  },
  {
   "cell_type": "markdown",
   "id": "99288de5-8b07-444c-8817-678daa06a770",
   "metadata": {
    "tags": []
   },
   "source": [
    "# Finding links between Frameworks SDG AND GRI"
   ]
  },
  {
   "cell_type": "code",
   "execution_count": 24,
   "id": "98d03703-623c-47e8-bb1e-f531032f247c",
   "metadata": {},
   "outputs": [],
   "source": [
    "df = pd.read_csv('ESG-Frameworks/Mapping-Standards/SDG-GRI-DF.csv')\n",
    "# df.head(3)"
   ]
  },
  {
   "cell_type": "code",
   "execution_count": 25,
   "id": "afd9d286-e308-4e9b-8844-d3f061c5046c",
   "metadata": {},
   "outputs": [],
   "source": [
    "df = df.drop(['Unnamed: 0'], axis=1)"
   ]
  },
  {
   "cell_type": "code",
   "execution_count": 26,
   "id": "c22b6389-a91a-4eec-a470-e4b94754a742",
   "metadata": {},
   "outputs": [],
   "source": [
    "df = df.replace(np.nan, '', regex=True)"
   ]
  },
  {
   "cell_type": "markdown",
   "id": "a79469bb-192b-4c63-bf42-5392651f11b9",
   "metadata": {},
   "source": [
    "# Solving Disclousure Column extraction Issue "
   ]
  },
  {
   "cell_type": "code",
   "execution_count": 30,
   "id": "ccbdf7f4-9330-46d6-8392-e7a152d29639",
   "metadata": {},
   "outputs": [],
   "source": [
    "df['Target_'] = df['Target']"
   ]
  },
  {
   "cell_type": "code",
   "execution_count": 31,
   "id": "9a7defba-b5c0-4477-bd26-abc9385183fc",
   "metadata": {},
   "outputs": [],
   "source": [
    "df = df[[\"Target\", \"Target_\", \"Available Business Disclosures\", \"Disclosure\"]]\n",
    "# df"
   ]
  },
  {
   "cell_type": "code",
   "execution_count": 32,
   "id": "5ed3e5a1-8b36-4983-8f1e-b7f8690c47e3",
   "metadata": {},
   "outputs": [],
   "source": [
    "df = df.drop(labels = 'Target_',axis = 1).groupby(df['Target_'].mask(df['Target_']=='').ffill()).agg('\\n'.join).reset_index()"
   ]
  },
  {
   "cell_type": "code",
   "execution_count": 34,
   "id": "b1883a31-5f2a-4e76-98b4-1186904d2c4a",
   "metadata": {},
   "outputs": [],
   "source": [
    "df.rename(columns = {'Target_':'Target'}, inplace = True)"
   ]
  },
  {
   "cell_type": "code",
   "execution_count": 36,
   "id": "583a289f-08a2-41d1-b027-d7d8a3393b7f",
   "metadata": {},
   "outputs": [],
   "source": [
    "df.to_csv('ESG-Frameworks/Mapping-Standards/SDG-GRI.csv')\n"
   ]
  },
  {
   "cell_type": "markdown",
   "id": "078fde49-d6ba-4743-9ff5-1b4a42e69214",
   "metadata": {},
   "source": [
    "# Mapping Collected Datafream on given excel file"
   ]
  },
  {
   "cell_type": "code",
   "execution_count": 64,
   "id": "46d4778a-b3ea-4d07-a368-b70fd5c91057",
   "metadata": {},
   "outputs": [
    {
     "name": "stdout",
     "output_type": "stream",
     "text": [
      "[\"SDG's\", 'GRI 2016', 'TCFD', 'COH4B']\n"
     ]
    }
   ],
   "source": [
    "output_path = 'ESG-Frameworks/Mapping-Standards/SDG-GRI-DF.csv'\n",
    "excelFile = 'ESG-Frameworks/Outputs/testing.xlsx'\n",
    "\n",
    "def Mapping(file, df):\n",
    "    wb_obj = openpyxl.load_workbook(file)\n",
    "    \n",
    "    # sheet_obj = wb_obj.active\n",
    "    \n",
    "    # cell_obj = sheet_obj.cell(row = 5, column = 1)\n",
    "    \n",
    "    print(wb_obj.sheetnames)\n",
    "Mapping(excelFile, output_path)"
   ]
  },
  {
   "cell_type": "code",
   "execution_count": null,
   "id": "b9e0a566-8b79-4601-8a26-83bd8289dc04",
   "metadata": {},
   "outputs": [],
   "source": []
  },
  {
   "cell_type": "code",
   "execution_count": 41,
   "id": "4166bc89-1d2e-46b6-9ea3-8e31e00e7d3a",
   "metadata": {},
   "outputs": [
    {
     "ename": "NameError",
     "evalue": "name 'cell_obj' is not defined",
     "output_type": "error",
     "traceback": [
      "\u001b[0;31m---------------------------------------------------------------------------\u001b[0m",
      "\u001b[0;31mNameError\u001b[0m                                 Traceback (most recent call last)",
      "\u001b[0;32m/var/folders/j2/64m37fcx0fx_w8wpmhz91lmh0000gn/T/ipykernel_83409/1885794283.py\u001b[0m in \u001b[0;36m<module>\u001b[0;34m\u001b[0m\n\u001b[0;32m----> 1\u001b[0;31m \u001b[0mprint\u001b[0m\u001b[0;34m(\u001b[0m\u001b[0mcell_obj\u001b[0m\u001b[0;34m.\u001b[0m\u001b[0mvalue\u001b[0m\u001b[0;34m)\u001b[0m\u001b[0;34m\u001b[0m\u001b[0;34m\u001b[0m\u001b[0m\n\u001b[0m",
      "\u001b[0;31mNameError\u001b[0m: name 'cell_obj' is not defined"
     ]
    }
   ],
   "source": []
  },
  {
   "cell_type": "code",
   "execution_count": null,
   "id": "4ec88cf4-7ccb-49fb-a938-df4b06611ceb",
   "metadata": {},
   "outputs": [],
   "source": []
  }
 ],
 "metadata": {
  "kernelspec": {
   "display_name": "ESG-Mapping",
   "language": "python",
   "name": "esg-mapping"
  },
  "language_info": {
   "codemirror_mode": {
    "name": "ipython",
    "version": 3
   },
   "file_extension": ".py",
   "mimetype": "text/x-python",
   "name": "python",
   "nbconvert_exporter": "python",
   "pygments_lexer": "ipython3",
   "version": "3.9.6"
  }
 },
 "nbformat": 4,
 "nbformat_minor": 5
}
