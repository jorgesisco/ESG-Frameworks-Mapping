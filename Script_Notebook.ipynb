{
 "cells": [
  {
   "cell_type": "code",
   "execution_count": null,
   "id": "59882720-17b6-4466-84a8-be4688c70633",
   "metadata": {},
   "outputs": [],
   "source": [
    "from tabula import read_pdf\n",
    "from tabulate import tabulate\n",
    "# import camelot\n",
    "import pandas as pd\n",
    "import numpy as np\n",
    "\n",
    "\n",
    "# pages=','.join(str(i) for i in range(3, 99))"
   ]
  },
  {
   "cell_type": "markdown",
   "id": "20def67c-69c4-4e66-8379-e9b460d651ab",
   "metadata": {},
   "source": [
    "# Using Tabula for Table Extraction"
   ]
  },
  {
   "cell_type": "code",
   "execution_count": null,
   "id": "6424c7d1-63d2-4b62-9b54-578fe77615da",
   "metadata": {},
   "outputs": [],
   "source": [
    "df = read_pdf('ESG-Frameworks/Mapping-Standars/sdg-gri.pdf', stream=True, pages = 3, area = [80.51, 90.42, 561.96, 814.18], multiple_tables=False )\n"
   ]
  },
  {
   "cell_type": "code",
   "execution_count": null,
   "id": "a655f4ad-898a-4ce1-b84f-cb7680882210",
   "metadata": {},
   "outputs": [],
   "source": [
    "for i in range(4, 73):\n",
    "    df[0] = df[0].append(read_pdf('ESG-Frameworks/Mapping-Standars/sdg-gri.pdf', stream=True, pages = i, area = [80.51, 90.42, 561.96, 814.18], multiple_tables=False )[0], ignore_index=True)\n",
    "    "
   ]
  },
  {
   "cell_type": "code",
   "execution_count": null,
   "id": "60d9b646-0d38-49ec-ac33-aa37cbf69185",
   "metadata": {},
   "outputs": [],
   "source": [
    "df[0].rename(columns = {'Sources':'Source'}, inplace = True)"
   ]
  },
  {
   "cell_type": "code",
   "execution_count": null,
   "id": "c74c2984-f02a-4b9c-a1e0-8dccbbae3a09",
   "metadata": {},
   "outputs": [],
   "source": [
    "for i in range(74, 99):\n",
    "    df[0] = df[0].append(read_pdf('ESG-Frameworks/Mapping-Standars/sdg-gri.pdf', stream=True, pages = i, area = [80.51, 90.42, 561.96, 814.18], multiple_tables=False )[0], ignore_index=True)\n",
    "    "
   ]
  },
  {
   "cell_type": "code",
   "execution_count": null,
   "id": "fb94f3ed-a760-4d46-a9db-9d7c220ae832",
   "metadata": {},
   "outputs": [],
   "source": [
    "df[0].to_csv('SDG-GRI-DF.csv')"
   ]
  },
  {
   "cell_type": "code",
   "execution_count": null,
   "id": "fa609bd0-1142-44bf-a540-953cb34b8b06",
   "metadata": {},
   "outputs": [],
   "source": [
    "# print(tabulate(df[0]))"
   ]
  },
  {
   "cell_type": "markdown",
   "id": "99288de5-8b07-444c-8817-678daa06a770",
   "metadata": {
    "tags": []
   },
   "source": [
    "# Finding links between Frameworks SDG AND GRI"
   ]
  },
  {
   "cell_type": "code",
   "execution_count": null,
   "id": "98d03703-623c-47e8-bb1e-f531032f247c",
   "metadata": {},
   "outputs": [],
   "source": [
    "df = pd.read_csv('SDG-GRI-DF.csv')\n",
    "# df.head(3)"
   ]
  },
  {
   "cell_type": "code",
   "execution_count": null,
   "id": "afd9d286-e308-4e9b-8844-d3f061c5046c",
   "metadata": {},
   "outputs": [],
   "source": [
    "df = df.drop(['Unnamed: 0'], axis=1)"
   ]
  },
  {
   "cell_type": "code",
   "execution_count": null,
   "id": "c22b6389-a91a-4eec-a470-e4b94754a742",
   "metadata": {},
   "outputs": [],
   "source": [
    "df = df.replace(np.nan, '', regex=True)\n",
    "df = df.replace('', np.nan).ffill().bfill()\n"
   ]
  },
  {
   "cell_type": "code",
   "execution_count": null,
   "id": "bde874e2-bda8-443c-a0bc-ea2b8aac0d06",
   "metadata": {},
   "outputs": [],
   "source": [
    "# df.head(60)"
   ]
  },
  {
   "cell_type": "code",
   "execution_count": null,
   "id": "5ba0798d-de47-4a46-883f-b906eb1491cf",
   "metadata": {},
   "outputs": [],
   "source": [
    "df = df.groupby(['Target', 'Disclosure'])['Available Business Disclosures'].apply('\\n'.join).reset_index()\n"
   ]
  },
  {
   "cell_type": "code",
   "execution_count": null,
   "id": "824c7c88-e458-431c-a613-078f2f7476cd",
   "metadata": {},
   "outputs": [],
   "source": [
    "# df_part2 = df.groupby(['Target', 'Disclosure'])['Source'].apply(', \\n'.join).reset_index()"
   ]
  },
  {
   "cell_type": "code",
   "execution_count": null,
   "id": "d4bfa43b-404c-4e92-9d8b-05af7e47a80f",
   "metadata": {},
   "outputs": [],
   "source": [
    "df = df[[\"Target\", \"Available Business Disclosures\", \"Disclosure\"]]"
   ]
  },
  {
   "cell_type": "code",
   "execution_count": null,
   "id": "5c996b7e-adf7-44b3-9609-2e2d1d59c1d2",
   "metadata": {},
   "outputs": [],
   "source": [
    "df.to_csv('SDG_GRI.csv')"
   ]
  },
  {
   "cell_type": "code",
   "execution_count": null,
   "id": "7cfce3b1-2b22-44ee-8de4-525462ddd756",
   "metadata": {},
   "outputs": [],
   "source": [
    "df_part2"
   ]
  },
  {
   "cell_type": "code",
   "execution_count": null,
   "id": "299ebf23-ecd5-4fa8-87b4-2f91e16c608d",
   "metadata": {},
   "outputs": [],
   "source": [
    "df.head(60)"
   ]
  },
  {
   "cell_type": "code",
   "execution_count": null,
   "id": "2d3d48ce-67c9-4d40-b1c9-43f75102e5d8",
   "metadata": {},
   "outputs": [],
   "source": [
    "df_part1.to_csv('check.csv')"
   ]
  },
  {
   "cell_type": "code",
   "execution_count": null,
   "id": "69b1674c-9749-4434-94e2-457e0eed98f5",
   "metadata": {},
   "outputs": [],
   "source": [
    "df.head(60)"
   ]
  },
  {
   "cell_type": "code",
   "execution_count": null,
   "id": "1e541ff0-fb54-4110-baeb-ca802754c1bf",
   "metadata": {},
   "outputs": [],
   "source": [
    "df.head()"
   ]
  },
  {
   "cell_type": "code",
   "execution_count": null,
   "id": "c92bfd64-bc71-44a2-a501-dbcf636bcb50",
   "metadata": {},
   "outputs": [],
   "source": [
    "df"
   ]
  },
  {
   "cell_type": "code",
   "execution_count": null,
   "id": "7cc576d4-e9c7-4f3a-aaa9-c9ce934447e5",
   "metadata": {},
   "outputs": [],
   "source": [
    "df"
   ]
  },
  {
   "cell_type": "code",
   "execution_count": null,
   "id": "a84ad4f4-613c-42c1-9c88-3fb9e897d3c8",
   "metadata": {},
   "outputs": [],
   "source": []
  }
 ],
 "metadata": {
  "kernelspec": {
   "display_name": "ESG-Mapping",
   "language": "python",
   "name": "esg-mapping"
  },
  "language_info": {
   "codemirror_mode": {
    "name": "ipython",
    "version": 3
   },
   "file_extension": ".py",
   "mimetype": "text/x-python",
   "name": "python",
   "nbconvert_exporter": "python",
   "pygments_lexer": "ipython3",
   "version": "3.9.6"
  }
 },
 "nbformat": 4,
 "nbformat_minor": 5
}
