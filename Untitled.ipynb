{
 "cells": [
  {
   "cell_type": "code",
   "execution_count": 2,
   "id": "06e4434a-0b13-43ee-b17e-cff90a12011e",
   "metadata": {},
   "outputs": [],
   "source": [
    "from tabula import read_pdf\n",
    "from tabulate import tabulate\n",
    "import pandas as pd\n",
    "import numpy as np\n",
    "import re\n",
    "\n",
    "import openpyxl\n"
   ]
  },
  {
   "cell_type": "code",
   "execution_count": 8,
   "id": "80b57a82-47aa-4329-8ed1-30fe80f9b860",
   "metadata": {},
   "outputs": [
    {
     "data": {
      "text/html": [
       "<div>\n",
       "<style scoped>\n",
       "    .dataframe tbody tr th:only-of-type {\n",
       "        vertical-align: middle;\n",
       "    }\n",
       "\n",
       "    .dataframe tbody tr th {\n",
       "        vertical-align: top;\n",
       "    }\n",
       "\n",
       "    .dataframe thead th {\n",
       "        text-align: right;\n",
       "    }\n",
       "</style>\n",
       "<table border=\"1\" class=\"dataframe\">\n",
       "  <thead>\n",
       "    <tr style=\"text-align: right;\">\n",
       "      <th></th>\n",
       "      <th>Target</th>\n",
       "      <th>Disclosure</th>\n",
       "      <th>Source</th>\n",
       "    </tr>\n",
       "  </thead>\n",
       "  <tbody>\n",
       "    <tr>\n",
       "      <th>0</th>\n",
       "      <td>1.1</td>\n",
       "      <td>207-1</td>\n",
       "      <td>GRI 207: Tax 2019</td>\n",
       "    </tr>\n",
       "    <tr>\n",
       "      <th>7</th>\n",
       "      <td>1.1</td>\n",
       "      <td>207-2</td>\n",
       "      <td>GRI 207: Tax 2019</td>\n",
       "    </tr>\n",
       "    <tr>\n",
       "      <th>17</th>\n",
       "      <td>1.1</td>\n",
       "      <td>207-3</td>\n",
       "      <td>GRI 207: Tax 2019</td>\n",
       "    </tr>\n",
       "  </tbody>\n",
       "</table>\n",
       "</div>"
      ],
      "text/plain": [
       "   Target Disclosure             Source\n",
       "0     1.1      207-1  GRI 207: Tax 2019\n",
       "7     1.1      207-2  GRI 207: Tax 2019\n",
       "17    1.1      207-3  GRI 207: Tax 2019"
      ]
     },
     "execution_count": 8,
     "metadata": {},
     "output_type": "execute_result"
    }
   ],
   "source": []
  },
  {
   "cell_type": "code",
   "execution_count": 6,
   "id": "ad698d5b-2981-4c5b-abe1-607ca884f242",
   "metadata": {},
   "outputs": [],
   "source": []
  },
  {
   "cell_type": "code",
   "execution_count": null,
   "id": "1e91edf0-b6c9-4c01-af45-e5dea46f3c65",
   "metadata": {},
   "outputs": [],
   "source": []
  },
  {
   "cell_type": "code",
   "execution_count": null,
   "id": "89bea119-8064-4c7d-b167-aa87eaada4e2",
   "metadata": {},
   "outputs": [],
   "source": []
  },
  {
   "cell_type": "code",
   "execution_count": 64,
   "id": "95308260-8faf-42bb-8b50-407ae7d48517",
   "metadata": {},
   "outputs": [],
   "source": []
  },
  {
   "cell_type": "markdown",
   "id": "61ceca70-117b-44c6-acb0-ae255a8b16f3",
   "metadata": {},
   "source": [
    "# GRI-SDG"
   ]
  },
  {
   "cell_type": "code",
   "execution_count": 66,
   "id": "41b819dc-f9d4-472a-96b7-b5063077ddae",
   "metadata": {},
   "outputs": [
    {
     "data": {
      "text/html": [
       "<div>\n",
       "<style scoped>\n",
       "    .dataframe tbody tr th:only-of-type {\n",
       "        vertical-align: middle;\n",
       "    }\n",
       "\n",
       "    .dataframe tbody tr th {\n",
       "        vertical-align: top;\n",
       "    }\n",
       "\n",
       "    .dataframe thead th {\n",
       "        text-align: right;\n",
       "    }\n",
       "</style>\n",
       "<table border=\"1\" class=\"dataframe\">\n",
       "  <thead>\n",
       "    <tr style=\"text-align: right;\">\n",
       "      <th></th>\n",
       "      <th>Target</th>\n",
       "      <th>Disclosure</th>\n",
       "      <th>Source</th>\n",
       "    </tr>\n",
       "  </thead>\n",
       "  <tbody>\n",
       "    <tr>\n",
       "      <th>0</th>\n",
       "      <td>1.1</td>\n",
       "      <td>207-1</td>\n",
       "      <td>GRI 207: Tax 2019</td>\n",
       "    </tr>\n",
       "    <tr>\n",
       "      <th>7</th>\n",
       "      <td>1.1</td>\n",
       "      <td>207-2</td>\n",
       "      <td>GRI 207: Tax 2019</td>\n",
       "    </tr>\n",
       "    <tr>\n",
       "      <th>17</th>\n",
       "      <td>1.1</td>\n",
       "      <td>207-3</td>\n",
       "      <td>GRI 207: Tax 2019</td>\n",
       "    </tr>\n",
       "    <tr>\n",
       "      <th>23</th>\n",
       "      <td>1.1</td>\n",
       "      <td>207-4</td>\n",
       "      <td>GRI 207: Tax 2019</td>\n",
       "    </tr>\n",
       "    <tr>\n",
       "      <th>39</th>\n",
       "      <td>1.2</td>\n",
       "      <td>202-1</td>\n",
       "      <td>GRI 202: Market Presence</td>\n",
       "    </tr>\n",
       "    <tr>\n",
       "      <th>49</th>\n",
       "      <td>1.2</td>\n",
       "      <td>203-2</td>\n",
       "      <td>GRI 203: Indirect</td>\n",
       "    </tr>\n",
       "    <tr>\n",
       "      <th>53</th>\n",
       "      <td>1.3</td>\n",
       "      <td>207-1</td>\n",
       "      <td>GRI 207: Tax 2019</td>\n",
       "    </tr>\n",
       "    <tr>\n",
       "      <th>60</th>\n",
       "      <td>1.3</td>\n",
       "      <td>207-2</td>\n",
       "      <td>GRI 207: Tax 2019</td>\n",
       "    </tr>\n",
       "    <tr>\n",
       "      <th>70</th>\n",
       "      <td>1.3</td>\n",
       "      <td>207-3</td>\n",
       "      <td>GRI 207: Tax 2019</td>\n",
       "    </tr>\n",
       "    <tr>\n",
       "      <th>76</th>\n",
       "      <td>1.3</td>\n",
       "      <td>207-4</td>\n",
       "      <td>GRI 207: Tax 2019</td>\n",
       "    </tr>\n",
       "  </tbody>\n",
       "</table>\n",
       "</div>"
      ],
      "text/plain": [
       "   Target Disclosure                    Source\n",
       "0     1.1      207-1         GRI 207: Tax 2019\n",
       "7     1.1      207-2         GRI 207: Tax 2019\n",
       "17    1.1      207-3         GRI 207: Tax 2019\n",
       "23    1.1      207-4         GRI 207: Tax 2019\n",
       "39    1.2      202-1  GRI 202: Market Presence\n",
       "49    1.2      203-2         GRI 203: Indirect\n",
       "53    1.3      207-1         GRI 207: Tax 2019\n",
       "60    1.3      207-2         GRI 207: Tax 2019\n",
       "70    1.3      207-3         GRI 207: Tax 2019\n",
       "76    1.3      207-4         GRI 207: Tax 2019"
      ]
     },
     "execution_count": 66,
     "metadata": {},
     "output_type": "execute_result"
    }
   ],
   "source": []
  },
  {
   "cell_type": "code",
   "execution_count": 67,
   "id": "b5821e57-8b25-4d7a-8882-6b8a7012cb26",
   "metadata": {},
   "outputs": [],
   "source": []
  },
  {
   "cell_type": "code",
   "execution_count": null,
   "id": "0e40e23c-b80b-430a-9f94-eb4a1058f9da",
   "metadata": {},
   "outputs": [],
   "source": []
  }
 ],
 "metadata": {
  "kernelspec": {
   "display_name": "ESG-Mapping",
   "language": "python",
   "name": "esg-mapping"
  },
  "language_info": {
   "codemirror_mode": {
    "name": "ipython",
    "version": 3
   },
   "file_extension": ".py",
   "mimetype": "text/x-python",
   "name": "python",
   "nbconvert_exporter": "python",
   "pygments_lexer": "ipython3",
   "version": "3.9.6"
  }
 },
 "nbformat": 4,
 "nbformat_minor": 5
}
