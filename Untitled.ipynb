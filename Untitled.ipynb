{
 "cells": [
  {
   "cell_type": "code",
   "execution_count": 1,
   "id": "fa12104d-3655-459b-a35d-901ff463e088",
   "metadata": {},
   "outputs": [],
   "source": [
    "import pandas as pd\n",
    "import numpy as np\n",
    "import re\n",
    "\n",
    "# from tabula import read_pdf\n",
    "# from tabulate import tabulate\n",
    "# import pdfplumber\n",
    "import openpyxl\n",
    "\n",
    "from Script import ExtractPDFTables, MapLinks2Excel"
   ]
  },
  {
   "cell_type": "code",
   "execution_count": 42,
   "id": "36fa1427-d52e-4f61-873d-b7e974f82f6d",
   "metadata": {},
   "outputs": [],
   "source": [
    "wb = openpyxl.load_workbook('ESG-Frameworks/Inputs/ESG Alignment POC inputs.xlsx')\n",
    "ws = wb[\"SDG's\"]\n",
    "regex = \"[0-9]+\\.[0-9]|[0-9]+\\.[a-z]|[0-9]+\\.\"\n",
    "rows = ws.max_row\n",
    "\n",
    "\n",
    "data = []\n",
    "for i in range(1, rows):\n",
    "    \n",
    "    if ws.cell(row=i, column=1).value != None:\n",
    "        target_cell = ws.cell(row=i, column=1).value\n",
    "        \n",
    "        if (re.search(regex, target_cell)):\n",
    "            target = re.search(regex, target_cell).group()\n",
    "            cell_value = target_cell\n",
    "            \n",
    "            data.append((target, cell_value))\n",
    "\n",
    "df = pd.DataFrame(data, columns=('SDG_Target', 'SDG Description'))\n",
    "            # print(cell_value)\n"
   ]
  },
  {
   "cell_type": "code",
   "execution_count": 43,
   "id": "64fa0a43-718d-4aa8-8194-855586cd89c6",
   "metadata": {},
   "outputs": [],
   "source": [
    "df.to_csv('ESG-Frameworks/ESG Data/SDG_info.csv')"
   ]
  },
  {
   "cell_type": "code",
   "execution_count": 44,
   "id": "9849526b-c1aa-41f2-9d54-01cce98c313b",
   "metadata": {},
   "outputs": [
    {
     "data": {
      "text/html": [
       "<div>\n",
       "<style scoped>\n",
       "    .dataframe tbody tr th:only-of-type {\n",
       "        vertical-align: middle;\n",
       "    }\n",
       "\n",
       "    .dataframe tbody tr th {\n",
       "        vertical-align: top;\n",
       "    }\n",
       "\n",
       "    .dataframe thead th {\n",
       "        text-align: right;\n",
       "    }\n",
       "</style>\n",
       "<table border=\"1\" class=\"dataframe\">\n",
       "  <thead>\n",
       "    <tr style=\"text-align: right;\">\n",
       "      <th></th>\n",
       "      <th>SDG_Target</th>\n",
       "      <th>SDG Description</th>\n",
       "    </tr>\n",
       "  </thead>\n",
       "  <tbody>\n",
       "    <tr>\n",
       "      <th>0</th>\n",
       "      <td>1.</td>\n",
       "      <td>Goal 1. End poverty in all its forms everywhere</td>\n",
       "    </tr>\n",
       "    <tr>\n",
       "      <th>1</th>\n",
       "      <td>1.1</td>\n",
       "      <td>1.1 By 2030, eradicate extreme poverty for all...</td>\n",
       "    </tr>\n",
       "    <tr>\n",
       "      <th>2</th>\n",
       "      <td>1.2</td>\n",
       "      <td>1.2 By 2030, reduce at least by half the propo...</td>\n",
       "    </tr>\n",
       "    <tr>\n",
       "      <th>3</th>\n",
       "      <td>1.3</td>\n",
       "      <td>1.3 Implement nationally appropriate social pr...</td>\n",
       "    </tr>\n",
       "    <tr>\n",
       "      <th>4</th>\n",
       "      <td>1.4</td>\n",
       "      <td>1.4 By 2030, ensure that all men and women, in...</td>\n",
       "    </tr>\n",
       "    <tr>\n",
       "      <th>...</th>\n",
       "      <td>...</td>\n",
       "      <td>...</td>\n",
       "    </tr>\n",
       "    <tr>\n",
       "      <th>182</th>\n",
       "      <td>17.1</td>\n",
       "      <td>17.16 Enhance the Global Partnership for Susta...</td>\n",
       "    </tr>\n",
       "    <tr>\n",
       "      <th>183</th>\n",
       "      <td>17.1</td>\n",
       "      <td>17.17 Encourage and promote effective public, ...</td>\n",
       "    </tr>\n",
       "    <tr>\n",
       "      <th>184</th>\n",
       "      <td>17.1</td>\n",
       "      <td>17.18 By 2020, enhance capacity-building suppo...</td>\n",
       "    </tr>\n",
       "    <tr>\n",
       "      <th>185</th>\n",
       "      <td>17.1</td>\n",
       "      <td>17.19 By 2030, build on existing initiatives t...</td>\n",
       "    </tr>\n",
       "    <tr>\n",
       "      <th>186</th>\n",
       "      <td>2016.</td>\n",
       "      <td>* As contained in Annex IV of the Report of th...</td>\n",
       "    </tr>\n",
       "  </tbody>\n",
       "</table>\n",
       "<p>187 rows × 2 columns</p>\n",
       "</div>"
      ],
      "text/plain": [
       "    SDG_Target                                    SDG Description\n",
       "0           1.    Goal 1. End poverty in all its forms everywhere\n",
       "1          1.1  1.1 By 2030, eradicate extreme poverty for all...\n",
       "2          1.2  1.2 By 2030, reduce at least by half the propo...\n",
       "3          1.3  1.3 Implement nationally appropriate social pr...\n",
       "4          1.4  1.4 By 2030, ensure that all men and women, in...\n",
       "..         ...                                                ...\n",
       "182       17.1  17.16 Enhance the Global Partnership for Susta...\n",
       "183       17.1  17.17 Encourage and promote effective public, ...\n",
       "184       17.1  17.18 By 2020, enhance capacity-building suppo...\n",
       "185       17.1  17.19 By 2030, build on existing initiatives t...\n",
       "186      2016.  * As contained in Annex IV of the Report of th...\n",
       "\n",
       "[187 rows x 2 columns]"
      ]
     },
     "execution_count": 44,
     "metadata": {},
     "output_type": "execute_result"
    }
   ],
   "source": [
    "df"
   ]
  },
  {
   "cell_type": "code",
   "execution_count": null,
   "id": "36b7395c-9379-4c38-bcc5-f68acca06f89",
   "metadata": {},
   "outputs": [],
   "source": []
  }
 ],
 "metadata": {
  "kernelspec": {
   "display_name": "ESG-Mapping",
   "language": "python",
   "name": "esg-mapping"
  },
  "language_info": {
   "codemirror_mode": {
    "name": "ipython",
    "version": 3
   },
   "file_extension": ".py",
   "mimetype": "text/x-python",
   "name": "python",
   "nbconvert_exporter": "python",
   "pygments_lexer": "ipython3",
   "version": "3.9.6"
  }
 },
 "nbformat": 4,
 "nbformat_minor": 5
}
