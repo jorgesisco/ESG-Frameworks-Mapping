{
 "cells": [
  {
   "cell_type": "code",
   "execution_count": 1,
   "id": "3d0b9602-580c-4b7e-96f8-b4a7490be1d7",
   "metadata": {},
   "outputs": [],
   "source": [
    "from tabula import read_pdf\n",
    "from tabulate import tabulate\n",
    "import pandas as pd\n",
    "import numpy as np\n",
    "import re\n",
    "\n",
    "import pdfplumber\n",
    "import openpyxl\n",
    "from docx import Document\n",
    "\n",
    "from Script import ExtractPDFTables"
   ]
  },
  {
   "cell_type": "code",
   "execution_count": null,
   "id": "71ab2621-71c9-4506-a93c-f1826930bf96",
   "metadata": {},
   "outputs": [],
   "source": []
  },
  {
   "cell_type": "code",
   "execution_count": null,
   "id": "d1ed8609-2989-44e1-ac8e-2178f247fd1a",
   "metadata": {},
   "outputs": [],
   "source": []
  },
  {
   "cell_type": "code",
   "execution_count": null,
   "id": "e2394c58-0bd3-4d38-8ab2-1bab9b28ae63",
   "metadata": {},
   "outputs": [],
   "source": [
    "pdf_path = ['ESG-Frameworks/Mapping-Standards/GRI-COH4B/gri-coh4b.pdf', 'ESG-Frameworks/Mapping-Standards/SDG-GRI/sdg-gri.pdf']\n",
    "firstTablePage = 12\n",
    "table = ExtractPDFTables(pdf_path[0], firstTablePage)"
   ]
  },
  {
   "cell_type": "code",
   "execution_count": null,
   "id": "d070849b-54f4-4b02-876f-bc53330147c0",
   "metadata": {},
   "outputs": [],
   "source": [
    "df = table.getTables()"
   ]
  },
  {
   "cell_type": "code",
   "execution_count": null,
   "id": "8ecdb874-f157-4133-8fcb-c66aa8526bf4",
   "metadata": {},
   "outputs": [],
   "source": [
    "rowIndex = 0\n",
    "df = table.setHeaders(df, rowIndex = 0)"
   ]
  },
  {
   "cell_type": "code",
   "execution_count": null,
   "id": "0ddd61f5-a3b4-4cef-8568-fefd30e475e0",
   "metadata": {},
   "outputs": [],
   "source": [
    "header_1 = 'A. COHBP & \\ndefinition'\n",
    "header_2 = None\n",
    "newHeader_1 = 'id'\n",
    "\n",
    "df = table.headerSwap(df, header_1, header_2, newHeader_1)"
   ]
  },
  {
   "cell_type": "code",
   "execution_count": null,
   "id": "e45eb0f1-6f0e-4bfc-b2ec-44a673fd34ba",
   "metadata": {},
   "outputs": [],
   "source": [
    "df = table.addDot(df, newHeader_1)"
   ]
  },
  {
   "cell_type": "code",
   "execution_count": null,
   "id": "57ad9e62-1a8d-49da-8f1e-603c509f16d2",
   "metadata": {},
   "outputs": [],
   "source": []
  },
  {
   "cell_type": "code",
   "execution_count": null,
   "id": "de97dada-945b-4f85-8f95-47280b1abb49",
   "metadata": {},
   "outputs": [],
   "source": []
  },
  {
   "cell_type": "code",
   "execution_count": null,
   "id": "494ab7f4-7b2e-4cd9-b9ea-4a0c6f78b22c",
   "metadata": {},
   "outputs": [],
   "source": [
    "pdf = read_pdf('ESG-Frameworks/Mapping-Standards/TCFD-GRI/TCFD to GRI.pdf', stream=True, pages = '1')\n",
    "\n",
    "\n"
   ]
  },
  {
   "cell_type": "code",
   "execution_count": null,
   "id": "8c7a7f24-7ad1-428d-b461-9959ccd3549c",
   "metadata": {},
   "outputs": [],
   "source": [
    "pdf[0].to_csv('TCFD-GTI-OUTOUT.csv')"
   ]
  },
  {
   "cell_type": "code",
   "execution_count": null,
   "id": "d07518d4-7a8d-4207-9555-e0f33f3efb4f",
   "metadata": {},
   "outputs": [],
   "source": []
  },
  {
   "cell_type": "code",
   "execution_count": null,
   "id": "3f72c2bb-6a31-4728-9e30-199fbdedcbf8",
   "metadata": {},
   "outputs": [],
   "source": []
  },
  {
   "cell_type": "code",
   "execution_count": 2,
   "id": "c2b85fb8-5c9c-46fc-9429-6fd4bf8efb54",
   "metadata": {},
   "outputs": [],
   "source": [
    "pdf_path = 'ESG-Frameworks/Mapping-Standards/TCFD-GRI/TCFD to GRI.pdf'\n",
    "firstTablePage = 1\n",
    "\n",
    "TCFD_GRI = ExtractPDFTables(pdf_path, firstTablePage)"
   ]
  },
  {
   "cell_type": "code",
   "execution_count": null,
   "id": "9abf6428-5e09-4e2e-9986-971455bd738d",
   "metadata": {},
   "outputs": [],
   "source": [
    "document = Document(\"ESG-Frameworks/Mapping-Standards/TCFD-GRI/TCFD to GRI.docx\")"
   ]
  },
  {
   "cell_type": "code",
   "execution_count": null,
   "id": "a180f7fb-6ecd-4ee0-bfb7-303c3b65d886",
   "metadata": {},
   "outputs": [],
   "source": [
    "\n",
    "table_num=1\n",
    "table = document.tables[table_num-1]\n",
    "\n",
    "data = [[cell.text for cell in row.cells] for row in table.rows]\n",
    "df = pd.DataFrame(data)\n"
   ]
  },
  {
   "cell_type": "code",
   "execution_count": 3,
   "id": "f5d9b636-00cc-41dc-9103-fb2fbf8a7fba",
   "metadata": {},
   "outputs": [],
   "source": [
    "\n",
    "\n",
    "df = TCFD_GRI.getTables1()"
   ]
  },
  {
   "cell_type": "code",
   "execution_count": 4,
   "id": "2515bb25-5d2d-4c8d-a227-e58faffeccc0",
   "metadata": {},
   "outputs": [
    {
     "data": {
      "text/html": [
       "<div>\n",
       "<style scoped>\n",
       "    .dataframe tbody tr th:only-of-type {\n",
       "        vertical-align: middle;\n",
       "    }\n",
       "\n",
       "    .dataframe tbody tr th {\n",
       "        vertical-align: top;\n",
       "    }\n",
       "\n",
       "    .dataframe thead th {\n",
       "        text-align: right;\n",
       "    }\n",
       "</style>\n",
       "<table border=\"1\" class=\"dataframe\">\n",
       "  <thead>\n",
       "    <tr style=\"text-align: right;\">\n",
       "      <th></th>\n",
       "      <th>0</th>\n",
       "      <th>1</th>\n",
       "      <th>2</th>\n",
       "      <th>3</th>\n",
       "      <th>4</th>\n",
       "    </tr>\n",
       "  </thead>\n",
       "  <tbody>\n",
       "    <tr>\n",
       "      <th>0</th>\n",
       "      <td>GRI Standards</td>\n",
       "      <td>None</td>\n",
       "      <td>None</td>\n",
       "      <td>None</td>\n",
       "      <td>NaN</td>\n",
       "    </tr>\n",
       "    <tr>\n",
       "      <th>1</th>\n",
       "      <td></td>\n",
       "      <td>None</td>\n",
       "      <td>None</td>\n",
       "      <td>None</td>\n",
       "      <td>NaN</td>\n",
       "    </tr>\n",
       "    <tr>\n",
       "      <th>2</th>\n",
       "      <td>Recommended</td>\n",
       "      <td>Related  Description</td>\n",
       "      <td>Omissions and/or content difference(s)</td>\n",
       "      <td>Level of</td>\n",
       "      <td>NaN</td>\n",
       "    </tr>\n",
       "    <tr>\n",
       "      <th>3</th>\n",
       "      <td>Disclosures</td>\n",
       "      <td>code/</td>\n",
       "      <td></td>\n",
       "      <td>alignment</td>\n",
       "      <td>NaN</td>\n",
       "    </tr>\n",
       "    <tr>\n",
       "      <th>4</th>\n",
       "      <td>(TCFD Framework)</td>\n",
       "      <td>paragraph</td>\n",
       "      <td>None</td>\n",
       "      <td></td>\n",
       "      <td>NaN</td>\n",
       "    </tr>\n",
       "    <tr>\n",
       "      <th>...</th>\n",
       "      <td>...</td>\n",
       "      <td>...</td>\n",
       "      <td>...</td>\n",
       "      <td>...</td>\n",
       "      <td>...</td>\n",
       "    </tr>\n",
       "    <tr>\n",
       "      <th>35</th>\n",
       "      <td></td>\n",
       "      <td></td>\n",
       "      <td>None</td>\n",
       "      <td>additional information.</td>\n",
       "      <td></td>\n",
       "    </tr>\n",
       "    <tr>\n",
       "      <th>36</th>\n",
       "      <td></td>\n",
       "      <td></td>\n",
       "      <td>None</td>\n",
       "      <td>However, users must be aware that reporting wi...</td>\n",
       "      <td></td>\n",
       "    </tr>\n",
       "    <tr>\n",
       "      <th>40</th>\n",
       "      <td></td>\n",
       "      <td></td>\n",
       "      <td>None</td>\n",
       "      <td>In the GRI Standards, ‘stakeholders’ is wider ...</td>\n",
       "      <td></td>\n",
       "    </tr>\n",
       "    <tr>\n",
       "      <th>42</th>\n",
       "      <td></td>\n",
       "      <td></td>\n",
       "      <td>None</td>\n",
       "      <td>target groups of investors and other financial...</td>\n",
       "      <td></td>\n",
       "    </tr>\n",
       "    <tr>\n",
       "      <th>43</th>\n",
       "      <td></td>\n",
       "      <td></td>\n",
       "      <td>None</td>\n",
       "      <td></td>\n",
       "      <td></td>\n",
       "    </tr>\n",
       "  </tbody>\n",
       "</table>\n",
       "<p>309 rows × 5 columns</p>\n",
       "</div>"
      ],
      "text/plain": [
       "                   0                     1  \\\n",
       "0      GRI Standards                  None   \n",
       "1                                     None   \n",
       "2        Recommended  Related  Description   \n",
       "3        Disclosures                 code/   \n",
       "4   (TCFD Framework)             paragraph   \n",
       "..               ...                   ...   \n",
       "35                                           \n",
       "36                                           \n",
       "40                                           \n",
       "42                                           \n",
       "43                                           \n",
       "\n",
       "                                         2  \\\n",
       "0                                     None   \n",
       "1                                     None   \n",
       "2   Omissions and/or content difference(s)   \n",
       "3                                            \n",
       "4                                     None   \n",
       "..                                     ...   \n",
       "35                                    None   \n",
       "36                                    None   \n",
       "40                                    None   \n",
       "42                                    None   \n",
       "43                                    None   \n",
       "\n",
       "                                                    3    4  \n",
       "0                                                None  NaN  \n",
       "1                                                None  NaN  \n",
       "2                                            Level of  NaN  \n",
       "3                                           alignment  NaN  \n",
       "4                                                      NaN  \n",
       "..                                                ...  ...  \n",
       "35                            additional information.       \n",
       "36  However, users must be aware that reporting wi...       \n",
       "40  In the GRI Standards, ‘stakeholders’ is wider ...       \n",
       "42  target groups of investors and other financial...       \n",
       "43                                                          \n",
       "\n",
       "[309 rows x 5 columns]"
      ]
     },
     "execution_count": 4,
     "metadata": {},
     "output_type": "execute_result"
    }
   ],
   "source": [
    "df"
   ]
  },
  {
   "cell_type": "code",
   "execution_count": null,
   "id": "096cf8b5-0f1f-42e8-a2b5-996e549cc124",
   "metadata": {},
   "outputs": [],
   "source": [
    "df.to_csv('TCFD-GTI-OUTOUT.csv')"
   ]
  },
  {
   "cell_type": "code",
   "execution_count": null,
   "id": "de67a194-1168-4a0a-8bf3-215e990b361b",
   "metadata": {},
   "outputs": [],
   "source": []
  },
  {
   "cell_type": "code",
   "execution_count": null,
   "id": "f71615f1-5e37-470d-8f1c-de2341f89371",
   "metadata": {},
   "outputs": [],
   "source": []
  },
  {
   "cell_type": "code",
   "execution_count": null,
   "id": "48fe1d88-9de6-4168-8a88-d728b9c35e69",
   "metadata": {},
   "outputs": [],
   "source": []
  }
 ],
 "metadata": {
  "kernelspec": {
   "display_name": "ESG-Mapping",
   "language": "python",
   "name": "esg-mapping"
  },
  "language_info": {
   "codemirror_mode": {
    "name": "ipython",
    "version": 3
   },
   "file_extension": ".py",
   "mimetype": "text/x-python",
   "name": "python",
   "nbconvert_exporter": "python",
   "pygments_lexer": "ipython3",
   "version": "3.9.6"
  }
 },
 "nbformat": 4,
 "nbformat_minor": 5
}
