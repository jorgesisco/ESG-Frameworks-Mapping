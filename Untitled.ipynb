{
 "cells": [
  {
   "cell_type": "code",
   "execution_count": 1,
   "id": "fa12104d-3655-459b-a35d-901ff463e088",
   "metadata": {},
   "outputs": [],
   "source": [
    "import pandas as pd\n",
    "import numpy as np\n",
    "import re\n",
    "\n",
    "# from tabula import read_pdf\n",
    "# from tabulate import tabulate\n",
    "# import pdfplumber\n",
    "import openpyxl\n",
    "\n",
    "from Script import ExtractPDFTables, MapLinks2Excel"
   ]
  },
  {
   "cell_type": "code",
   "execution_count": 42,
   "id": "36fa1427-d52e-4f61-873d-b7e974f82f6d",
   "metadata": {},
   "outputs": [],
   "source": []
  },
  {
   "cell_type": "code",
   "execution_count": 43,
   "id": "64fa0a43-718d-4aa8-8194-855586cd89c6",
   "metadata": {},
   "outputs": [],
   "source": []
  },
  {
   "cell_type": "code",
   "execution_count": null,
   "id": "9849526b-c1aa-41f2-9d54-01cce98c313b",
   "metadata": {},
   "outputs": [],
   "source": []
  },
  {
   "cell_type": "code",
   "execution_count": null,
   "id": "36b7395c-9379-4c38-bcc5-f68acca06f89",
   "metadata": {},
   "outputs": [],
   "source": []
  }
 ],
 "metadata": {
  "kernelspec": {
   "display_name": "ESG-Mapping",
   "language": "python",
   "name": "esg-mapping"
  },
  "language_info": {
   "codemirror_mode": {
    "name": "ipython",
    "version": 3
   },
   "file_extension": ".py",
   "mimetype": "text/x-python",
   "name": "python",
   "nbconvert_exporter": "python",
   "pygments_lexer": "ipython3",
   "version": "3.9.6"
  }
 },
 "nbformat": 4,
 "nbformat_minor": 5
}
