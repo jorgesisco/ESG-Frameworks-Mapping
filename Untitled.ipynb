{
 "cells": [
  {
   "cell_type": "code",
   "execution_count": 1,
   "id": "3d0b9602-580c-4b7e-96f8-b4a7490be1d7",
   "metadata": {},
   "outputs": [],
   "source": [
    "from tabula import read_pdf\n",
    "from tabulate import tabulate\n",
    "import pandas as pd\n",
    "import numpy as np\n",
    "import re\n",
    "\n",
    "import pdfplumber\n",
    "import openpyxl\n"
   ]
  },
  {
   "cell_type": "code",
   "execution_count": null,
   "id": "71ab2621-71c9-4506-a93c-f1826930bf96",
   "metadata": {},
   "outputs": [],
   "source": [
    "pdf_path = read_pdf('ESG-Frameworks/Mapping-Standards/SDG-GRI/sdg-gri.pdf', stream=True, pages = 3, area = [80.51, 90.42, 561.96, 814.18], multiple_tables=False )\n",
    "\n",
    "frames = []\n",
    "\n",
    "for i in range(3, len(pdf.pages)):\n",
    "    \n",
    "    try:\n",
    "        page = pdf.pages[i]\n",
    "        table = page.extract_table()\n",
    "        frames.append(pd.DataFrame(table))\n",
    "    except:\n",
    "        pass\n",
    "\n",
    "df =  pd.concat(frames)\n"
   ]
  },
  {
   "cell_type": "code",
   "execution_count": 6,
   "id": "d1ed8609-2989-44e1-ac8e-2178f247fd1a",
   "metadata": {},
   "outputs": [
    {
     "ename": "TabError",
     "evalue": "inconsistent use of tabs and spaces in indentation (453053566.py, line 9)",
     "output_type": "error",
     "traceback": [
      "\u001b[0;36m  File \u001b[0;32m\"/var/folders/j2/64m37fcx0fx_w8wpmhz91lmh0000gn/T/ipykernel_72660/453053566.py\"\u001b[0;36m, line \u001b[0;32m9\u001b[0m\n\u001b[0;31m    frames = []\u001b[0m\n\u001b[0m               ^\u001b[0m\n\u001b[0;31mTabError\u001b[0m\u001b[0;31m:\u001b[0m inconsistent use of tabs and spaces in indentation\n"
     ]
    }
   ],
   "source": [
    "class ExtractPDFTables:\n",
    "\n",
    "\tdef __init__(self, file_path, firstTablePage):\n",
    "\t\tself.file_path = file_path\n",
    "\t\tself.firstTablePage = firstTablePage\n",
    "\n",
    "\tdef getTables(self, file_path, firstTablePage):\n",
    "        \n",
    "        frames = []\n",
    "        pdf = read_pdf(file_path)\n",
    "        \n",
    "        for i in range(firstTablePage, len(pdf.pages)):\n",
    "            try:\n",
    "                page = pdf.pages[i]\n",
    "                table = page.extract_table()\n",
    "                frames.append(pd.DataFrame(table))\n",
    "            except:\n",
    "                pass\n",
    "        df = pd.concat(frames)\n",
    "        \n",
    "        return frames\n",
    "\n",
    "\n"
   ]
  },
  {
   "cell_type": "code",
   "execution_count": null,
   "id": "e2394c58-0bd3-4d38-8ab2-1bab9b28ae63",
   "metadata": {},
   "outputs": [],
   "source": [
    "pdf_path = 'ESG-Frameworks/Mapping-Standards/sdg-gri.pdf'\n",
    "firstTablePage = 3\n",
    "table = ExtractPDFTables(pdf_path, firstTablePage)"
   ]
  },
  {
   "cell_type": "code",
   "execution_count": null,
   "id": "3217d543-3bf4-48b6-8c9e-9e770649bc8c",
   "metadata": {},
   "outputs": [],
   "source": []
  },
  {
   "cell_type": "code",
   "execution_count": null,
   "id": "f78331ad-97c3-4149-bf59-7e9bf182a8d6",
   "metadata": {},
   "outputs": [],
   "source": []
  },
  {
   "cell_type": "code",
   "execution_count": null,
   "id": "d307417b-957e-493f-8f2b-3fe068347a75",
   "metadata": {},
   "outputs": [],
   "source": []
  }
 ],
 "metadata": {
  "kernelspec": {
   "display_name": "ESG-Mapping",
   "language": "python",
   "name": "esg-mapping"
  },
  "language_info": {
   "codemirror_mode": {
    "name": "ipython",
    "version": 3
   },
   "file_extension": ".py",
   "mimetype": "text/x-python",
   "name": "python",
   "nbconvert_exporter": "python",
   "pygments_lexer": "ipython3",
   "version": "3.9.6"
  }
 },
 "nbformat": 4,
 "nbformat_minor": 5
}
