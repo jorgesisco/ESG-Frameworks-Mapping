{
 "cells": [
  {
   "cell_type": "code",
   "execution_count": 1,
   "id": "59882720-17b6-4466-84a8-be4688c70633",
   "metadata": {},
   "outputs": [],
   "source": [
    "import pandas as pd\n",
    "import numpy as np\n",
    "import re\n",
    "\n",
    "from tabula import read_pdf\n",
    "from tabulate import tabulate\n",
    "import pdfplumber\n",
    "import openpyxl\n",
    "\n",
    "from Script import ExtractPDFTables, MapLinks2Excel\n",
    "import camelot.io as camelot\n",
    "\n",
    "\n"
   ]
  },
  {
   "cell_type": "code",
   "execution_count": null,
   "id": "6e140109-0c80-49ec-9729-7d13acf9f307",
   "metadata": {},
   "outputs": [],
   "source": [
    "from ghostscript import Ghostscript\n",
    "\n"
   ]
  },
  {
   "cell_type": "code",
   "execution_count": null,
   "id": "57f493bf-651d-4fd5-89a8-a9823a9b580e",
   "metadata": {},
   "outputs": [],
   "source": []
  },
  {
   "cell_type": "markdown",
   "id": "20def67c-69c4-4e66-8379-e9b460d651ab",
   "metadata": {
    "jp-MarkdownHeadingCollapsed": true,
    "tags": []
   },
   "source": [
    "# 1 .Table Extraction and Mapping (SGD-GRI Link)"
   ]
  },
  {
   "cell_type": "code",
   "execution_count": null,
   "id": "d47e7196-e6d5-4f4d-ba51-1b2f668211c7",
   "metadata": {},
   "outputs": [],
   "source": [
    "pdf_path = 'ESG-Frameworks/Mapping-Standards/SDG-GRI/sdg-gri.pdf'\n",
    "page_range = [list(range(3, 73)), list(range(74, 99))]\n",
    "area = [80.51, 90.42, 561.96, 814.18]\n",
    "\n",
    "tableTCFD_GRI = ExtractPDFTables(pdf_path, page_range, area)\n",
    "df = tableTCFD_GRI.getTablesSDG_GRI('ESG-Frameworks/ESG Data/SDG_info.csv')"
   ]
  },
  {
   "cell_type": "code",
   "execution_count": null,
   "id": "ac177e76-6239-4138-b0db-4dc8cb5e144f",
   "metadata": {},
   "outputs": [],
   "source": []
  },
  {
   "cell_type": "markdown",
   "id": "078fde49-d6ba-4743-9ff5-1b4a42e69214",
   "metadata": {
    "tags": []
   },
   "source": [
    "## Mapping Collected Dataframe (SDG-GRI)"
   ]
  },
  {
   "cell_type": "code",
   "execution_count": null,
   "id": "1c967a7e-e7c5-4884-ba83-abc09558ea11",
   "metadata": {},
   "outputs": [],
   "source": [
    "excelFilePath = 'ESG-Frameworks/Outputs/testing.xlsx'\n",
    "sheet = \"SDG's\"\n",
    "\n",
    "mapp = MapLinks2Excel(df, sheet, excelFilePath)\n",
    "mapp.MapSDG_GRI()"
   ]
  },
  {
   "cell_type": "markdown",
   "id": "b80f2f59-c77b-43b9-b751-79939c674e27",
   "metadata": {
    "tags": []
   },
   "source": [
    "## Mapping Collected Dataframe (GRI-SDG)"
   ]
  },
  {
   "cell_type": "code",
   "execution_count": null,
   "id": "f823e872-612b-4cd8-85c2-05006fba3b29",
   "metadata": {},
   "outputs": [],
   "source": [
    "excelFilePath = 'ESG-Frameworks/Outputs/testing.xlsx'\n",
    "sheet = \"GRI 2016\"\n",
    "\n",
    "mapp = MapLinks2Excel(df, sheet, excelFilePath)\n",
    "mapp.MapGRI_SDG()"
   ]
  },
  {
   "cell_type": "markdown",
   "id": "ae114af1-8f87-497e-a767-ea0743a443bd",
   "metadata": {
    "jp-MarkdownHeadingCollapsed": true,
    "tags": []
   },
   "source": [
    "# 2. Table Extraction and Mapping (COH4B-GRI Link)"
   ]
  },
  {
   "cell_type": "code",
   "execution_count": null,
   "id": "7f631077-11a1-49a1-ac29-8cec801fc1ed",
   "metadata": {},
   "outputs": [],
   "source": [
    "pdf_path = 'ESG-Frameworks/Mapping-Standards/GRI-COH4B/gri-coh4b.pdf'\n",
    "page_range = list(range(13, 22))\n",
    "\n",
    "\n",
    "tableGRI_COH4B = ExtractPDFTables(pdf_path, page_range)\n",
    "df = tableGRI_COH4B.getTablesGRI_COH4B()\n",
    "df = tableGRI_COH4B.setHeaders(df, 0)\n",
    "df = tableGRI_COH4B.headerSwap(df, 'A. COHBP & \\ndefinition', None, 'id')\n",
    "df = tableGRI_COH4B.addDot(df, 'id')\n",
    "\n",
    "\n",
    "\n",
    "df = tableGRI_COH4B.extractDisclosures1(df, 'D. GRI disclosures', 'GRI Standards', '[0-9]{3}-[0-9]{2}|[0-9]{3}-[0-9]{1}', re.search)\n",
    "\n"
   ]
  },
  {
   "cell_type": "code",
   "execution_count": null,
   "id": "a787443a-29cb-4ed9-9580-ba4e267ef7bf",
   "metadata": {},
   "outputs": [],
   "source": [
    "# df"
   ]
  },
  {
   "cell_type": "markdown",
   "id": "581c6779-e60c-4c9e-a9dc-ae2081afb4e8",
   "metadata": {
    "tags": []
   },
   "source": [
    "## Mapping Collected Dataframe (COH4B-GRI)"
   ]
  },
  {
   "cell_type": "code",
   "execution_count": null,
   "id": "355c8504-d724-4705-b058-09f797f9db5f",
   "metadata": {},
   "outputs": [],
   "source": [
    "excelFilePath = 'ESG-Frameworks/Outputs/testing.xlsx'\n",
    "sheet = \"COH4B\"\n",
    "\n",
    "mapp = MapLinks2Excel(df, sheet, excelFilePath)\n",
    "mapp.MapCOH4B_GRI()"
   ]
  },
  {
   "cell_type": "markdown",
   "id": "b5822347-442f-4954-b4ed-8cb8c856fbc5",
   "metadata": {
    "tags": []
   },
   "source": [
    "## Mapping Collected Dataframe (GRI-COH4B)"
   ]
  },
  {
   "cell_type": "code",
   "execution_count": null,
   "id": "94e95589-6170-4589-b428-6b56c9863d35",
   "metadata": {},
   "outputs": [],
   "source": [
    "excelFilePath = 'ESG-Frameworks/Outputs/testing.xlsx'\n",
    "sheet = \"GRI 2016\"\n",
    "\n",
    "mapp = MapLinks2Excel(df, sheet, excelFilePath)\n",
    "mapp.MapGRI_COH4B()"
   ]
  },
  {
   "cell_type": "markdown",
   "id": "fd8b964f-8ed9-4f84-8b60-4b3c5b87d0c8",
   "metadata": {
    "jp-MarkdownHeadingCollapsed": true,
    "tags": []
   },
   "source": [
    "# 3. Table Extraction and Mapping (TCFD-GRI Link)"
   ]
  },
  {
   "cell_type": "code",
   "execution_count": null,
   "id": "7e0c505a-746e-475e-bd43-03a6d61f0b1c",
   "metadata": {},
   "outputs": [],
   "source": [
    "pdf_path = 'ESG-Frameworks/Mapping-Standards/TCFD-GRI/TCFD to GRI.pdf'\n",
    "page_range = list(range(49, 59))\n",
    "\n",
    "\n",
    "tableTCFD_GRI = ExtractPDFTables(pdf_path, page_range)\n",
    "df = tableTCFD_GRI.getTablesTCFD_GRI()\n",
    "df = tableTCFD_GRI.extractDisclosures2(df, 'Related \\ncode/\\nparagraph', 'GRI Standards', r'[0-9]{3}-[0-9]{2}|[0-9]{3}-[0-9]{1}', re.findall)\n",
    "df = tableTCFD_GRI.extractDisclosures2(df, 'Recommended \\nDisclosures \\n(TCFD Framework)', 'id', r'\\w+\\s[abc]\\.', re.findall)\n",
    "\n",
    "\n",
    "\n",
    "\n",
    "# [a-zA-Z]\\."
   ]
  },
  {
   "cell_type": "code",
   "execution_count": null,
   "id": "40635d78-c62b-483f-8fe6-31987fd4bab7",
   "metadata": {},
   "outputs": [],
   "source": []
  },
  {
   "cell_type": "markdown",
   "id": "98bb74a1-3e4f-4871-a6da-3020a87583ea",
   "metadata": {},
   "source": [
    "## Mapping Collected Dataframe (TCDF-GRI)"
   ]
  },
  {
   "cell_type": "code",
   "execution_count": null,
   "id": "80e8963f-4dc9-40a7-8f12-1759ff250255",
   "metadata": {},
   "outputs": [],
   "source": [
    "excelFilePath = 'ESG-Frameworks/Outputs/testing.xlsx'\n",
    "sheet = \"TCFD\"\n",
    "\n",
    "\n",
    "mapp = MapLinks2Excel(df, sheet, excelFilePath)\n",
    "mapp.mapTCFD_GRI()\n"
   ]
  },
  {
   "cell_type": "markdown",
   "id": "e776e65c-623d-434d-b4e2-3031e73a4f4e",
   "metadata": {},
   "source": [
    "## Mapping Collected Dataframe (GRI-TCDF)"
   ]
  },
  {
   "cell_type": "code",
   "execution_count": null,
   "id": "a98d3107-bfc9-4324-96a8-7631386af478",
   "metadata": {},
   "outputs": [],
   "source": [
    "df = tableTCFD_GRI.df_gri_tcdf(df)"
   ]
  },
  {
   "cell_type": "code",
   "execution_count": null,
   "id": "3c9cf03b-8278-4310-8759-d2fbeecfd931",
   "metadata": {},
   "outputs": [],
   "source": [
    "excelFilePath = 'ESG-Frameworks/Outputs/testing.xlsx'\n",
    "sheet = \"GRI 2016\"\n",
    "\n",
    "\n",
    "mapp = MapLinks2Excel(df, sheet, excelFilePath)\n",
    "mapp.mapGRI_TCFD()"
   ]
  },
  {
   "cell_type": "markdown",
   "id": "27e7f443-cf6f-4c95-bb39-60a61e384561",
   "metadata": {
    "jp-MarkdownHeadingCollapsed": true,
    "tags": []
   },
   "source": [
    "# 4. Table Extraction and Mapping (GRI 2016- GRI 2021)"
   ]
  },
  {
   "cell_type": "markdown",
   "id": "7ae3cf86-ab62-4d5a-84d7-01c1ea5d3273",
   "metadata": {
    "jp-MarkdownHeadingCollapsed": true,
    "tags": []
   },
   "source": [
    "### Reading extracted csv from excel and fixing the columns names, this new csv file will be use for future mapping"
   ]
  },
  {
   "cell_type": "code",
   "execution_count": null,
   "id": "884cb8a0-cf1d-45d0-85a4-cb0f92d1000e",
   "metadata": {},
   "outputs": [],
   "source": [
    "# df = pd.read_csv('ESG-Frameworks/Mapping-Standards/GRI 2016-2021//GRI2016-2021.csv', sep=';')\n",
    "# df = df.iloc[0:67]\n",
    "# df.rename(columns = {\"GRI Standard Title\": \"GRI Standard Title 2016\",\n",
    "#                      \"Disclosure Number\": \"Disclosure Number 2016\",\n",
    "#                      \"Disclosure Name\\nIndividual requirements ('a', 'b', 'c', etc.) are not listed here\": 'GRI 2016 Description',\n",
    "#                      \"Section\": \"Section 2016\",\n",
    "#                      \"Page Number\": \"Page Number 2016\",\n",
    "#                      \"GRI Standard Title.1\": \"GRI 2021 Standard Title\",\n",
    "#                      \"Disclosure Number.1\": \"Disclosure Number 2021\",\n",
    "#                      \"Disclosure Name\\nIndividual requirements ('a', 'b', 'c', etc.) are not listed here.1\": 'GRI 2021 Description',\n",
    "#                      \"Section.1\": \"Section 2021\",\n",
    "#                      \"Page Number.1\": 'Page Number 2021'},\n",
    "#                       inplace = True)\n"
   ]
  },
  {
   "cell_type": "code",
   "execution_count": null,
   "id": "b1f3a68f-46d2-447a-8345-31bdb71ac29a",
   "metadata": {},
   "outputs": [],
   "source": [
    "# df.to_csv('GRI2016-2021.csv')"
   ]
  },
  {
   "cell_type": "code",
   "execution_count": null,
   "id": "781b30e3-6fae-426d-8028-fe430659cb35",
   "metadata": {},
   "outputs": [],
   "source": []
  },
  {
   "cell_type": "markdown",
   "id": "7af327a8-9c32-4dfe-b4b1-236279eb4a78",
   "metadata": {
    "tags": []
   },
   "source": [
    "## Mapping GRI 2021 ON GRI 2016 sheet"
   ]
  },
  {
   "cell_type": "markdown",
   "id": "159e5a9f-6b8f-4871-803a-4819a7c0343f",
   "metadata": {
    "jp-MarkdownHeadingCollapsed": true,
    "tags": []
   },
   "source": [
    "#### Source code for method"
   ]
  },
  {
   "cell_type": "code",
   "execution_count": null,
   "id": "e1e39a59-19ee-4dc8-966e-46f3392471cf",
   "metadata": {},
   "outputs": [],
   "source": [
    "path_file = 'ESG-Frameworks/Outputs/testing.xlsx'\n",
    "sheet = 'GRI 2016'\n",
    "\n",
    "wb = openpyxl.load_workbook(path_file)\n",
    "ws = wb[sheet]\n",
    "\n",
    "rows = ws.max_row\n",
    "\n",
    "print(rows)\n",
    "# print(rows)\n",
    "for i in range(3, rows):\n",
    "    if ws.cell(row=i, column=2).value != None:\n",
    "        target_cell = ws.cell(row=i, column=2).value\n",
    "        # print(target_cell)\n",
    "        \n",
    "        if target_cell != None:\n",
    "            try:\n",
    "                disclosure_to_add = df.loc[df['Disclosure Number 2016'] == target_cell]['Disclosure Number 2021'].item()\n",
    "                ws.cell(row=i, column=4, value=str(disclosure_to_add))\n",
    "                \n",
    "                section_to_add = df.loc[df['Disclosure Number 2016'] == target_cell]['Section 2021'].item()\n",
    "                \t\n",
    "                ws.cell(row=i, column=5, value=str(section_to_add))\t\n",
    "\n",
    "            except:\n",
    "                pass\n",
    "        \n",
    "        \n",
    "       \n",
    "\n",
    "wb.save(path_file)\n",
    "\n",
    "print(f'{sheet} sheet from Excel file have bee mapped')"
   ]
  },
  {
   "cell_type": "code",
   "execution_count": null,
   "id": "cbc69e1c-f9ec-4ca5-ba8a-a29fa4ad053f",
   "metadata": {},
   "outputs": [],
   "source": [
    "df = pd.read_csv('ESG-Frameworks/Mapping-Standards/GRI 2016-2021//GRI2016-2021.csv')\n",
    "df = df.drop('Unnamed: 0', axis=1)"
   ]
  },
  {
   "cell_type": "markdown",
   "id": "4b9e04f0-f814-46d7-9fb4-217a15b41021",
   "metadata": {
    "tags": []
   },
   "source": [
    "### Mapping GRI 2021 to 2016 sheet using class method"
   ]
  },
  {
   "cell_type": "code",
   "execution_count": null,
   "id": "4b96ad41-0a7f-43b1-8cd4-5fff3c6a4489",
   "metadata": {},
   "outputs": [],
   "source": [
    "df = pd.read_csv('ESG-Frameworks/Mapping-Standards/GRI 2016-2021//GRI2016-2021.csv')\n",
    "df = df.drop('Unnamed: 0', axis=1)"
   ]
  },
  {
   "cell_type": "code",
   "execution_count": null,
   "id": "f37d6528-e44c-4de4-b61b-97e5b1a3a3ea",
   "metadata": {},
   "outputs": [],
   "source": [
    "excelFilePath = 'ESG-Frameworks/Outputs/testing.xlsx'\n",
    "sheet = \"GRI 2016\"\n",
    "\n",
    "\n",
    "mapp = MapLinks2Excel(df, sheet, excelFilePath)\n",
    "mapp.mapGRI2016_2021()"
   ]
  },
  {
   "cell_type": "markdown",
   "id": "1844ae5c-066e-4ea1-a175-e96d53a9e7c7",
   "metadata": {
    "jp-MarkdownHeadingCollapsed": true,
    "tags": []
   },
   "source": [
    "## Mapping GRI 2016 ON GRI 2021sheet"
   ]
  },
  {
   "cell_type": "code",
   "execution_count": null,
   "id": "e3ea84bc-416f-4565-a1a7-d9c737b7c5ea",
   "metadata": {},
   "outputs": [],
   "source": [
    "df = pd.read_csv('ESG-Frameworks/Mapping-Standards/GRI 2016-2021//GRI2016-2021.csv')\n",
    "df = df.drop('Unnamed: 0', axis=1)"
   ]
  },
  {
   "cell_type": "code",
   "execution_count": null,
   "id": "4ca34b05-445a-4166-b71b-45e723b31000",
   "metadata": {},
   "outputs": [],
   "source": [
    "# excelFilePath = 'ESG-Frameworks/Outputs/testing.xlsx'\n",
    "# sheet = \"GRI 2021\"\n",
    "\n",
    "# a = []\n",
    "# wb = openpyxl.load_workbook(excelFilePath)\n",
    "# ws = wb[sheet]\n",
    "# rows = ws.max_row\n",
    "\n",
    "# regex = '[1-9]+-[1-9]+'\n",
    "\n",
    "# for i in range(3, rows):\n",
    "# \tif ws.cell(row=i, column=2).value == None:\n",
    "# \t\tpass\n",
    "    \n",
    "# \telse:\n",
    "# \t\ttarget_cell = ws.cell(row=i, column=2).value\n",
    "\n",
    "# \t\tif target_cell != None:\n",
    "# \t\t\ttry:\n",
    "# \t\t\t\tdisclosure_to_add = df.loc[df['Disclosure Number 2021'] == target_cell]['Disclosure Number 2016'].values\n",
    "# \t\t\t\t# print(disclosure_to_add)\n",
    "# \t\t\t\tws.cell(row=i, column=4, value='\\n'.join(disclosure_to_add))\n",
    "\n",
    "                \n",
    "# \t\t\t\tsection_to_add = df.loc[df['Disclosure Number 2021'] == target_cell]['Section 2016'].values\n",
    "\n",
    "                \n",
    "# \t\t\t\tws.cell(row=i, column=5, value=section_to_add[0])\n",
    "\n",
    "# \t\t\texcept:\n",
    "# \t\t\t\t\tpass\n",
    "\n",
    "# wb.save(excelFilePath)\n",
    "\n",
    "# # print(f\"{sheet} sheet from Excel file have bee mapped with it's GRI 2021 equivalent\")\n",
    "\n"
   ]
  },
  {
   "cell_type": "code",
   "execution_count": null,
   "id": "7b7440f1-1738-4aba-8ca3-14f3bb396460",
   "metadata": {},
   "outputs": [],
   "source": [
    "excelFilePath = 'ESG-Frameworks/Outputs/testing.xlsx'\n",
    "sheet = \"GRI 2021\"\n",
    "\n",
    "\n",
    "mapp = MapLinks2Excel(df, sheet, excelFilePath)\n",
    "mapp.mapGRI2021_2016()"
   ]
  },
  {
   "cell_type": "code",
   "execution_count": null,
   "id": "78ce55fb-4456-41dd-96fc-c7552b92e560",
   "metadata": {},
   "outputs": [],
   "source": []
  },
  {
   "cell_type": "markdown",
   "id": "2538966e-ea0e-47bd-a87d-f6382551f708",
   "metadata": {
    "jp-MarkdownHeadingCollapsed": true,
    "tags": []
   },
   "source": [
    "# 5 Table Extraction and Mapping(CASS CSR 4.0 - GRI 2016)"
   ]
  },
  {
   "cell_type": "markdown",
   "id": "68e1b749-4c3d-4cd0-b81d-ae7102d7504c",
   "metadata": {
    "jp-MarkdownHeadingCollapsed": true,
    "tags": []
   },
   "source": [
    "## Source code to extract pdf"
   ]
  },
  {
   "cell_type": "code",
   "execution_count": null,
   "id": "0e79ac47-df79-410b-8deb-6c80fef3727b",
   "metadata": {
    "tags": []
   },
   "outputs": [],
   "source": [
    "file_path = 'ESG-Frameworks/Mapping-Standards/CASSCSR-GRI/CASS_CSR-GRI.pdf'\n",
    "page_range = list(range(7, 30))\n",
    "\n",
    "pdf = pdfplumber.open(file_path, pages=page_range)\n",
    "frames = []\n",
    "\n",
    "for i in range(0, len(page_range)):\n",
    "\ttry:\n",
    "\t\tpage = pdf.pages[i]\n",
    "\t\ttable = page.extract_table()\n",
    "\t\tframes.append(pd.DataFrame(table))\n",
    "\t\t\t\n",
    "\texcept:\n",
    "\t\tpass\n",
    "\n",
    "df =  pd.concat(frames)\n",
    "df.columns = df.iloc[0]\n",
    "df = df[1:]\n",
    "find_duplicate = df['KPI \\n(CASSCSR-4.0)'].isin(['KPI \\n(CASSCSR-4.0)'])\n",
    "\n",
    "df = df[~find_duplicate]"
   ]
  },
  {
   "cell_type": "markdown",
   "id": "8c717da7-7661-4f27-bec2-ec304b925314",
   "metadata": {
    "tags": []
   },
   "source": [
    "## Getting data from pdf CASS_GRI 2016"
   ]
  },
  {
   "cell_type": "code",
   "execution_count": null,
   "id": "f7031ad1-edbb-4b0d-a880-7c0ffffd14a1",
   "metadata": {},
   "outputs": [],
   "source": [
    "pdf_path = 'ESG-Frameworks/Mapping-Standards/CASSCSR-GRI/CASS_CSR-GRI.pdf'\n",
    "page_range = list(range(7, 30))\n",
    "\n",
    "\n",
    "tableCASS_GRI = ExtractPDFTables(pdf_path, page_range)\n",
    "df = tableCASS_GRI.getTablesCASS_GRI()"
   ]
  },
  {
   "cell_type": "code",
   "execution_count": null,
   "id": "d700568a-7f42-45c1-a20d-c00183801330",
   "metadata": {},
   "outputs": [],
   "source": []
  },
  {
   "cell_type": "markdown",
   "id": "ed5f3223-f7a0-480e-a91c-206f80b0c966",
   "metadata": {
    "jp-MarkdownHeadingCollapsed": true,
    "tags": []
   },
   "source": [
    "## Mapping to excel! source code  CASS ON GRI2016 SHEET"
   ]
  },
  {
   "cell_type": "code",
   "execution_count": null,
   "id": "17b40e4e-889a-4acf-a48e-f47d1833e542",
   "metadata": {},
   "outputs": [],
   "source": [
    "path_file = 'ESG-Frameworks/Outputs/testing.xlsx'\n",
    "\n",
    "sheet = 'GRI 2016'\n",
    "\n",
    "regex = '\\w[+-]?[0-9]+\\.+\\d+'\n",
    "\n",
    "wb = openpyxl.load_workbook(path_file)\n",
    "ws = wb[sheet]\n",
    "rows = ws.max_row\n",
    "\n",
    "\n",
    "for i in range(3, rows):\n",
    "\tif ws.cell(row=i, column=2).value == None:\n",
    "\t\tpass\n",
    "\n",
    "\telse:\n",
    "\t\ttarget_cell = ws.cell(row=i, column=2).value\n",
    "\t\t# print(target_cell)\n",
    "\n",
    "        \n",
    "\t\tif target_cell != None:\n",
    "            \n",
    "\t\t\ttry:\n",
    "\t\t\t\tdisclosure_to_add = df.loc[df['ID_GRI'] == target_cell]['ID_CASS_CSR'].values\n",
    "\t\t\t\t\n",
    "                \n",
    "\t\t\t\tif len(disclosure_to_add) > 0:\n",
    "\t\t\t\t\tdisclosure_to_add_ = [i[re.search(regex, i).start():re.search(regex, i).end()] for i in disclosure_to_add]\n",
    "\t\t\t\t\t# print(disclosure_to_add_)\n",
    "\t\t\t\t\tws.cell(row=i, column=12, value='\\n'.join(disclosure_to_add_))\n",
    "                    \n",
    "\t\t\t\tsection_to_add = df.loc[df['ID_GRI'] == target_cell]['KPI \\n(CASSCSR-4.0)'].values\n",
    "                \n",
    "                \n",
    "\t\t\t\tif len(section_to_add)>0:\n",
    "                    \n",
    "\t\t\t\t\t# print(section_to_add)\n",
    "\t\t\t\t\tws.cell(row=i, column=13, value='\\n'.join(section_to_add))\t\n",
    "\n",
    "\t\t\texcept:\n",
    "\t\t\t\tpass\n",
    "wb.save(path_file)"
   ]
  },
  {
   "cell_type": "markdown",
   "id": "7338c5dd-e8cf-47c7-b676-0ce46c7f9178",
   "metadata": {
    "jp-MarkdownHeadingCollapsed": true,
    "tags": []
   },
   "source": [
    "## Mapping to Excel Class method CASS on GRI 20016"
   ]
  },
  {
   "cell_type": "code",
   "execution_count": null,
   "id": "7be67fec-1065-47a8-9155-076aa563cbba",
   "metadata": {},
   "outputs": [],
   "source": [
    "path_file = 'ESG-Frameworks/Outputs/testing.xlsx'\n",
    "\n",
    "sheet = 'GRI 2016'\n",
    "\n",
    "mapp = MapLinks2Excel(df, sheet, path_file)\n",
    "mapp.mapCASS_GRI1016()"
   ]
  },
  {
   "cell_type": "markdown",
   "id": "b90da869-276b-4198-9e38-53596676122c",
   "metadata": {
    "tags": []
   },
   "source": [
    "## Mapping to Excel GRI2016 ON CASS "
   ]
  },
  {
   "cell_type": "markdown",
   "id": "97ef7533-53a4-4ed3-99f7-b3365bec25b7",
   "metadata": {
    "jp-MarkdownHeadingCollapsed": true,
    "tags": []
   },
   "source": [
    "### Source Code"
   ]
  },
  {
   "cell_type": "code",
   "execution_count": null,
   "id": "81eba20c-1b0a-4f55-93a0-e05df79760ff",
   "metadata": {},
   "outputs": [],
   "source": [
    "path_file = 'ESG-Frameworks/Outputs/testing.xlsx'\n",
    "\n",
    "sheet = 'CASS CSR 4.0'\n",
    "\n",
    "\n",
    "wb = openpyxl.load_workbook(path_file)\n",
    "ws = wb[sheet]\n",
    "rows = ws.max_row\n",
    "\n",
    "\n",
    "\n",
    "    \n",
    "    \n",
    "for i in range(3, len(df['ID_CASS_CSR'])):\n",
    "\n",
    "    ws.cell(row=i, column=1, value=df['ID_CASS_CSR'][i])\n",
    "    ws.cell(row=i, column=2, value=df['KPI \\n(CASSCSR-4.0)'][i])\n",
    "    ws.cell(row=i, column=3, value=df['ID_GRI'][i])\n",
    "    ws.cell(row=i, column=4, value=df['Disclosure title (GRI)'][i])\n",
    "    \n",
    "\n",
    "wb.save(path_file)\n"
   ]
  },
  {
   "cell_type": "markdown",
   "id": "e275a1e1-914f-4a05-8d1b-9df2d61faf19",
   "metadata": {
    "tags": []
   },
   "source": [
    "### Mapping GRI TO CASS WITH CLASS METHOD"
   ]
  },
  {
   "cell_type": "code",
   "execution_count": null,
   "id": "185f83f2-161d-4ca3-a04e-1c7b085d951a",
   "metadata": {},
   "outputs": [],
   "source": [
    "path_file = 'ESG-Frameworks/Outputs/testing.xlsx'\n",
    "\n",
    "sheet = 'CASS CSR 4.0'\n",
    "\n",
    "mapp = MapLinks2Excel(df, sheet, path_file)\n",
    "mapp.mapGRI2016_CASS()"
   ]
  },
  {
   "cell_type": "code",
   "execution_count": null,
   "id": "fb48cf9e-6541-4150-b04b-85bbe82651ab",
   "metadata": {},
   "outputs": [],
   "source": [
    "df"
   ]
  },
  {
   "cell_type": "markdown",
   "id": "8b198583-f022-400e-8e1a-bcb8fb612d7f",
   "metadata": {
    "jp-MarkdownHeadingCollapsed": true,
    "tags": []
   },
   "source": [
    "# 6. Table Extraction and Mapping(CDP 2017 - GRI 2016)"
   ]
  },
  {
   "cell_type": "markdown",
   "id": "ea0aabcc-aa28-4f8e-b418-b414f248e3ce",
   "metadata": {
    "tags": []
   },
   "source": [
    "## Getting Tables from doc"
   ]
  },
  {
   "cell_type": "code",
   "execution_count": null,
   "id": "d1d76e2f-9d52-472e-8c62-3658d8e87fc6",
   "metadata": {},
   "outputs": [],
   "source": [
    "pdf_path = 'ESG-Frameworks/Mapping-Standards/CDP17-GRI/Cdp 2017 to GRI.pdf'\n",
    "page_range = list(range(2, 32))\n",
    "\n",
    "\n",
    "tableCDP_GRI = ExtractPDFTables(pdf_path, page_range)\n",
    "df = tableCDP_GRI.getTablesCDP_GRI()"
   ]
  },
  {
   "cell_type": "code",
   "execution_count": null,
   "id": "ab6e2a94-d1b0-4644-835f-50b786512779",
   "metadata": {},
   "outputs": [],
   "source": []
  },
  {
   "cell_type": "markdown",
   "id": "dff93951-24a0-43e4-8a24-7236a7d17561",
   "metadata": {
    "tags": []
   },
   "source": [
    "## Mapping CDP 2017 to GRI"
   ]
  },
  {
   "cell_type": "code",
   "execution_count": null,
   "id": "015cfb85-f235-47de-8c66-c1a6e90f6820",
   "metadata": {},
   "outputs": [],
   "source": [
    "path_file = 'ESG-Frameworks/Outputs/testing.xlsx'\n",
    "sheet = 'GRI 2016'\n",
    "\n",
    "mapp = MapLinks2Excel(df, sheet, path_file)\n",
    "mapp.mapCDPCC17_GRI()\n"
   ]
  },
  {
   "cell_type": "code",
   "execution_count": null,
   "id": "7452e3d8-e493-4dfa-b187-7b4d645fb021",
   "metadata": {},
   "outputs": [],
   "source": []
  },
  {
   "cell_type": "markdown",
   "id": "2a0ee683-5b0d-45a8-8201-9c792b743c0b",
   "metadata": {
    "tags": []
   },
   "source": [
    "## Mapping GRI to CDP 2017"
   ]
  },
  {
   "cell_type": "code",
   "execution_count": null,
   "id": "f3758ee7-32a4-4514-bad0-8e2d1aefe576",
   "metadata": {},
   "outputs": [],
   "source": []
  },
  {
   "cell_type": "code",
   "execution_count": null,
   "id": "ab792087-aed2-4463-88a3-8d920c43ed81",
   "metadata": {},
   "outputs": [],
   "source": [
    "path_file = 'ESG-Frameworks/Outputs/testing.xlsx'\n",
    "\n",
    "sheet = 'CDP 2017'\n",
    "\n",
    "wb = openpyxl.load_workbook(path_file)\n",
    "ws = wb[sheet]\n",
    "\n",
    "# print(df['CDP'])\n",
    "regex = '[a-zA-Z]+.+\\d'\n",
    "\n",
    "r = 3\n",
    "for i in df['CDP']:\n",
    "    if re.search(regex, i):\n",
    "#         print('--------------------------------------')\n",
    "        ws.cell(row=r, column=1, value=i)\n",
    "#         print(i)\n",
    "        r+=1\n",
    "\n",
    "\n",
    "regex_2 = 'GRI \\w+\\d:'\n",
    "    \n",
    "r = 3\n",
    "for i in df['GRI']:\n",
    "    if i != None and re.search(regex_2, i):\n",
    "        ws.cell(row=r, column=2, value=i)\n",
    "        r+=1\n",
    "\n",
    "        \n",
    "\n",
    "wb.save(path_file)\n",
    "\n",
    "\n",
    "\t"
   ]
  },
  {
   "cell_type": "code",
   "execution_count": null,
   "id": "fd6828f8-a26a-4d88-8b41-1fab66ff8414",
   "metadata": {},
   "outputs": [],
   "source": [
    "path_file = 'ESG-Frameworks/Outputs/testing.xlsx'\n",
    "sheet = 'CDP CC 2017'\n",
    "\n",
    "mapp = MapLinks2Excel(df, sheet, path_file)\n",
    "mapp.mapGRI_CDPCC17()\n"
   ]
  },
  {
   "cell_type": "markdown",
   "id": "070722eb-6f72-434b-8ed5-914391d41084",
   "metadata": {
    "jp-MarkdownHeadingCollapsed": true,
    "tags": []
   },
   "source": [
    "# 7. Table Extraction and Mapping (CDP Water 2018 - GRI)"
   ]
  },
  {
   "cell_type": "code",
   "execution_count": null,
   "id": "de322395-5084-487f-a0e6-6933306c4481",
   "metadata": {},
   "outputs": [],
   "source": [
    "pdf_path = 'ESG-Frameworks/Mapping-Standards/CDP Water 2018 - GRI/CDP 2018 Water to GRI.pdf'\n",
    "page_range = list(range(6, 29))\n",
    "\n",
    "\n",
    "tableCDP_GRI = ExtractPDFTables(pdf_path, page_range)\n",
    "df = tableCDP_GRI.getTablesCDP_GRI()\n",
    "\n",
    "\n"
   ]
  },
  {
   "cell_type": "markdown",
   "id": "c0e4b1d6-290f-489c-a2c7-582b5c57e18b",
   "metadata": {},
   "source": [
    "## Mapping CDP Water 2018 on GRI 2016 sheet"
   ]
  },
  {
   "cell_type": "code",
   "execution_count": null,
   "id": "ee713ca6-17b9-4c0e-b0d7-31c9d037efae",
   "metadata": {},
   "outputs": [],
   "source": [
    "path_file = 'ESG-Frameworks/Outputs/testing.xlsx'\n",
    "sheet = 'GRI 2016'\n",
    "\n",
    "mapp = MapLinks2Excel(df, sheet, path_file)\n",
    "mapp.mapCDP18_GRI()\n"
   ]
  },
  {
   "cell_type": "markdown",
   "id": "2ce9d9c7-58e3-4972-817d-cb33d60b1701",
   "metadata": {
    "tags": []
   },
   "source": [
    "## Mapping GRI 2016 ON CDP Water 2018 sheet"
   ]
  },
  {
   "cell_type": "code",
   "execution_count": null,
   "id": "21f06096-b22e-4e81-a066-505fb2d1aa78",
   "metadata": {},
   "outputs": [],
   "source": [
    "path_file = 'ESG-Frameworks/Outputs/testing.xlsx'\n",
    "sheet = 'CDP WATER 2018'\n",
    "\n",
    "mapp = MapLinks2Excel(df, sheet, path_file)\n",
    "mapp.mapGRI_CDP18()\n"
   ]
  },
  {
   "cell_type": "code",
   "execution_count": null,
   "id": "0d5245e4-1c76-45da-aa65-b30ff34d878e",
   "metadata": {},
   "outputs": [],
   "source": [
    "df['GRI Disclosures'].str.extract(r'(?m)(?:\\r\\n?|^)\\d\\d\\d-\\d\\d:\\s*(.*\\S)\\s*$')"
   ]
  },
  {
   "cell_type": "markdown",
   "id": "991b3503-9792-4ed4-bcdc-128c624f49b0",
   "metadata": {
    "jp-MarkdownHeadingCollapsed": true,
    "tags": []
   },
   "source": [
    "# **8. Table Extraction and Mapping (EV 2022)"
   ]
  },
  {
   "cell_type": "code",
   "execution_count": null,
   "id": "e9b02f59-9287-47c6-8eda-6ddc44d20105",
   "metadata": {},
   "outputs": [],
   "source": [
    "pdf_path = 'ESG-Frameworks/Mapping-Standards/Financial Reporting Framework/ev22.pdf'\n",
    "page_range = [39, 53]\n",
    "# page_range = list(range(39, 53))\n",
    "tables = camelot.read_pdf(pdf_path, \n",
    "\t\t\t\t\t\t\t\t  pages=f'{page_range[0]}-{page_range[1]}'\n",
    ")\n",
    "\n"
   ]
  },
  {
   "cell_type": "code",
   "execution_count": null,
   "id": "8da12114-3cc1-4066-a635-ae5041a488fc",
   "metadata": {},
   "outputs": [],
   "source": [
    "pdf_path = 'ESG-Frameworks/Mapping-Standards/Financial Reporting Framework/Reporting-on-enterprise-value_climate-prototype_Dec20.pdf'\n",
    "# page_range = list(range(39, 53))\n",
    "page_range = [39, 53]\n",
    "\n",
    "\n",
    "tableFinancialReports = ExtractPDFTables(pdf_path, page_range)\n",
    "df = tableFinancialReports.getTablesEV22()\n",
    "\n",
    "\n",
    "\n"
   ]
  },
  {
   "cell_type": "code",
   "execution_count": null,
   "id": "53cd7f2c-fc95-4cae-9b46-55f8b2a00f45",
   "metadata": {},
   "outputs": [],
   "source": [
    "df.to_csv('ss.csv')"
   ]
  },
  {
   "cell_type": "code",
   "execution_count": null,
   "id": "ae4881f3-3583-4fe4-90ed-e72e7ebac924",
   "metadata": {},
   "outputs": [],
   "source": []
  },
  {
   "cell_type": "code",
   "execution_count": null,
   "id": "680cddfb-058b-4671-868f-4174675b10df",
   "metadata": {},
   "outputs": [],
   "source": []
  },
  {
   "cell_type": "markdown",
   "id": "d06de4b6-a101-4e48-bf77-397f40b6206b",
   "metadata": {
    "jp-MarkdownHeadingCollapsed": true,
    "tags": []
   },
   "source": [
    "# 9. Table Extraction and Mapping CDP CC - TCFD\n",
    "\n",
    "Note: CC means climate change"
   ]
  },
  {
   "cell_type": "code",
   "execution_count": null,
   "id": "f55f1675-e871-46c4-bbed-df1c2bead7eb",
   "metadata": {},
   "outputs": [],
   "source": [
    "pdf_path = 'ESG-Frameworks/Mapping-Standards/CDP - TCFD/CDP-TCFD-technical-note.pdf'\n",
    "page_range = [17, 22]\n",
    "\n",
    "\n",
    "tableCDP_TCFD = ExtractPDFTables(pdf_path, page_range)\n",
    "df = tableCDP_TCFD.getTablesCDP_TCFD()\n",
    "\n",
    "\n"
   ]
  },
  {
   "cell_type": "code",
   "execution_count": null,
   "id": "2ff9a8ab-1e38-4883-80b2-4665952c190f",
   "metadata": {},
   "outputs": [],
   "source": []
  },
  {
   "cell_type": "code",
   "execution_count": null,
   "id": "bc78875a-4832-4607-9d57-50c846441a2f",
   "metadata": {},
   "outputs": [],
   "source": [
    "path_file = 'ESG-Frameworks/Outputs/testing.xlsx'\n",
    "sheet = 'CDP CC 20XX - TDFD'\n",
    "\n",
    "mapp = MapLinks2Excel(df, sheet, path_file)\n",
    "mapp.mapCDP_TCFD()\n"
   ]
  },
  {
   "cell_type": "markdown",
   "id": "189e9668-a013-4ef4-abfe-86beac69ca16",
   "metadata": {
    "jp-MarkdownHeadingCollapsed": true,
    "tags": []
   },
   "source": [
    "# 10. Table Extraction and Mapping GRI - GRI Oil and Gas"
   ]
  },
  {
   "cell_type": "code",
   "execution_count": null,
   "id": "8044407f-f0c2-49e4-ada4-eadb58db8a43",
   "metadata": {},
   "outputs": [],
   "source": [
    "pdf_path = 'ESG-Frameworks/Mapping-Standards/GRI Oil and Gas 2021/GRI to GRI Oil and Gas.pdf'\n",
    "page_range = list(range(4, 18))\n",
    "\n",
    "\n",
    "tableFinancialReports = ExtractPDFTables(pdf_path, page_range)\n",
    "df = tableFinancialReports.getTablesGRI_GRI_OILGAS_OR_COAL()"
   ]
  },
  {
   "cell_type": "markdown",
   "id": "610a4af2-ba86-4c7a-9857-c4e3c421c802",
   "metadata": {},
   "source": [
    "## Mapping GRI 2016 - GRI Oil & Gas"
   ]
  },
  {
   "cell_type": "code",
   "execution_count": null,
   "id": "a35dbce1-cca2-43d6-96e0-1e787f069d2b",
   "metadata": {},
   "outputs": [],
   "source": [
    "df = pd.read_csv('GRI-GRI-OIL&GAS_2016.csv')\n",
    "df = df.drop('Unnamed: 0', axis=1)\n",
    "\n",
    "path_file = 'ESG-Frameworks/Outputs/testing.xlsx'\n",
    "sheet = 'GRI 2016'\n",
    "\n",
    "mapp = MapLinks2Excel(df, sheet, path_file)\n",
    "mapp.GRI_GRI_OIL_GAS_COAL()"
   ]
  },
  {
   "cell_type": "markdown",
   "id": "5fa9b94c-004d-437b-9f87-9ad9c5436bfa",
   "metadata": {},
   "source": [
    "## Mapping GRI 2021 - GRI Oil & Gas"
   ]
  },
  {
   "cell_type": "code",
   "execution_count": null,
   "id": "0bdad445-23ce-4a7c-8cf2-aaef8f2a3e51",
   "metadata": {},
   "outputs": [],
   "source": [
    "df = pd.read_csv('GRI-GRI-OIL&GAS_2021.csv')\n",
    "df = df.drop('Unnamed: 0', axis=1)\n",
    "\n",
    "path_file = 'ESG-Frameworks/Outputs/testing.xlsx'\n",
    "sheet = 'GRI 2021'\n",
    "\n",
    "mapp = MapLinks2Excel(df, sheet, path_file)\n",
    "mapp.GRI_GRI_OIL_GAS_COAL()"
   ]
  },
  {
   "cell_type": "markdown",
   "id": "0430249a-e077-4a7f-b3f9-98c094386015",
   "metadata": {
    "jp-MarkdownHeadingCollapsed": true,
    "tags": []
   },
   "source": [
    "# 11. Table Extraction and Mapping GRI Coal 2022 - GRI"
   ]
  },
  {
   "cell_type": "code",
   "execution_count": null,
   "id": "d0b4d1f0-e0db-49fd-bd1f-67bc0f34c650",
   "metadata": {},
   "outputs": [],
   "source": [
    "pdf_path = 'ESG-Frameworks/Mapping-Standards/GRI Coal 2022 - GRI/GRI to GRI Coal 2022.pdf'\n",
    "page_range = list(range(2, 16))\n",
    "\n",
    "\n",
    "tableFinancialReports = ExtractPDFTables(pdf_path, page_range)\n",
    "df = tableFinancialReports.getTablesGRI_GRI_OILGAS_OR_COAL()"
   ]
  },
  {
   "cell_type": "markdown",
   "id": "f2e96b1f-c454-4ea3-bbc6-b7a900d0522c",
   "metadata": {},
   "source": [
    "## Mapping GRI 2016 - GRI Coal"
   ]
  },
  {
   "cell_type": "code",
   "execution_count": null,
   "id": "e0e480cf-bd59-41e2-be26-1ec1d39afad7",
   "metadata": {},
   "outputs": [],
   "source": [
    "path_file = 'ESG-Frameworks/Outputs/testing.xlsx'\n",
    "sheet = 'GRI 2016'\n",
    "\n",
    "mapp = MapLinks2Excel(df, sheet, path_file)\n",
    "mapp.GRI_GRI_OIL_GAS_COAL()"
   ]
  },
  {
   "cell_type": "markdown",
   "id": "cf175ec2-2ee4-4c26-9d77-10efd6cf3bf0",
   "metadata": {},
   "source": [
    "## Mapping GRI 2021 - GRI Coal"
   ]
  },
  {
   "cell_type": "code",
   "execution_count": null,
   "id": "64b7f082-af70-4cdf-877b-b61c4690650e",
   "metadata": {},
   "outputs": [],
   "source": [
    "path_file = 'ESG-Frameworks/Outputs/testing.xlsx'\n",
    "sheet = 'GRI 2021'\n",
    "\n",
    "mapp = MapLinks2Excel(df, sheet, path_file)\n",
    "mapp.GRI_GRI_OIL_GAS_COAL()"
   ]
  },
  {
   "cell_type": "markdown",
   "id": "7dd3d9bc-328c-4ed1-b139-41488eeafee2",
   "metadata": {
    "tags": []
   },
   "source": [
    "# 12. Table Extraction and Mapping GRI HKEX 22"
   ]
  },
  {
   "cell_type": "code",
   "execution_count": 4,
   "id": "2dd13d14-d033-4b8b-aeaa-4a855a215308",
   "metadata": {},
   "outputs": [
    {
     "name": "stdin",
     "output_type": "stream",
     "text": [
      "Are you going to map GRI 2016 sheet? yes or no: no\n"
     ]
    }
   ],
   "source": [
    "pdf_path = 'ESG-Frameworks/Mapping-Standards/GRI - HKEX 2020/gri-standardslinkage-hkex-2020.pdf'\n",
    "page_range = list(range(5, 9))\n",
    "\n",
    "\n",
    "tableFinancialReports = ExtractPDFTables(pdf_path, page_range)\n",
    "df = tableFinancialReports.getTablesGRI_HKEX20()"
   ]
  },
  {
   "cell_type": "code",
   "execution_count": 5,
   "id": "ff1bfc14-d91b-4032-8fb2-933d912dba5e",
   "metadata": {},
   "outputs": [
    {
     "data": {
      "text/html": [
       "<div>\n",
       "<style scoped>\n",
       "    .dataframe tbody tr th:only-of-type {\n",
       "        vertical-align: middle;\n",
       "    }\n",
       "\n",
       "    .dataframe tbody tr th {\n",
       "        vertical-align: top;\n",
       "    }\n",
       "\n",
       "    .dataframe thead th {\n",
       "        text-align: right;\n",
       "    }\n",
       "</style>\n",
       "<table border=\"1\" class=\"dataframe\">\n",
       "  <thead>\n",
       "    <tr style=\"text-align: right;\">\n",
       "      <th></th>\n",
       "      <th>HKEX ESG Reporting Guide</th>\n",
       "      <th>GRI Standards and Disclosures</th>\n",
       "      <th>GRI_Code</th>\n",
       "    </tr>\n",
       "  </thead>\n",
       "  <tbody>\n",
       "    <tr>\n",
       "      <th>1</th>\n",
       "      <td>Overall Approach: para 7</td>\n",
       "      <td>GRI 101: Foundation: \\n•  Clause 1.1 (Stakehol...</td>\n",
       "      <td>102-40\\n102-42\\n102-43\\n102-44</td>\n",
       "    </tr>\n",
       "    <tr>\n",
       "      <th>2</th>\n",
       "      <td>Overall Approach: para 8</td>\n",
       "      <td>GRI 101: Foundation: \\n•  Clause 2.3.1 (Identi...</td>\n",
       "      <td></td>\n",
       "    </tr>\n",
       "    <tr>\n",
       "      <th>3</th>\n",
       "      <td>Overall Approach: para 9</td>\n",
       "      <td>GRI 102: General Disclosures: Disclosure 102-56</td>\n",
       "      <td>102-56</td>\n",
       "    </tr>\n",
       "    <tr>\n",
       "      <th>4</th>\n",
       "      <td>Overall Approach: para 10</td>\n",
       "      <td>GRI 102: General Disclosures: Disclosures 102-...</td>\n",
       "      <td>102-26\\n102-32</td>\n",
       "    </tr>\n",
       "    <tr>\n",
       "      <th>5</th>\n",
       "      <td>Reporting Principles: para 11</td>\n",
       "      <td>GRI 101: Foundation: \\n•  Clause 1.3 (Material...</td>\n",
       "      <td></td>\n",
       "    </tr>\n",
       "    <tr>\n",
       "      <th>6</th>\n",
       "      <td>Part B: Mandatory Disclosure \\nRequirements</td>\n",
       "      <td></td>\n",
       "      <td></td>\n",
       "    </tr>\n",
       "    <tr>\n",
       "      <th>7</th>\n",
       "      <td>Governance structure 13</td>\n",
       "      <td>GRI 102: General Disclosures: Disclosures 102-...</td>\n",
       "      <td>102-14\\n102-15\\n102-29\\n102-30\\n102-31\\n103-1\\...</td>\n",
       "    </tr>\n",
       "    <tr>\n",
       "      <th>8</th>\n",
       "      <td>Reporting Principles 14</td>\n",
       "      <td>GRI 102: General Disclosures: Disclosure 102-4...</td>\n",
       "      <td>102-40\\n102-42\\n102-43\\n102-44\\n102-47</td>\n",
       "    </tr>\n",
       "    <tr>\n",
       "      <th>1</th>\n",
       "      <td>Reporting Boundary 15</td>\n",
       "      <td>GRI 102: General Disclosures: Disclosure 102-4...</td>\n",
       "      <td>102-45\\n102-49</td>\n",
       "    </tr>\n",
       "    <tr>\n",
       "      <th>2</th>\n",
       "      <td>Part C: “Comply or explain” \\nProvisions</td>\n",
       "      <td></td>\n",
       "      <td></td>\n",
       "    </tr>\n",
       "  </tbody>\n",
       "</table>\n",
       "</div>"
      ],
      "text/plain": [
       "0                     HKEX ESG Reporting Guide  \\\n",
       "1                     Overall Approach: para 7   \n",
       "2                     Overall Approach: para 8   \n",
       "3                     Overall Approach: para 9   \n",
       "4                    Overall Approach: para 10   \n",
       "5                Reporting Principles: para 11   \n",
       "6  Part B: Mandatory Disclosure \\nRequirements   \n",
       "7                      Governance structure 13   \n",
       "8                      Reporting Principles 14   \n",
       "1                        Reporting Boundary 15   \n",
       "2     Part C: “Comply or explain” \\nProvisions   \n",
       "\n",
       "0                      GRI Standards and Disclosures  \\\n",
       "1  GRI 101: Foundation: \\n•  Clause 1.1 (Stakehol...   \n",
       "2  GRI 101: Foundation: \\n•  Clause 2.3.1 (Identi...   \n",
       "3    GRI 102: General Disclosures: Disclosure 102-56   \n",
       "4  GRI 102: General Disclosures: Disclosures 102-...   \n",
       "5  GRI 101: Foundation: \\n•  Clause 1.3 (Material...   \n",
       "6                                                      \n",
       "7  GRI 102: General Disclosures: Disclosures 102-...   \n",
       "8  GRI 102: General Disclosures: Disclosure 102-4...   \n",
       "1  GRI 102: General Disclosures: Disclosure 102-4...   \n",
       "2                                                      \n",
       "\n",
       "0                                           GRI_Code  \n",
       "1                     102-40\\n102-42\\n102-43\\n102-44  \n",
       "2                                                     \n",
       "3                                             102-56  \n",
       "4                                     102-26\\n102-32  \n",
       "5                                                     \n",
       "6                                                     \n",
       "7  102-14\\n102-15\\n102-29\\n102-30\\n102-31\\n103-1\\...  \n",
       "8             102-40\\n102-42\\n102-43\\n102-44\\n102-47  \n",
       "1                                     102-45\\n102-49  \n",
       "2                                                     "
      ]
     },
     "execution_count": 5,
     "metadata": {},
     "output_type": "execute_result"
    }
   ],
   "source": [
    "df.head(10)"
   ]
  },
  {
   "cell_type": "code",
   "execution_count": null,
   "id": "6af2de51-661f-47b2-82d3-d4e394f37d88",
   "metadata": {},
   "outputs": [],
   "source": []
  },
  {
   "cell_type": "code",
   "execution_count": null,
   "id": "57df73f6-42d9-4090-b234-3e551adee0f3",
   "metadata": {},
   "outputs": [],
   "source": []
  },
  {
   "cell_type": "code",
   "execution_count": null,
   "id": "36580ec7-bc42-4280-82c3-267e47320ecd",
   "metadata": {},
   "outputs": [],
   "source": []
  },
  {
   "cell_type": "code",
   "execution_count": null,
   "id": "6a2dd740-7aab-402b-9869-e8928c2e0c16",
   "metadata": {},
   "outputs": [],
   "source": []
  },
  {
   "cell_type": "code",
   "execution_count": null,
   "id": "d68ce1d4-3c2b-4b2d-9689-8809469fa543",
   "metadata": {},
   "outputs": [],
   "source": []
  },
  {
   "cell_type": "code",
   "execution_count": null,
   "id": "24beef3f-6ee3-4b81-8168-327881ca1ed4",
   "metadata": {},
   "outputs": [],
   "source": []
  },
  {
   "cell_type": "code",
   "execution_count": null,
   "id": "01c54cff-78f2-46b6-a1e1-3419f672186a",
   "metadata": {},
   "outputs": [],
   "source": []
  },
  {
   "cell_type": "code",
   "execution_count": null,
   "id": "76e10e36-cf82-4c1a-95dc-66d8a7e7ba55",
   "metadata": {},
   "outputs": [],
   "source": []
  },
  {
   "cell_type": "markdown",
   "id": "908940eb-8281-4f7d-a003-6357427b81a8",
   "metadata": {},
   "source": [
    "## Mapping GRI 2016 - HKEX 22"
   ]
  },
  {
   "cell_type": "code",
   "execution_count": null,
   "id": "35d3c365-c11d-4c5d-8dac-a6dbae252bd6",
   "metadata": {},
   "outputs": [],
   "source": [
    "path_file = 'ESG-Frameworks/Outputs/testing.xlsx'\n",
    "sheet = 'GRI 2016'\n",
    "\n",
    "mapp = MapLinks2Excel(df, sheet, path_file)\n",
    "mapp.mapGRI_HKEX22()"
   ]
  },
  {
   "cell_type": "markdown",
   "id": "1d3f9ee7-f31e-4284-8f8d-2477bd6f0815",
   "metadata": {},
   "source": [
    "## Mapping HKEX22 - GRI 2016"
   ]
  },
  {
   "cell_type": "code",
   "execution_count": null,
   "id": "97034fe0-d845-4dc9-83a5-aa4a2d2189e5",
   "metadata": {},
   "outputs": [],
   "source": [
    "path_file = 'ESG-Frameworks/Outputs/testing.xlsx'\n",
    "sheet = 'HKEX22'\n",
    "\n",
    "mapp = MapLinks2Excel(df, sheet, path_file)\n",
    "mapp.mapHKEX22_GRI()"
   ]
  },
  {
   "cell_type": "markdown",
   "id": "46dcbc8e-9daf-40ef-a07c-a47107d381f9",
   "metadata": {},
   "source": [
    "# 13. Table Extraction and Mapping"
   ]
  },
  {
   "cell_type": "code",
   "execution_count": null,
   "id": "a3653735-385b-46d3-972c-355be5898bcd",
   "metadata": {},
   "outputs": [],
   "source": []
  }
 ],
 "metadata": {
  "kernelspec": {
   "display_name": "ESG-Mapping",
   "language": "python",
   "name": "esg-mapping"
  },
  "language_info": {
   "codemirror_mode": {
    "name": "ipython",
    "version": 3
   },
   "file_extension": ".py",
   "mimetype": "text/x-python",
   "name": "python",
   "nbconvert_exporter": "python",
   "pygments_lexer": "ipython3",
   "version": "3.9.6"
  }
 },
 "nbformat": 4,
 "nbformat_minor": 5
}
