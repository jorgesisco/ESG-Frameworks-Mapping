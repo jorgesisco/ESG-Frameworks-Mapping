{
 "cells": [
  {
   "cell_type": "code",
   "execution_count": 1,
   "id": "59882720-17b6-4466-84a8-be4688c70633",
   "metadata": {},
   "outputs": [],
   "source": [
    "import pandas as pd\n",
    "import numpy as np\n",
    "import re\n",
    "\n",
    "from tabula import read_pdf\n",
    "from tabulate import tabulate\n",
    "import pdfplumber\n",
    "import openpyxl\n",
    "\n",
    "from Script import ExtractPDFTables, MapLinks2Excel"
   ]
  },
  {
   "cell_type": "markdown",
   "id": "20def67c-69c4-4e66-8379-e9b460d651ab",
   "metadata": {
    "jp-MarkdownHeadingCollapsed": true,
    "tags": []
   },
   "source": [
    "# Table Extraction and Mapping (SGD-GRI Link)"
   ]
  },
  {
   "cell_type": "code",
   "execution_count": null,
   "id": "d47e7196-e6d5-4f4d-ba51-1b2f668211c7",
   "metadata": {},
   "outputs": [],
   "source": [
    "pdf_path = 'ESG-Frameworks/Mapping-Standards/SDG-GRI/sdg-gri.pdf'\n",
    "page_range = [list(range(3, 73)), list(range(74, 99))]\n",
    "area = [80.51, 90.42, 561.96, 814.18]\n",
    "\n",
    "tableTCFD_GRI = ExtractPDFTables(pdf_path, page_range, area)\n",
    "df = tableTCFD_GRI.getTablesSDG_GRI()"
   ]
  },
  {
   "cell_type": "markdown",
   "id": "078fde49-d6ba-4743-9ff5-1b4a42e69214",
   "metadata": {
    "tags": []
   },
   "source": [
    "## Mapping Collected Dataframe (SDG-GRI)"
   ]
  },
  {
   "cell_type": "code",
   "execution_count": null,
   "id": "1c967a7e-e7c5-4884-ba83-abc09558ea11",
   "metadata": {},
   "outputs": [],
   "source": [
    "excelFilePath = 'ESG-Frameworks/Outputs/testing.xlsx'\n",
    "sheet = \"SDG's\"\n",
    "\n",
    "mapp = MapLinks2Excel(df, sheet, excelFilePath)\n",
    "mapp.MapSDG_GRI()"
   ]
  },
  {
   "cell_type": "markdown",
   "id": "b80f2f59-c77b-43b9-b751-79939c674e27",
   "metadata": {
    "tags": []
   },
   "source": [
    "## Mapping Collected Dataframe (GRI-SDG)"
   ]
  },
  {
   "cell_type": "code",
   "execution_count": null,
   "id": "f823e872-612b-4cd8-85c2-05006fba3b29",
   "metadata": {},
   "outputs": [],
   "source": [
    "excelFilePath = 'ESG-Frameworks/Outputs/testing.xlsx'\n",
    "sheet = \"GRI 2016\"\n",
    "\n",
    "mapp = MapLinks2Excel(df, sheet, excelFilePath)\n",
    "mapp.MapGRI_SDG()"
   ]
  },
  {
   "cell_type": "markdown",
   "id": "ae114af1-8f87-497e-a767-ea0743a443bd",
   "metadata": {
    "jp-MarkdownHeadingCollapsed": true,
    "tags": []
   },
   "source": [
    "# Table Extraction and Mapping (COH4B-GRI Link)"
   ]
  },
  {
   "cell_type": "code",
   "execution_count": null,
   "id": "7f631077-11a1-49a1-ac29-8cec801fc1ed",
   "metadata": {},
   "outputs": [],
   "source": [
    "pdf_path = 'ESG-Frameworks/Mapping-Standards/GRI-COH4B/gri-coh4b.pdf'\n",
    "page_range = list(range(13, 22))\n",
    "\n",
    "\n",
    "tableGRI_COH4B = ExtractPDFTables(pdf_path, page_range)\n",
    "df = tableGRI_COH4B.getTablesGRI_COH4B()\n",
    "df = tableGRI_COH4B.setHeaders(df, 0)\n",
    "df = tableGRI_COH4B.headerSwap(df, 'A. COHBP & \\ndefinition', None, 'id')\n",
    "df = tableGRI_COH4B.addDot(df, 'id')\n",
    "\n",
    "df = tableGRI_COH4B.extractDisclosures(df, 'D. GRI disclosures', 'GRI Standards', r'[0-9]{3}-[0-9]{2}|[0-9]{3}-[0-9]{1}', re.search)\n",
    "\n"
   ]
  },
  {
   "cell_type": "markdown",
   "id": "581c6779-e60c-4c9e-a9dc-ae2081afb4e8",
   "metadata": {
    "tags": []
   },
   "source": [
    "## Mapping Collected Dataframe (COH4B-GRI)"
   ]
  },
  {
   "cell_type": "code",
   "execution_count": null,
   "id": "355c8504-d724-4705-b058-09f797f9db5f",
   "metadata": {},
   "outputs": [],
   "source": [
    "excelFilePath = 'ESG-Frameworks/Outputs/testing.xlsx'\n",
    "sheet = \"COH4B\"\n",
    "\n",
    "mapp = MapLinks2Excel(df, sheet, excelFilePath)\n",
    "mapp.MapCOH4B_GRI()"
   ]
  },
  {
   "cell_type": "markdown",
   "id": "b5822347-442f-4954-b4ed-8cb8c856fbc5",
   "metadata": {
    "tags": []
   },
   "source": [
    "## Mapping Collected Dataframe (GRI-COHB4)"
   ]
  },
  {
   "cell_type": "code",
   "execution_count": null,
   "id": "94e95589-6170-4589-b428-6b56c9863d35",
   "metadata": {},
   "outputs": [],
   "source": [
    "excelFilePath = 'ESG-Frameworks/Outputs/testing.xlsx'\n",
    "sheet = \"GRI 2016\"\n",
    "\n",
    "mapp = MapLinks2Excel(df, sheet, excelFilePath)\n",
    "mapp.MapGRI_COH4B()"
   ]
  },
  {
   "cell_type": "markdown",
   "id": "fd8b964f-8ed9-4f84-8b60-4b3c5b87d0c8",
   "metadata": {
    "tags": []
   },
   "source": [
    "# Table Extraction and Mapping (TCFD-GRI Link)"
   ]
  },
  {
   "cell_type": "code",
   "execution_count": 35,
   "id": "7e0c505a-746e-475e-bd43-03a6d61f0b1c",
   "metadata": {},
   "outputs": [],
   "source": [
    "pdf_path = 'ESG-Frameworks/Mapping-Standards/TCFD-GRI/TCFD to GRI-2.pdf'\n",
    "page_range = list(range(49, 59))\n",
    "\n",
    "\n",
    "tableTCFD_GRI = ExtractPDFTables(pdf_path, page_range)\n",
    "df = tableTCFD_GRI.getTablesTCFD_GRI()\n",
    "df = tableTCFD_GRI.extractDisclosures2(df, 'Related \\ncode/\\nparagraph', 'GRI Standards', r'[0-9]{3}-[0-9]{2}|[0-9]{3}-[0-9]{1}', re.findall)\n",
    "df = tableTCFD_GRI.extractDisclosures2(df, 'Recommended \\nDisclosures \\n(TCFD Framework)', 'id', r'[a-zA-Z]\\.', re.findall)\n",
    "\n",
    "\n"
   ]
  },
  {
   "cell_type": "code",
   "execution_count": 15,
   "id": "d8d56d6f-5a28-408c-8770-d53136ddeb1c",
   "metadata": {},
   "outputs": [
    {
     "name": "stdout",
     "output_type": "stream",
     "text": [
      "<re.Match object; span=(14, 16), match='a)'>\n"
     ]
    }
   ],
   "source": [
    "a  = 'dsfds dfgdfsg a)' \n",
    "\n",
    "\n",
    "match = re.search(r'[a-zA-Z]+\\)', a)\n",
    "\n",
    "print(match)\n"
   ]
  },
  {
   "cell_type": "code",
   "execution_count": 139,
   "id": "a25bf046-7e21-4c9d-af97-0d909f59117d",
   "metadata": {},
   "outputs": [
    {
     "name": "stdout",
     "output_type": "stream",
     "text": [
      "No value :(\n",
      "102-14 102-15 201-2\n",
      "102-15 102-29 103-2 201-2\n",
      "102-30\n",
      "lan\n",
      "lan\n",
      "lan\n",
      "lan\n",
      "lan\n",
      "lan\n",
      "lan\n",
      "lan\n"
     ]
    }
   ],
   "source": [
    "excelFilePath = 'ESG-Frameworks/Outputs/testing.xlsx'\n",
    "sheet = \"TCFD\"\n",
    "\n",
    "regex = r'[a-zA-Z]+\\)'\n",
    "\n",
    "wb = openpyxl.load_workbook(excelFilePath)\n",
    "ws = wb[sheet]\n",
    "rows = ws.max_row\n",
    "\n",
    "count = -1\n",
    "for i in range(1, rows):\n",
    "    if ws.cell(row=i, column=2).value == None:\n",
    "        pass\n",
    "    \n",
    "    else:\n",
    "        target_cell = ws.cell(row=i, column=2).value\n",
    "        \n",
    "        \n",
    "\n",
    "        \n",
    "        if(re.search(regex, target_cell)):\n",
    "            \n",
    "            target = re.search(regex, target_cell).group()\n",
    "            target = re.sub('\\)', '.', target)\n",
    "         \n",
    "            # print(target)\n",
    "     \n",
    "            \n",
    "        if df['id'].values[count] == target:\n",
    "            count+=1\n",
    "            \n",
    "            \n",
    "              \n",
    "            try:\n",
    "\n",
    "                value_to_add = df.loc[df['id'] == target]['GRI Standards'].values[count]\n",
    "                print(value_to_add)\n",
    "                # count += 1\n",
    "\n",
    "\n",
    "\n",
    "\n",
    "                # ws.cell(row=i, column=6, value=value_to_add[0])\n",
    "\n",
    "            except:\n",
    "                print('lan')\n",
    "                pass\n",
    "            \n",
    "            \n",
    "\n",
    "# wb.save(self.path_file)"
   ]
  },
  {
   "cell_type": "code",
   "execution_count": 117,
   "id": "80e8963f-4dc9-40a7-8f12-1759ff250255",
   "metadata": {},
   "outputs": [
    {
     "data": {
      "text/plain": [
       "'a.'"
      ]
     },
     "execution_count": 117,
     "metadata": {},
     "output_type": "execute_result"
    }
   ],
   "source": []
  },
  {
   "cell_type": "code",
   "execution_count": 127,
   "id": "d2e381d3-3484-41d9-a20c-76d0ffec6151",
   "metadata": {},
   "outputs": [
    {
     "data": {
      "text/html": [
       "<div>\n",
       "<style scoped>\n",
       "    .dataframe tbody tr th:only-of-type {\n",
       "        vertical-align: middle;\n",
       "    }\n",
       "\n",
       "    .dataframe tbody tr th {\n",
       "        vertical-align: top;\n",
       "    }\n",
       "\n",
       "    .dataframe thead th {\n",
       "        text-align: right;\n",
       "    }\n",
       "</style>\n",
       "<table border=\"1\" class=\"dataframe\">\n",
       "  <thead>\n",
       "    <tr style=\"text-align: right;\">\n",
       "      <th></th>\n",
       "      <th>Recommended \\nDisclosures \\n(TCFD Framework)</th>\n",
       "      <th>Related \\ncode/\\nparagraph</th>\n",
       "      <th>Description</th>\n",
       "      <th>Omissions and/or content difference(s)</th>\n",
       "      <th>Level of \\nalignment</th>\n",
       "      <th>GRI Standards</th>\n",
       "      <th>id</th>\n",
       "    </tr>\n",
       "  </thead>\n",
       "  <tbody>\n",
       "    <tr>\n",
       "      <th>0</th>\n",
       "      <td>Governance a.  Describe the  board’s oversight...</td>\n",
       "      <td>GRI 102-18   GRI 102-19   GRI 102-20   GRI 102...</td>\n",
       "      <td>Disclosure 102-18 – Governance structure\\na. G...</td>\n",
       "      <td>Omissions\\nNone.\\nContent difference(s)\\nGRI S...</td>\n",
       "      <td>Reasonable</td>\n",
       "      <td>102-18 102-19 102-20 102-26 102-27 102-29 102-...</td>\n",
       "      <td>a.</td>\n",
       "    </tr>\n",
       "    <tr>\n",
       "      <th>0</th>\n",
       "      <td>Governance b. Describe  management’s  role in ...</td>\n",
       "      <td>GRI 102-20 GRI 102-29 GRI 102-31 GRI 102-32 GR...</td>\n",
       "      <td>Disclosure 102-20 – Executive-level responsibi...</td>\n",
       "      <td>Omissions\\nNone.\\nContent difference(s)\\nGRI S...</td>\n",
       "      <td>Reasonable</td>\n",
       "      <td>102-20 102-29 102-31 102-32 103-2 201-2</td>\n",
       "      <td>b.</td>\n",
       "    </tr>\n",
       "    <tr>\n",
       "      <th>0</th>\n",
       "      <td>Strategy a.  Describe the  climate-related ris...</td>\n",
       "      <td>GRI 102-14 GRI 102-15 GRI 103  with  GRI 201-2</td>\n",
       "      <td>Disclosure 102-14 – Statement from senior deci...</td>\n",
       "      <td>Omissions\\nNone.\\nContent difference(s) \\nGRI ...</td>\n",
       "      <td>Reasonable</td>\n",
       "      <td>102-14 102-15 201-2</td>\n",
       "      <td>a.</td>\n",
       "    </tr>\n",
       "    <tr>\n",
       "      <th>0</th>\n",
       "      <td>Strategy b. Describe the impact  of climate-re...</td>\n",
       "      <td>GRI 102-15 GRI 103 with GRI 201-2</td>\n",
       "      <td>Disclosure 102-15 – Key impacts, risks, and op...</td>\n",
       "      <td>Omissions\\nNone.\\nContent difference(s)\\nGRI S...</td>\n",
       "      <td>Reasonable</td>\n",
       "      <td>102-15</td>\n",
       "      <td>b.</td>\n",
       "    </tr>\n",
       "    <tr>\n",
       "      <th>1</th>\n",
       "      <td>Strategy c.  Describe the  resilience of the  ...</td>\n",
       "      <td></td>\n",
       "      <td></td>\n",
       "      <td>Omissions\\nScenario analysis and resilience co...</td>\n",
       "      <td>None</td>\n",
       "      <td>No value :(</td>\n",
       "      <td>c.</td>\n",
       "    </tr>\n",
       "    <tr>\n",
       "      <th>0</th>\n",
       "      <td>Risk Management a.  Describe the  organisation...</td>\n",
       "      <td>GRI 102-15 GRI 102-29 GRI 102-30 GRI 102-31 GR...</td>\n",
       "      <td>Disclosure 102-15 – Key impacts, risks, and op...</td>\n",
       "      <td>Omissions\\nNone.\\nContent difference(s)\\nGRI S...</td>\n",
       "      <td>Reasonable</td>\n",
       "      <td>102-15 102-29 102-30 102-31 103-1 103-2 201-2</td>\n",
       "      <td>a.</td>\n",
       "    </tr>\n",
       "    <tr>\n",
       "      <th>0</th>\n",
       "      <td>Risk Management b. Describe the  organisation’...</td>\n",
       "      <td>GRI 102-15 GRI 102-29 GRI 103-2  with   GRI 20...</td>\n",
       "      <td>Disclosure 102-15 – Key impacts, risks, and op...</td>\n",
       "      <td>Omissions\\nNone.\\nContent difference(s)\\nGRI S...</td>\n",
       "      <td>Reasonable</td>\n",
       "      <td>102-15 102-29 103-2 201-2</td>\n",
       "      <td>b.</td>\n",
       "    </tr>\n",
       "    <tr>\n",
       "      <th>0</th>\n",
       "      <td>Risk Management c.  Describe how  processes fo...</td>\n",
       "      <td>GRI 102-15 GRI 103  with  GRI 201-2  and   GRI...</td>\n",
       "      <td>Disclosure 102-15 – Key impacts, risks, and op...</td>\n",
       "      <td>Omissions\\nNone.\\nContent difference(s) \\nGRI ...</td>\n",
       "      <td>Moderate</td>\n",
       "      <td>102-15</td>\n",
       "      <td>c.</td>\n",
       "    </tr>\n",
       "    <tr>\n",
       "      <th>0</th>\n",
       "      <td>Metrics and Targets a.  Describe the  metrics ...</td>\n",
       "      <td>GRI 102-30 GRI 103  with   GRI 201-2 GRI 302 G...</td>\n",
       "      <td>Disclosure 102-30 – Effectiveness of risk mana...</td>\n",
       "      <td>Omissions\\nThe GRI Standards do not have speci...</td>\n",
       "      <td>Reasonable</td>\n",
       "      <td>102-30</td>\n",
       "      <td>a.</td>\n",
       "    </tr>\n",
       "    <tr>\n",
       "      <th>0</th>\n",
       "      <td>Metrics and Targets b. Disclose  Scope 1, Scop...</td>\n",
       "      <td>GRI 103  with  GRI 305 GRI 103  with  GRI 201-2</td>\n",
       "      <td>GRI 103: Management Approach used with GRI 305...</td>\n",
       "      <td>Omissions\\nNone.\\nContent difference(s)\\nGRI S...</td>\n",
       "      <td>Full</td>\n",
       "      <td>201-2</td>\n",
       "      <td>b.</td>\n",
       "    </tr>\n",
       "    <tr>\n",
       "      <th>0</th>\n",
       "      <td>Metrics and Targets c.  Describe the  targets ...</td>\n",
       "      <td>GRI 101,  2.7.1 GRI 102-15 GRI 103-2  with  GR...</td>\n",
       "      <td>Disclosure 102-15 – Key impacts, risks, and op...</td>\n",
       "      <td>Omissions\\nNone.\\nContent difference(s)\\nGRI S...</td>\n",
       "      <td>Moderate</td>\n",
       "      <td>102-15 103-2 201-2</td>\n",
       "      <td>c.</td>\n",
       "    </tr>\n",
       "  </tbody>\n",
       "</table>\n",
       "</div>"
      ],
      "text/plain": [
       "        Recommended \\nDisclosures \\n(TCFD Framework)  \\\n",
       "0  Governance a.  Describe the  board’s oversight...   \n",
       "0  Governance b. Describe  management’s  role in ...   \n",
       "0  Strategy a.  Describe the  climate-related ris...   \n",
       "0  Strategy b. Describe the impact  of climate-re...   \n",
       "1  Strategy c.  Describe the  resilience of the  ...   \n",
       "0  Risk Management a.  Describe the  organisation...   \n",
       "0  Risk Management b. Describe the  organisation’...   \n",
       "0  Risk Management c.  Describe how  processes fo...   \n",
       "0  Metrics and Targets a.  Describe the  metrics ...   \n",
       "0  Metrics and Targets b. Disclose  Scope 1, Scop...   \n",
       "0  Metrics and Targets c.  Describe the  targets ...   \n",
       "\n",
       "                          Related \\ncode/\\nparagraph  \\\n",
       "0  GRI 102-18   GRI 102-19   GRI 102-20   GRI 102...   \n",
       "0  GRI 102-20 GRI 102-29 GRI 102-31 GRI 102-32 GR...   \n",
       "0     GRI 102-14 GRI 102-15 GRI 103  with  GRI 201-2   \n",
       "0                  GRI 102-15 GRI 103 with GRI 201-2   \n",
       "1                                                      \n",
       "0  GRI 102-15 GRI 102-29 GRI 102-30 GRI 102-31 GR...   \n",
       "0  GRI 102-15 GRI 102-29 GRI 103-2  with   GRI 20...   \n",
       "0  GRI 102-15 GRI 103  with  GRI 201-2  and   GRI...   \n",
       "0  GRI 102-30 GRI 103  with   GRI 201-2 GRI 302 G...   \n",
       "0    GRI 103  with  GRI 305 GRI 103  with  GRI 201-2   \n",
       "0  GRI 101,  2.7.1 GRI 102-15 GRI 103-2  with  GR...   \n",
       "\n",
       "                                         Description  \\\n",
       "0  Disclosure 102-18 – Governance structure\\na. G...   \n",
       "0  Disclosure 102-20 – Executive-level responsibi...   \n",
       "0  Disclosure 102-14 – Statement from senior deci...   \n",
       "0  Disclosure 102-15 – Key impacts, risks, and op...   \n",
       "1                                                      \n",
       "0  Disclosure 102-15 – Key impacts, risks, and op...   \n",
       "0  Disclosure 102-15 – Key impacts, risks, and op...   \n",
       "0  Disclosure 102-15 – Key impacts, risks, and op...   \n",
       "0  Disclosure 102-30 – Effectiveness of risk mana...   \n",
       "0  GRI 103: Management Approach used with GRI 305...   \n",
       "0  Disclosure 102-15 – Key impacts, risks, and op...   \n",
       "\n",
       "              Omissions and/or content difference(s) Level of \\nalignment  \\\n",
       "0  Omissions\\nNone.\\nContent difference(s)\\nGRI S...           Reasonable   \n",
       "0  Omissions\\nNone.\\nContent difference(s)\\nGRI S...           Reasonable   \n",
       "0  Omissions\\nNone.\\nContent difference(s) \\nGRI ...           Reasonable   \n",
       "0  Omissions\\nNone.\\nContent difference(s)\\nGRI S...           Reasonable   \n",
       "1  Omissions\\nScenario analysis and resilience co...                 None   \n",
       "0  Omissions\\nNone.\\nContent difference(s)\\nGRI S...           Reasonable   \n",
       "0  Omissions\\nNone.\\nContent difference(s)\\nGRI S...           Reasonable   \n",
       "0  Omissions\\nNone.\\nContent difference(s) \\nGRI ...             Moderate   \n",
       "0  Omissions\\nThe GRI Standards do not have speci...           Reasonable   \n",
       "0  Omissions\\nNone.\\nContent difference(s)\\nGRI S...                 Full   \n",
       "0  Omissions\\nNone.\\nContent difference(s)\\nGRI S...             Moderate   \n",
       "\n",
       "                                       GRI Standards  id  \n",
       "0  102-18 102-19 102-20 102-26 102-27 102-29 102-...  a.  \n",
       "0            102-20 102-29 102-31 102-32 103-2 201-2  b.  \n",
       "0                                102-14 102-15 201-2  a.  \n",
       "0                                             102-15  b.  \n",
       "1                                        No value :(  c.  \n",
       "0      102-15 102-29 102-30 102-31 103-1 103-2 201-2  a.  \n",
       "0                          102-15 102-29 103-2 201-2  b.  \n",
       "0                                             102-15  c.  \n",
       "0                                             102-30  a.  \n",
       "0                                              201-2  b.  \n",
       "0                                 102-15 103-2 201-2  c.  "
      ]
     },
     "execution_count": 127,
     "metadata": {},
     "output_type": "execute_result"
    }
   ],
   "source": [
    "df"
   ]
  },
  {
   "cell_type": "code",
   "execution_count": null,
   "id": "d9f1cbf4-4f50-450c-9e25-e1c26b56afb7",
   "metadata": {},
   "outputs": [],
   "source": []
  }
 ],
 "metadata": {
  "kernelspec": {
   "display_name": "ESG-Mapping",
   "language": "python",
   "name": "esg-mapping"
  },
  "language_info": {
   "codemirror_mode": {
    "name": "ipython",
    "version": 3
   },
   "file_extension": ".py",
   "mimetype": "text/x-python",
   "name": "python",
   "nbconvert_exporter": "python",
   "pygments_lexer": "ipython3",
   "version": "3.9.6"
  }
 },
 "nbformat": 4,
 "nbformat_minor": 5
}
