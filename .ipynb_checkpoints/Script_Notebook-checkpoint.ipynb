{
 "cells": [
  {
   "cell_type": "code",
   "execution_count": 1,
   "id": "59882720-17b6-4466-84a8-be4688c70633",
   "metadata": {},
   "outputs": [],
   "source": [
    "import pandas as pd\n",
    "import numpy as np\n",
    "import re\n",
    "\n",
    "from tabula import read_pdf\n",
    "from tabulate import tabulate\n",
    "import pdfplumber\n",
    "import openpyxl\n",
    "import camelot\n",
    "\n",
    "\n",
    "\n",
    "\n",
    "from Script import ExtractPDFTables\n"
   ]
  },
  {
   "cell_type": "markdown",
   "id": "20def67c-69c4-4e66-8379-e9b460d651ab",
   "metadata": {
    "tags": []
   },
   "source": [
    "# Table Extraction and Mapping (SGD-GRI Link)"
   ]
  },
  {
   "cell_type": "code",
   "execution_count": 4,
   "id": "d47e7196-e6d5-4f4d-ba51-1b2f668211c7",
   "metadata": {},
   "outputs": [
    {
     "name": "stdout",
     "output_type": "stream",
     "text": [
      "WARNING: page_range should be a nested list\n",
      " eg: page_range = [list(range(3, 73)), list(range(74, 99))]\n",
      " Why? the SDG-GRI pdf file has a page in the middle that is\n",
      " not a table, getTablesSDG_GRI method iterates the first\n",
      " range of pages an then the other one.\n"
     ]
    }
   ],
   "source": [
    "pdf_path = 'ESG-Frameworks/Mapping-Standards/SDG-GRI/sdg-gri.pdf'\n",
    "page_range = [list(range(3, 73)), list(range(74, 99))]\n",
    "# page_range = list(range(3, 73))\n",
    "\n",
    "\n",
    "area = [80.51, 90.42, 561.96, 814.18]\n",
    "tableTCFD_GRI = ExtractPDFTables(pdf_path, page_range, area)\n",
    "df = tableTCFD_GRI.getTablesSDG_GRI()\n",
    "\n",
    "# df.to_csv('ESG-Frameworks/Mapping-Standards/SDG-GRI/SDG-GRI-DF2.csv')"
   ]
  },
  {
   "cell_type": "code",
   "execution_count": 6,
   "id": "83ae2f5b-4f12-483f-9ebc-d2e4940fbffd",
   "metadata": {},
   "outputs": [],
   "source": []
  },
  {
   "cell_type": "markdown",
   "id": "99288de5-8b07-444c-8817-678daa06a770",
   "metadata": {
    "tags": []
   },
   "source": [
    "## Structuring Dataframe SDG-GRI"
   ]
  },
  {
   "cell_type": "code",
   "execution_count": null,
   "id": "98d03703-623c-47e8-bb1e-f531032f247c",
   "metadata": {},
   "outputs": [],
   "source": [
    "df = pd.read_csv('ESG-Frameworks/Mapping-Standards/SDG-GRI/SDG-GRI-DF.csv')\n",
    "df = df.drop(['Unnamed: 0'], axis=1)\n",
    "df = df.dropna()\n",
    "df = df.drop(['Available Business Disclosures'], axis=1)\n",
    "df = df.drop(labels = 'Target',axis = 1).groupby(df['Target'].mask(df['Target']==' ').ffill()).agg(', '.join).reset_index()\n",
    "df.to_csv('ESG-Frameworks/Mapping-Standards/SDG-GRI/SDG-GRI.csv')\n",
    "df.head(3)"
   ]
  },
  {
   "cell_type": "markdown",
   "id": "a79469bb-192b-4c63-bf42-5392651f11b9",
   "metadata": {
    "jp-MarkdownHeadingCollapsed": true,
    "tags": []
   },
   "source": [
    "## Solving Disclousure Column extraction Issue "
   ]
  },
  {
   "cell_type": "code",
   "execution_count": null,
   "id": "ccbdf7f4-9330-46d6-8392-e7a152d29639",
   "metadata": {},
   "outputs": [],
   "source": [
    "# df['Target_'] = df['Target']"
   ]
  },
  {
   "cell_type": "code",
   "execution_count": null,
   "id": "9a7defba-b5c0-4477-bd26-abc9385183fc",
   "metadata": {},
   "outputs": [],
   "source": [
    "# df = df[[\"Target\", \"Target_\", \"Available Business Disclosures\", \"Disclosure\"]]\n",
    "df = df[[\"Target\", \"Available Business Disclosures\", \"Disclosure\"]]\n",
    "# df"
   ]
  },
  {
   "cell_type": "code",
   "execution_count": null,
   "id": "5ed3e5a1-8b36-4983-8f1e-b7f8690c47e3",
   "metadata": {},
   "outputs": [],
   "source": [
    "df = df.drop(labels = 'Target',axis = 1).groupby(df['Target'].mask(df['Target']=='').ffill()).agg(' '.join).reset_index()\n",
    "\n"
   ]
  },
  {
   "cell_type": "code",
   "execution_count": null,
   "id": "b1883a31-5f2a-4e76-98b4-1186904d2c4a",
   "metadata": {},
   "outputs": [],
   "source": [
    "# df.rename(columns = {'Target_':'Target'}, inplace = True)"
   ]
  },
  {
   "cell_type": "code",
   "execution_count": null,
   "id": "583a289f-08a2-41d1-b027-d7d8a3393b7f",
   "metadata": {},
   "outputs": [],
   "source": [
    "df.to_csv('ESG-Frameworks/Mapping-Standards/SDG-GRI#2.csv')\n"
   ]
  },
  {
   "cell_type": "markdown",
   "id": "ba8c790d-ad74-47e0-b414-81f874e5daca",
   "metadata": {
    "jp-MarkdownHeadingCollapsed": true,
    "tags": []
   },
   "source": [
    "## Structuring Dataframe GRI-SDG"
   ]
  },
  {
   "cell_type": "code",
   "execution_count": null,
   "id": "abad600e-5608-4db6-9e71-ca4d67a9f5b0",
   "metadata": {},
   "outputs": [],
   "source": [
    "df = pd.read_csv('ESG-Frameworks/Mapping-Standards/SDG-GRI/SDG-GRI-DF.csv')\n",
    "df = df.drop(['Unnamed: 0'], axis=1)\n",
    "# df = df.replace(np.nan, '', regex=True)\n",
    "df = df.drop(['Available Business Disclosures'], axis=1)\n",
    "df = df.dropna()\n",
    "df.to_csv('ESG-Frameworks/Mapping-Standards/SDG-GRI/GRI-SDG.csv')\n",
    "df.head(3)\n"
   ]
  },
  {
   "cell_type": "markdown",
   "id": "078fde49-d6ba-4743-9ff5-1b4a42e69214",
   "metadata": {
    "jp-MarkdownHeadingCollapsed": true,
    "tags": []
   },
   "source": [
    "## Mapping Collected Dataframe (SDG-GRI)"
   ]
  },
  {
   "cell_type": "code",
   "execution_count": null,
   "id": "b9e0a566-8b79-4601-8a26-83bd8289dc04",
   "metadata": {},
   "outputs": [],
   "source": [
    "pdf_tables = 'ESG-Frameworks/Mapping-Standards/SDG-GRI/SDG-GRI.csv'\n",
    "excelFile = 'ESG-Frameworks/Outputs/testing.xlsx'\n",
    "sheet = \"SDG's\"\n",
    "regex = '[+-]?[0-9]+\\.-?[0-9a-zA-Z_]+'\n",
    "\n",
    "wb = openpyxl.load_workbook(excelFile)\n",
    "\n",
    "ws = wb[sheet]\n",
    "# ws = wb.active\n",
    "\n",
    "rows = ws.max_row\n",
    "\n",
    "pdf_tables = pd.read_csv(pdf_tables)\n",
    "\n",
    "for i in range(1, rows):\n",
    "    \n",
    "    if ws.cell(row=i, column=1).value == None:\n",
    "        pass\n",
    "    \n",
    "    else:\n",
    "        target_cell = ws.cell(row=i, column=1).value\n",
    "        if(re.search(regex, target_cell)):\n",
    "            target = re.search(regex, target_cell).group()\n",
    "            \n",
    "            try:\n",
    "                value_to_add = pdf_tables.loc[pdf_tables['Target'] == target]['Disclosure'].item()\n",
    "                ws.cell(row=i, column=3, value=str(value_to_add))\n",
    "            except:\n",
    "                pass\n",
    "\n",
    "           \n",
    "wb.save(\"ESG-Frameworks/Outputs/testing.xlsx\")\n",
    "            \n",
    "\n",
    "\n",
    "        \n",
    "\n",
    "# wb.save(\"ESG-Frameworks/Outputs/testing_2.xlsx\")\n",
    "\n",
    "# ws.cell(row=5, column=1).value"
   ]
  },
  {
   "cell_type": "markdown",
   "id": "b80f2f59-c77b-43b9-b751-79939c674e27",
   "metadata": {
    "jp-MarkdownHeadingCollapsed": true,
    "tags": []
   },
   "source": [
    "## Mapping Collected Dataframe (GRI-SDG)"
   ]
  },
  {
   "cell_type": "code",
   "execution_count": null,
   "id": "d254a9f0-51fd-49bd-94c8-644b3ad32388",
   "metadata": {},
   "outputs": [],
   "source": [
    "pdf_tables = 'ESG-Frameworks/Mapping-Standards/SDG-GRI/GRI-SDG.csv'\n",
    "excelFile = 'ESG-Frameworks/Outputs/testing.xlsx'\n",
    "sheet_2 = \"GRI 2016\"\n",
    "\n",
    "wb = openpyxl.load_workbook(excelFile)\n",
    "\n",
    "ws = wb[sheet_2]\n",
    "\n",
    "\n",
    "rows = ws.max_row\n",
    "\n",
    "pdf_tables = pd.read_csv(pdf_tables)\n",
    "\n",
    "for i in range(1, rows):\n",
    "    \n",
    "    if ws.cell(row=i, column=2).value != None:\n",
    "        \n",
    "        target_cell = ws.cell(row=i+1, column=2).value\n",
    "        if target_cell != None:\n",
    "            try:\n",
    "                \n",
    "                if len(pdf_tables[pdf_tables['Disclosure'] == target_cell]) != 0:\n",
    "                    value_to_add = pdf_tables[pdf_tables.Disclosure==target_cell].squeeze()['Target'].values\n",
    "                    ws.cell(row=i+1, column=4, value=', '.join(value_to_add))\n",
    "            except:\n",
    "                pass\n",
    "        \n",
    "\n",
    "\n",
    "           \n",
    "wb.save(\"ESG-Frameworks/Outputs/testing.xlsx\")\n",
    "            \n"
   ]
  },
  {
   "cell_type": "markdown",
   "id": "ae114af1-8f87-497e-a767-ea0743a443bd",
   "metadata": {
    "jp-MarkdownHeadingCollapsed": true,
    "tags": []
   },
   "source": [
    "# Table Extraction and Mapping (COH4B-GRI Link)"
   ]
  },
  {
   "cell_type": "code",
   "execution_count": null,
   "id": "7f631077-11a1-49a1-ac29-8cec801fc1ed",
   "metadata": {},
   "outputs": [],
   "source": [
    "pdf_path = 'ESG-Frameworks/Mapping-Standards/GRI-COH4B/gri-coh4b.pdf'\n",
    "page_range = list(range(13, 22))\n",
    "\n",
    "\n",
    "tableGRI_COH4B = ExtractPDFTables(pdf_path, page_range)\n",
    "df = tableGRI_COH4B.getTablesGRI_COH4B()\n",
    "df = tableGRI_COH4B.setHeaders(df, 0)\n",
    "df = tableGRI_COH4B.headerSwap(df, 'A. COHBP & \\ndefinition', None, 'id')\n",
    "df = tableGRI_COH4B.addDot(df, 'id')\n",
    "\n",
    "\n",
    "\n",
    "\n",
    "# df.to_csv('ESG-Frameworks/Mapping-Standards/GRI-COH4B/GRI-COH4B.csv')"
   ]
  },
  {
   "cell_type": "code",
   "execution_count": null,
   "id": "355c8504-d724-4705-b058-09f797f9db5f",
   "metadata": {},
   "outputs": [],
   "source": []
  },
  {
   "cell_type": "markdown",
   "id": "895648f1-5a8c-48b9-97f1-369c7910ac3a",
   "metadata": {
    "jp-MarkdownHeadingCollapsed": true,
    "tags": []
   },
   "source": [
    "## Mapping Collected Dataframe (COH4B-GRI)"
   ]
  },
  {
   "cell_type": "code",
   "execution_count": null,
   "id": "4cf84339-cb77-44ad-9d5d-d32e2a0c00e5",
   "metadata": {},
   "outputs": [],
   "source": [
    "pdf_tables = 'ESG-Frameworks/Mapping-Standards/GRI-COH4B/GRI-COH4B.csv'\n",
    "excelFile = 'ESG-Frameworks/Outputs/testing.xlsx'\n",
    "sheet = \"COH4B\"\n",
    "regex = \"[+-]?[0-9]+\\.\"\n",
    "\n",
    "wb = openpyxl.load_workbook(excelFile)\n",
    "\n",
    "ws = wb[sheet]\n",
    "\n",
    "\n",
    "rows = ws.max_row\n",
    "\n",
    "pdf_tables = pd.read_csv(pdf_tables)\n",
    "pdf_tables['id'] = pdf_tables['id'].astype(str).apply(lambda x: x.replace('.0','.'))\n",
    "\n",
    "for i in range(1, rows):\n",
    "    \n",
    "    if ws.cell(row=i, column=1).value == None:\n",
    "        pass\n",
    "    \n",
    "    else:\n",
    "        target_cell = ws.cell(row=i, column=1).value\n",
    "        # print(target_cell)\n",
    "        if(re.search(regex, target_cell)):\n",
    "            target = re.search(regex, target_cell).group() \n",
    "            # print(target)\n",
    "            try:\n",
    "                value_to_add = [pdf_tables.loc[pdf_tables['id'] == target]['C. GRI \\nStandards'].item(),\n",
    "                                pdf_tables.loc[pdf_tables['id'] == target]['D. GRI disclosures'].item()]\n",
    "                # print(value_to_add)\n",
    "                ws.cell(row=i, column=3, value=str(value_to_add[0]))\n",
    "                ws.cell(row=i, column=4, value=str(value_to_add[1]))\n",
    "                \n",
    "            except:\n",
    "                pass\n",
    "\n",
    "           \n",
    "wb.save(\"ESG-Frameworks/Outputs/testing.xlsx\")\n",
    "            "
   ]
  },
  {
   "cell_type": "markdown",
   "id": "b5822347-442f-4954-b4ed-8cb8c856fbc5",
   "metadata": {
    "jp-MarkdownHeadingCollapsed": true,
    "tags": []
   },
   "source": [
    "## Mapping Collected Dataframe (GRI-COHB4)"
   ]
  },
  {
   "cell_type": "code",
   "execution_count": null,
   "id": "cefeb139-82f2-4df4-9b7b-3b37f10ce54d",
   "metadata": {},
   "outputs": [],
   "source": [
    "pdf_tables = 'ESG-Frameworks/Mapping-Standards/GRI-COH4B/GRI-COH4B.csv'\n",
    "excelFile = 'ESG-Frameworks/Outputs/testing.xlsx'\n",
    "sheet = \"GRI 2016\"\n",
    "# regex = \"[+-]?[0-9]+\\.\"\n",
    "regex = '^[0-9\\.\\-\\/]+$'\n",
    "\n",
    "wb = openpyxl.load_workbook(excelFile)\n",
    "\n",
    "ws = wb[sheet]\n",
    "\n",
    "rows = ws.max_row\n",
    "\n",
    "pdf_tables = pd.read_csv(pdf_tables)\n",
    "pdf_tables['id'] = pdf_tables['id'].astype(str).apply(lambda x: x.replace('.0','.'))\n",
    "\n",
    "\n",
    "for i in range(1, rows):\n",
    "    if ws.cell(row=i, column=2).value == None:\n",
    "        # print(i)\n",
    "        pass\n",
    "    \n",
    "    else:\n",
    "        target_cell = ws.cell(row=i, column=2).value\n",
    "        if(re.search(regex, target_cell)):\n",
    "            target = re.search(regex, target_cell).group() \n",
    "            \n",
    "            try:\n",
    "                value_to_add = pdf_tables.loc[pdf_tables['GRI Standards'] == target]['id'].item()\n",
    "                ws.cell(row=i, column=6, value=str(value_to_add[0]))\n",
    "               \n",
    "  \n",
    "            except:\n",
    "                \n",
    "                pass\n",
    "wb.save(\"ESG-Frameworks/Outputs/testing.xlsx\")\n",
    "            \n",
    "\n"
   ]
  },
  {
   "cell_type": "code",
   "execution_count": null,
   "id": "87086cff-7cbd-454c-8700-337f697be305",
   "metadata": {},
   "outputs": [],
   "source": [
    "page_range = list(range(44, 54))\n",
    "page_range"
   ]
  },
  {
   "cell_type": "markdown",
   "id": "fd8b964f-8ed9-4f84-8b60-4b3c5b87d0c8",
   "metadata": {
    "tags": []
   },
   "source": [
    "# Table Extraction and Mapping (TCFD-GRI Link)"
   ]
  },
  {
   "cell_type": "code",
   "execution_count": null,
   "id": "7e0c505a-746e-475e-bd43-03a6d61f0b1c",
   "metadata": {},
   "outputs": [],
   "source": [
    "pdf_path = 'ESG-Frameworks/Mapping-Standards/TCFD-GRI/TCFD to GRI-2.pdf'\n",
    "page_range = list(range(49, 59))\n",
    "\n",
    "\n",
    "tableTCFD_GRI = ExtractPDFTables(pdf_path, page_range)\n",
    "df = tableTCFD_GRI.getTablesTCFD_GRI()"
   ]
  },
  {
   "cell_type": "code",
   "execution_count": null,
   "id": "c5366c0a-0c9b-4ade-ae7a-b685e2830d66",
   "metadata": {},
   "outputs": [],
   "source": []
  },
  {
   "cell_type": "code",
   "execution_count": null,
   "id": "f98dff8b-0e29-47db-ba7a-5b0ff91fcc97",
   "metadata": {},
   "outputs": [],
   "source": []
  }
 ],
 "metadata": {
  "kernelspec": {
   "display_name": "ESG-Mapping",
   "language": "python",
   "name": "esg-mapping"
  },
  "language_info": {
   "codemirror_mode": {
    "name": "ipython",
    "version": 3
   },
   "file_extension": ".py",
   "mimetype": "text/x-python",
   "name": "python",
   "nbconvert_exporter": "python",
   "pygments_lexer": "ipython3",
   "version": "3.9.6"
  }
 },
 "nbformat": 4,
 "nbformat_minor": 5
}
