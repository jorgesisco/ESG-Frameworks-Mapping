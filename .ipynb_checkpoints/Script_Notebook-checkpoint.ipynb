{
 "cells": [
  {
   "cell_type": "code",
   "execution_count": 1,
   "id": "59882720-17b6-4466-84a8-be4688c70633",
   "metadata": {},
   "outputs": [],
   "source": [
    "import pandas as pd\n",
    "import numpy as np\n",
    "import re\n",
    "\n",
    "from tabula import read_pdf\n",
    "from tabulate import tabulate\n",
    "import pdfplumber\n",
    "import openpyxl\n",
    "\n",
    "from Script import ExtractPDFTables, MapLinks2Excel"
   ]
  },
  {
   "cell_type": "markdown",
   "id": "20def67c-69c4-4e66-8379-e9b460d651ab",
   "metadata": {
    "jp-MarkdownHeadingCollapsed": true,
    "tags": []
   },
   "source": [
    "# Table Extraction and Mapping (SGD-GRI Link)"
   ]
  },
  {
   "cell_type": "code",
   "execution_count": null,
   "id": "d47e7196-e6d5-4f4d-ba51-1b2f668211c7",
   "metadata": {},
   "outputs": [],
   "source": [
    "pdf_path = 'ESG-Frameworks/Mapping-Standards/SDG-GRI/sdg-gri.pdf'\n",
    "page_range = [list(range(3, 73)), list(range(74, 99))]\n",
    "area = [80.51, 90.42, 561.96, 814.18]\n",
    "\n",
    "tableTCFD_GRI = ExtractPDFTables(pdf_path, page_range, area)\n",
    "df = tableTCFD_GRI.getTablesSDG_GRI()"
   ]
  },
  {
   "cell_type": "markdown",
   "id": "078fde49-d6ba-4743-9ff5-1b4a42e69214",
   "metadata": {
    "tags": []
   },
   "source": [
    "## Mapping Collected Dataframe (SDG-GRI)"
   ]
  },
  {
   "cell_type": "code",
   "execution_count": null,
   "id": "1c967a7e-e7c5-4884-ba83-abc09558ea11",
   "metadata": {},
   "outputs": [],
   "source": [
    "excelFilePath = 'ESG-Frameworks/Outputs/testing.xlsx'\n",
    "sheet = \"SDG's\"\n",
    "\n",
    "mapp = MapLinks2Excel(df, sheet, excelFilePath)\n",
    "mapp.MapSDG_GRI()"
   ]
  },
  {
   "cell_type": "markdown",
   "id": "b80f2f59-c77b-43b9-b751-79939c674e27",
   "metadata": {
    "tags": []
   },
   "source": [
    "## Mapping Collected Dataframe (GRI-SDG)"
   ]
  },
  {
   "cell_type": "code",
   "execution_count": null,
   "id": "f823e872-612b-4cd8-85c2-05006fba3b29",
   "metadata": {},
   "outputs": [],
   "source": [
    "excelFilePath = 'ESG-Frameworks/Outputs/testing.xlsx'\n",
    "sheet = \"GRI 2016\"\n",
    "\n",
    "mapp = MapLinks2Excel(df, sheet, excelFilePath)\n",
    "mapp.MapGRI_SDG()"
   ]
  },
  {
   "cell_type": "markdown",
   "id": "ae114af1-8f87-497e-a767-ea0743a443bd",
   "metadata": {
    "jp-MarkdownHeadingCollapsed": true,
    "tags": []
   },
   "source": [
    "# Table Extraction and Mapping (COH4B-GRI Link)"
   ]
  },
  {
   "cell_type": "code",
   "execution_count": null,
   "id": "7f631077-11a1-49a1-ac29-8cec801fc1ed",
   "metadata": {},
   "outputs": [],
   "source": [
    "pdf_path = 'ESG-Frameworks/Mapping-Standards/GRI-COH4B/gri-coh4b.pdf'\n",
    "page_range = list(range(13, 22))\n",
    "\n",
    "\n",
    "tableGRI_COH4B = ExtractPDFTables(pdf_path, page_range)\n",
    "df = tableGRI_COH4B.getTablesGRI_COH4B()\n",
    "df = tableGRI_COH4B.setHeaders(df, 0)\n",
    "df = tableGRI_COH4B.headerSwap(df, 'A. COHBP & \\ndefinition', None, 'id')\n",
    "df = tableGRI_COH4B.addDot(df, 'id')\n",
    "\n",
    "df = tableGRI_COH4B.extractDisclosures(df, 'D. GRI disclosures', 'GRI Standards')\n",
    "\n"
   ]
  },
  {
   "cell_type": "code",
   "execution_count": null,
   "id": "4fe17894-2bd3-444e-9443-50fceb91880f",
   "metadata": {},
   "outputs": [],
   "source": [
    "df"
   ]
  },
  {
   "cell_type": "code",
   "execution_count": null,
   "id": "74eba526-223e-4863-be75-69e0cedb0710",
   "metadata": {},
   "outputs": [],
   "source": [
    "df.to_csv('ESG-Frameworks/Mapping-Standards/GRI-COH4B/GRI-COH4B-2.csv')"
   ]
  },
  {
   "cell_type": "markdown",
   "id": "581c6779-e60c-4c9e-a9dc-ae2081afb4e8",
   "metadata": {
    "tags": []
   },
   "source": [
    "## Mapping Collected Dataframe (COH4B-GRI)"
   ]
  },
  {
   "cell_type": "code",
   "execution_count": null,
   "id": "355c8504-d724-4705-b058-09f797f9db5f",
   "metadata": {},
   "outputs": [],
   "source": [
    "excelFilePath = 'ESG-Frameworks/Outputs/testing.xlsx'\n",
    "sheet = \"COH4B\"\n",
    "\n",
    "mapp = MapLinks2Excel(df, sheet, excelFilePath)\n",
    "mapp.MapCOH4B_GRI()"
   ]
  },
  {
   "cell_type": "markdown",
   "id": "b5822347-442f-4954-b4ed-8cb8c856fbc5",
   "metadata": {
    "tags": []
   },
   "source": [
    "## Mapping Collected Dataframe (GRI-COHB4)"
   ]
  },
  {
   "cell_type": "code",
   "execution_count": null,
   "id": "94e95589-6170-4589-b428-6b56c9863d35",
   "metadata": {},
   "outputs": [],
   "source": [
    "excelFilePath = 'ESG-Frameworks/Outputs/testing.xlsx'\n",
    "sheet = \"GRI 2016\"\n",
    "\n",
    "mapp = MapLinks2Excel(df, sheet, excelFilePath)\n",
    "mapp.MapGRI_COH4B()"
   ]
  },
  {
   "cell_type": "markdown",
   "id": "fd8b964f-8ed9-4f84-8b60-4b3c5b87d0c8",
   "metadata": {
    "tags": []
   },
   "source": [
    "# Table Extraction and Mapping (TCFD-GRI Link)"
   ]
  },
  {
   "cell_type": "code",
   "execution_count": 2,
   "id": "7e0c505a-746e-475e-bd43-03a6d61f0b1c",
   "metadata": {},
   "outputs": [],
   "source": [
    "pdf_path = 'ESG-Frameworks/Mapping-Standards/TCFD-GRI/TCFD to GRI-2.pdf'\n",
    "page_range = list(range(49, 59))\n",
    "\n",
    "\n",
    "tableTCFD_GRI = ExtractPDFTables(pdf_path, page_range)\n",
    "df = tableTCFD_GRI.getTablesTCFD_GRI()"
   ]
  },
  {
   "cell_type": "code",
   "execution_count": null,
   "id": "54967ce8-f1cc-47af-808e-62536bafd5ee",
   "metadata": {},
   "outputs": [],
   "source": [
    "# df.to_csv('ESG-Frameworks/Mapping-Standards/TCFD-GRI/TCFD-GRI-2.csv')"
   ]
  },
  {
   "cell_type": "code",
   "execution_count": null,
   "id": "c5366c0a-0c9b-4ade-ae7a-b685e2830d66",
   "metadata": {},
   "outputs": [],
   "source": []
  },
  {
   "cell_type": "code",
   "execution_count": 4,
   "id": "0f697fef-a583-41fe-b3a3-07d8f9578618",
   "metadata": {},
   "outputs": [
    {
     "data": {
      "text/plain": [
       "Index(['Recommended \\nDisclosures \\n(TCFD Framework)',\n",
       "       'Related \\ncode/\\nparagraph', 'Description',\n",
       "       'Omissions and/or content difference(s)', 'Level of \\nalignment'],\n",
       "      dtype='object')"
      ]
     },
     "execution_count": 4,
     "metadata": {},
     "output_type": "execute_result"
    }
   ],
   "source": [
    "df.columns"
   ]
  },
  {
   "cell_type": "code",
   "execution_count": null,
   "id": "d8d56d6f-5a28-408c-8770-d53136ddeb1c",
   "metadata": {},
   "outputs": [],
   "source": [
    "df_ = tableTCFD_GRI.extractDisclosures2(df, 'Description', 'GRI Standards')"
   ]
  },
  {
   "cell_type": "code",
   "execution_count": null,
   "id": "e14ad9c4-852e-40c3-a11a-47e097af29f0",
   "metadata": {},
   "outputs": [],
   "source": []
  },
  {
   "cell_type": "code",
   "execution_count": null,
   "id": "f98dff8b-0e29-47db-ba7a-5b0ff91fcc97",
   "metadata": {},
   "outputs": [],
   "source": [
    "values = []\n",
    "\n",
    "# for i in range(0, len(df['Related \\ncode/\\nparagraph'])):\n",
    "\n",
    "#     match = re.search(r'[0-9]{3}-[0-9]{2}|[0-9]{3}-[0-9]{1}', df['Related \\ncode/\\nparagraph'][i])\n",
    "\n",
    "    \n",
    "#     try:\n",
    "#         values.append(df['Related \\ncode/\\nparagraph'][i][match.start():match.end()])\n",
    "#     except:\n",
    "#         values.append('No values :(')\n",
    "#         pass\n",
    "    \n",
    "\n",
    "    \n",
    "    \n",
    "for i in range(0, len(df['Related \\ncode/\\nparagraph'])):\n",
    "\t\t\tmatch = re.search(r'[0-9]{3}-[0-9]{2}|[0-9]{3}-[0-9]{1}', df['Related \\ncode/\\nparagraph'][i])\n",
    "\n",
    "\n",
    "\t\t\ttry:\n",
    "\t\t\t\tvalues.append(df['Related \\ncode/\\nparagraph'][i][match.start():match.end()])\n",
    "\n",
    "\t\t\texcept:\n",
    "\t\t\t\t# values.append('No value :(')\n",
    "\t\t\t\tpass\n",
    "df['GRI Standards'] = values\n"
   ]
  },
  {
   "cell_type": "code",
   "execution_count": null,
   "id": "6ba56358-b1ad-4fa9-bad3-9d3b909e16f6",
   "metadata": {},
   "outputs": [],
   "source": [
    "values"
   ]
  },
  {
   "cell_type": "code",
   "execution_count": null,
   "id": "c2b008b6-b0ab-4ac8-96e5-2dc88dbcc3c9",
   "metadata": {},
   "outputs": [],
   "source": [
    "df.columns"
   ]
  },
  {
   "cell_type": "code",
   "execution_count": null,
   "id": "b8c20d57-0bcb-487a-af7f-45357087bde4",
   "metadata": {},
   "outputs": [],
   "source": [
    "df"
   ]
  },
  {
   "cell_type": "code",
   "execution_count": null,
   "id": "f0abc641-7370-4edb-a28f-d7e76819271a",
   "metadata": {},
   "outputs": [],
   "source": []
  }
 ],
 "metadata": {
  "kernelspec": {
   "display_name": "ESG-Mapping",
   "language": "python",
   "name": "esg-mapping"
  },
  "language_info": {
   "codemirror_mode": {
    "name": "ipython",
    "version": 3
   },
   "file_extension": ".py",
   "mimetype": "text/x-python",
   "name": "python",
   "nbconvert_exporter": "python",
   "pygments_lexer": "ipython3",
   "version": "3.9.6"
  }
 },
 "nbformat": 4,
 "nbformat_minor": 5
}
