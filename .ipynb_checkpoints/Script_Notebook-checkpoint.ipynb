{
 "cells": [
  {
   "cell_type": "code",
   "execution_count": 4,
   "id": "59882720-17b6-4466-84a8-be4688c70633",
   "metadata": {},
   "outputs": [],
   "source": [
    "from tabula import read_pdf\n",
    "from tabulate import tabulate\n",
    "# import camelot\n",
    "import pandas as pd\n",
    "import numpy as np\n",
    "\n",
    "\n",
    "# pages=','.join(str(i) for i in range(3, 99))"
   ]
  },
  {
   "cell_type": "markdown",
   "id": "20def67c-69c4-4e66-8379-e9b460d651ab",
   "metadata": {},
   "source": [
    "# Using Tabula for Table Extraction"
   ]
  },
  {
   "cell_type": "code",
   "execution_count": 5,
   "id": "6424c7d1-63d2-4b62-9b54-578fe77615da",
   "metadata": {},
   "outputs": [],
   "source": [
    "df = read_pdf('ESG-Frameworks/Mapping-Standars/sdg-gri.pdf', stream=True, pages = 3, area = [80.51, 90.42, 561.96, 814.18], multiple_tables=False )\n"
   ]
  },
  {
   "cell_type": "code",
   "execution_count": 6,
   "id": "a655f4ad-898a-4ce1-b84f-cb7680882210",
   "metadata": {},
   "outputs": [],
   "source": [
    "for i in range(4, 73):\n",
    "    df[0] = df[0].append(read_pdf('ESG-Frameworks/Mapping-Standars/sdg-gri.pdf', stream=True, pages = i, area = [80.51, 90.42, 561.96, 814.18], multiple_tables=False )[0], ignore_index=True)\n",
    "    "
   ]
  },
  {
   "cell_type": "code",
   "execution_count": 7,
   "id": "60d9b646-0d38-49ec-ac33-aa37cbf69185",
   "metadata": {},
   "outputs": [],
   "source": [
    "df[0].rename(columns = {'Sources':'Source'}, inplace = True)"
   ]
  },
  {
   "cell_type": "code",
   "execution_count": 8,
   "id": "c74c2984-f02a-4b9c-a1e0-8dccbbae3a09",
   "metadata": {},
   "outputs": [],
   "source": [
    "for i in range(74, 99):\n",
    "    df[0] = df[0].append(read_pdf('ESG-Frameworks/Mapping-Standars/sdg-gri.pdf', stream=True, pages = i, area = [80.51, 90.42, 561.96, 814.18], multiple_tables=False )[0], ignore_index=True)\n",
    "    "
   ]
  },
  {
   "cell_type": "code",
   "execution_count": 9,
   "id": "fb94f3ed-a760-4d46-a9db-9d7c220ae832",
   "metadata": {},
   "outputs": [],
   "source": [
    "df[0].to_csv('SDG-GRI-DF.csv')"
   ]
  },
  {
   "cell_type": "code",
   "execution_count": 11,
   "id": "fa609bd0-1142-44bf-a540-953cb34b8b06",
   "metadata": {},
   "outputs": [],
   "source": [
    "# print(tabulate(df[0]))"
   ]
  },
  {
   "cell_type": "markdown",
   "id": "99288de5-8b07-444c-8817-678daa06a770",
   "metadata": {
    "tags": []
   },
   "source": [
    "# Finding links between Frameworks SDG AND GRI"
   ]
  },
  {
   "cell_type": "code",
   "execution_count": 83,
   "id": "98d03703-623c-47e8-bb1e-f531032f247c",
   "metadata": {},
   "outputs": [],
   "source": [
    "df = pd.read_csv('SDG-GRI-DF.csv')\n",
    "# df.head(3)"
   ]
  },
  {
   "cell_type": "code",
   "execution_count": 84,
   "id": "afd9d286-e308-4e9b-8844-d3f061c5046c",
   "metadata": {},
   "outputs": [],
   "source": [
    "df = df.drop(['Unnamed: 0'], axis=1)"
   ]
  },
  {
   "cell_type": "code",
   "execution_count": 85,
   "id": "c22b6389-a91a-4eec-a470-e4b94754a742",
   "metadata": {},
   "outputs": [],
   "source": [
    "df = df.replace(np.nan, '', regex=True)\n",
    "df = df.replace('', np.nan).ffill().bfill()\n"
   ]
  },
  {
   "cell_type": "code",
   "execution_count": 88,
   "id": "bde874e2-bda8-443c-a0bc-ea2b8aac0d06",
   "metadata": {},
   "outputs": [],
   "source": [
    "# df.head(60)"
   ]
  },
  {
   "cell_type": "code",
   "execution_count": 89,
   "id": "5ba0798d-de47-4a46-883f-b906eb1491cf",
   "metadata": {},
   "outputs": [],
   "source": [
    "df = df.groupby(['Target', 'Disclosure'])['Available Business Disclosures'].apply('\\n'.join).reset_index()\n"
   ]
  },
  {
   "cell_type": "code",
   "execution_count": 72,
   "id": "824c7c88-e458-431c-a613-078f2f7476cd",
   "metadata": {},
   "outputs": [],
   "source": [
    "# df_part2 = df.groupby(['Target', 'Disclosure'])['Source'].apply(', \\n'.join).reset_index()"
   ]
  },
  {
   "cell_type": "code",
   "execution_count": 90,
   "id": "d4bfa43b-404c-4e92-9d8b-05af7e47a80f",
   "metadata": {},
   "outputs": [],
   "source": [
    "df = df[[\"Target\", \"Available Business Disclosures\", \"Disclosure\"]]"
   ]
  },
  {
   "cell_type": "code",
   "execution_count": 91,
   "id": "5c996b7e-adf7-44b3-9609-2e2d1d59c1d2",
   "metadata": {},
   "outputs": [],
   "source": [
    "df.to_csv('SDG_GRI.csv')"
   ]
  },
  {
   "cell_type": "code",
   "execution_count": 92,
   "id": "7cfce3b1-2b22-44ee-8de4-525462ddd756",
   "metadata": {},
   "outputs": [
    {
     "ename": "NameError",
     "evalue": "name 'df_part2' is not defined",
     "output_type": "error",
     "traceback": [
      "\u001b[0;31m---------------------------------------------------------------------------\u001b[0m",
      "\u001b[0;31mNameError\u001b[0m                                 Traceback (most recent call last)",
      "\u001b[0;32m/var/folders/j2/64m37fcx0fx_w8wpmhz91lmh0000gn/T/ipykernel_78186/1230502004.py\u001b[0m in \u001b[0;36m<module>\u001b[0;34m\u001b[0m\n\u001b[0;32m----> 1\u001b[0;31m \u001b[0mdf_part2\u001b[0m\u001b[0;34m\u001b[0m\u001b[0;34m\u001b[0m\u001b[0m\n\u001b[0m",
      "\u001b[0;31mNameError\u001b[0m: name 'df_part2' is not defined"
     ]
    }
   ],
   "source": [
    "df_part2"
   ]
  },
  {
   "cell_type": "code",
   "execution_count": null,
   "id": "299ebf23-ecd5-4fa8-87b4-2f91e16c608d",
   "metadata": {},
   "outputs": [],
   "source": [
    "df.head(60)"
   ]
  },
  {
   "cell_type": "code",
   "execution_count": null,
   "id": "2d3d48ce-67c9-4d40-b1c9-43f75102e5d8",
   "metadata": {},
   "outputs": [],
   "source": [
    "df_part1.to_csv('check.csv')"
   ]
  },
  {
   "cell_type": "code",
   "execution_count": null,
   "id": "69b1674c-9749-4434-94e2-457e0eed98f5",
   "metadata": {},
   "outputs": [],
   "source": [
    "df.head(60)"
   ]
  },
  {
   "cell_type": "code",
   "execution_count": null,
   "id": "1e541ff0-fb54-4110-baeb-ca802754c1bf",
   "metadata": {},
   "outputs": [],
   "source": [
    "df.head()"
   ]
  },
  {
   "cell_type": "code",
   "execution_count": 82,
   "id": "c92bfd64-bc71-44a2-a501-dbcf636bcb50",
   "metadata": {},
   "outputs": [
    {
     "data": {
      "text/html": [
       "<div>\n",
       "<style scoped>\n",
       "    .dataframe tbody tr th:only-of-type {\n",
       "        vertical-align: middle;\n",
       "    }\n",
       "\n",
       "    .dataframe tbody tr th {\n",
       "        vertical-align: top;\n",
       "    }\n",
       "\n",
       "    .dataframe thead th {\n",
       "        text-align: right;\n",
       "    }\n",
       "</style>\n",
       "<table border=\"1\" class=\"dataframe\">\n",
       "  <thead>\n",
       "    <tr style=\"text-align: right;\">\n",
       "      <th></th>\n",
       "      <th>Target</th>\n",
       "      <th>Available Business Disclosures</th>\n",
       "      <th>Disclosure</th>\n",
       "    </tr>\n",
       "  </thead>\n",
       "  <tbody>\n",
       "    <tr>\n",
       "      <th>0</th>\n",
       "      <td>1.1</td>\n",
       "      <td>The reporting organization shall report the fo...</td>\n",
       "      <td>207-4</td>\n",
       "    </tr>\n",
       "    <tr>\n",
       "      <th>1</th>\n",
       "      <td>1.2</td>\n",
       "      <td>a.   When a significant proportion of employee...</td>\n",
       "      <td>202-1</td>\n",
       "    </tr>\n",
       "    <tr>\n",
       "      <th>2</th>\n",
       "      <td>1.2</td>\n",
       "      <td>a.   Examples of significant identified indire...</td>\n",
       "      <td>203-2</td>\n",
       "    </tr>\n",
       "    <tr>\n",
       "      <th>3</th>\n",
       "      <td>1.3</td>\n",
       "      <td>a.  A description of the approach to tax, incl...</td>\n",
       "      <td>207-1</td>\n",
       "    </tr>\n",
       "    <tr>\n",
       "      <th>4</th>\n",
       "      <td>1.3</td>\n",
       "      <td>a.  A description of the tax governance and co...</td>\n",
       "      <td>207-2</td>\n",
       "    </tr>\n",
       "    <tr>\n",
       "      <th>...</th>\n",
       "      <td>...</td>\n",
       "      <td>...</td>\n",
       "      <td>...</td>\n",
       "    </tr>\n",
       "    <tr>\n",
       "      <th>593</th>\n",
       "      <td>9.5</td>\n",
       "      <td>Research and development activity and expendit...</td>\n",
       "      <td>Former EU8</td>\n",
       "    </tr>\n",
       "    <tr>\n",
       "      <th>594</th>\n",
       "      <td>9.5</td>\n",
       "      <td>Programs and progress relating to materials st...</td>\n",
       "      <td>MM11</td>\n",
       "    </tr>\n",
       "    <tr>\n",
       "      <th>595</th>\n",
       "      <td>9.5</td>\n",
       "      <td>Total amount invested in renewable energy</td>\n",
       "      <td>OG2</td>\n",
       "    </tr>\n",
       "    <tr>\n",
       "      <th>596</th>\n",
       "      <td>9a</td>\n",
       "      <td>Number, type and impact of physical and techno...</td>\n",
       "      <td>EO13</td>\n",
       "    </tr>\n",
       "    <tr>\n",
       "      <th>597</th>\n",
       "      <td>9a</td>\n",
       "      <td>Stakeholder participation in decision making p...</td>\n",
       "      <td>Former EU19</td>\n",
       "    </tr>\n",
       "  </tbody>\n",
       "</table>\n",
       "<p>598 rows × 3 columns</p>\n",
       "</div>"
      ],
      "text/plain": [
       "    Target                     Available Business Disclosures   Disclosure\n",
       "0      1.1  The reporting organization shall report the fo...        207-4\n",
       "1      1.2  a.   When a significant proportion of employee...        202-1\n",
       "2      1.2  a.   Examples of significant identified indire...        203-2\n",
       "3      1.3  a.  A description of the approach to tax, incl...        207-1\n",
       "4      1.3  a.  A description of the tax governance and co...        207-2\n",
       "..     ...                                                ...          ...\n",
       "593    9.5  Research and development activity and expendit...   Former EU8\n",
       "594    9.5  Programs and progress relating to materials st...         MM11\n",
       "595    9.5          Total amount invested in renewable energy          OG2\n",
       "596     9a  Number, type and impact of physical and techno...         EO13\n",
       "597     9a  Stakeholder participation in decision making p...  Former EU19\n",
       "\n",
       "[598 rows x 3 columns]"
      ]
     },
     "execution_count": 82,
     "metadata": {},
     "output_type": "execute_result"
    }
   ],
   "source": [
    "df"
   ]
  },
  {
   "cell_type": "code",
   "execution_count": null,
   "id": "7cc576d4-e9c7-4f3a-aaa9-c9ce934447e5",
   "metadata": {},
   "outputs": [],
   "source": [
    "df"
   ]
  },
  {
   "cell_type": "code",
   "execution_count": null,
   "id": "a84ad4f4-613c-42c1-9c88-3fb9e897d3c8",
   "metadata": {},
   "outputs": [],
   "source": []
  }
 ],
 "metadata": {
  "kernelspec": {
   "display_name": "ESG-Mapping",
   "language": "python",
   "name": "esg-mapping"
  },
  "language_info": {
   "codemirror_mode": {
    "name": "ipython",
    "version": 3
   },
   "file_extension": ".py",
   "mimetype": "text/x-python",
   "name": "python",
   "nbconvert_exporter": "python",
   "pygments_lexer": "ipython3",
   "version": "3.9.6"
  }
 },
 "nbformat": 4,
 "nbformat_minor": 5
}
