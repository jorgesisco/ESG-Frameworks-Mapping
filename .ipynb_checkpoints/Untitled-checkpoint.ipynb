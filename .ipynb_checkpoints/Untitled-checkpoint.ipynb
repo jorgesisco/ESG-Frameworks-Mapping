{
 "cells": [
  {
   "cell_type": "code",
   "execution_count": 1,
   "id": "3d0b9602-580c-4b7e-96f8-b4a7490be1d7",
   "metadata": {},
   "outputs": [],
   "source": [
    "from tabula import read_pdf\n",
    "from tabulate import tabulate\n",
    "import pandas as pd\n",
    "import numpy as np\n",
    "import re\n",
    "\n",
    "import pdfplumber\n",
    "import openpyxl\n",
    "\n",
    "from Script import ExtractPDFTables"
   ]
  },
  {
   "cell_type": "code",
   "execution_count": null,
   "id": "71ab2621-71c9-4506-a93c-f1826930bf96",
   "metadata": {},
   "outputs": [],
   "source": []
  },
  {
   "cell_type": "code",
   "execution_count": null,
   "id": "d1ed8609-2989-44e1-ac8e-2178f247fd1a",
   "metadata": {},
   "outputs": [],
   "source": []
  },
  {
   "cell_type": "code",
   "execution_count": 2,
   "id": "e2394c58-0bd3-4d38-8ab2-1bab9b28ae63",
   "metadata": {},
   "outputs": [],
   "source": [
    "pdf_path = ['ESG-Frameworks/Mapping-Standards/GRI-COH4B/gri-coh4b.pdf', 'ESG-Frameworks/Mapping-Standards/SDG-GRI/sdg-gri.pdf']\n",
    "firstTablePage = 12\n",
    "table = ExtractPDFTables(pdf_path[0], firstTablePage)"
   ]
  },
  {
   "cell_type": "code",
   "execution_count": 3,
   "id": "d070849b-54f4-4b02-876f-bc53330147c0",
   "metadata": {},
   "outputs": [],
   "source": [
    "df = table.getTables()"
   ]
  },
  {
   "cell_type": "code",
   "execution_count": 5,
   "id": "8ecdb874-f157-4133-8fcb-c66aa8526bf4",
   "metadata": {},
   "outputs": [],
   "source": [
    "rowIndex = 0\n",
    "df = table.setHeaders(df, rowIndex = 0)"
   ]
  },
  {
   "cell_type": "code",
   "execution_count": 7,
   "id": "0ddd61f5-a3b4-4cef-8568-fefd30e475e0",
   "metadata": {},
   "outputs": [],
   "source": [
    "header_1 = 'A. COHBP & \\ndefinition'\n",
    "header_2 = None\n",
    "newHeader_1 = 'id'\n",
    "\n",
    "df = table.headerSwap(df, header_1, header_2, newHeader_1)"
   ]
  },
  {
   "cell_type": "code",
   "execution_count": 9,
   "id": "e45eb0f1-6f0e-4bfc-b2ec-44a673fd34ba",
   "metadata": {},
   "outputs": [],
   "source": [
    "df = table.addDot(df, newHeader_1)"
   ]
  },
  {
   "cell_type": "code",
   "execution_count": null,
   "id": "57ad9e62-1a8d-49da-8f1e-603c509f16d2",
   "metadata": {},
   "outputs": [],
   "source": []
  },
  {
   "cell_type": "code",
   "execution_count": null,
   "id": "de97dada-945b-4f85-8f95-47280b1abb49",
   "metadata": {},
   "outputs": [],
   "source": []
  },
  {
   "cell_type": "code",
   "execution_count": 34,
   "id": "494ab7f4-7b2e-4cd9-b9ea-4a0c6f78b22c",
   "metadata": {},
   "outputs": [],
   "source": [
    "pdf = read_pdf('ESG-Frameworks/Mapping-Standards/TCFD-GRI/TCFD to GRI.pdf', Stream=True, pages = 'all')\n",
    "\n",
    "\n"
   ]
  },
  {
   "cell_type": "code",
   "execution_count": 20,
   "id": "8c7a7f24-7ad1-428d-b461-9959ccd3549c",
   "metadata": {},
   "outputs": [],
   "source": [
    "pdf[0].to_csv('TCFD-GTI-OUTOUT.csv')"
   ]
  },
  {
   "cell_type": "code",
   "execution_count": null,
   "id": "9abf6428-5e09-4e2e-9986-971455bd738d",
   "metadata": {},
   "outputs": [],
   "source": []
  },
  {
   "cell_type": "code",
   "execution_count": null,
   "id": "f2596642-dc82-490b-95aa-5e275571945c",
   "metadata": {},
   "outputs": [],
   "source": []
  },
  {
   "cell_type": "code",
   "execution_count": null,
   "id": "a2fcbfe5-9c39-423d-bf52-1a77771a53e2",
   "metadata": {},
   "outputs": [],
   "source": []
  },
  {
   "cell_type": "code",
   "execution_count": null,
   "id": "85af8f75-529b-409e-ac7d-8b59ff2833af",
   "metadata": {},
   "outputs": [],
   "source": []
  }
 ],
 "metadata": {
  "kernelspec": {
   "display_name": "ESG-Mapping",
   "language": "python",
   "name": "esg-mapping"
  },
  "language_info": {
   "codemirror_mode": {
    "name": "ipython",
    "version": 3
   },
   "file_extension": ".py",
   "mimetype": "text/x-python",
   "name": "python",
   "nbconvert_exporter": "python",
   "pygments_lexer": "ipython3",
   "version": "3.9.6"
  }
 },
 "nbformat": 4,
 "nbformat_minor": 5
}
